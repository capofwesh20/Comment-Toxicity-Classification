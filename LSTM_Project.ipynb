{
  "cells": [
    {
      "cell_type": "markdown",
      "metadata": {
        "id": "view-in-github",
        "colab_type": "text"
      },
      "source": [
        "<a href=\"https://colab.research.google.com/github/capofwesh20/Comment-Toxicity-Classification/blob/main/LSTM_Project.ipynb\" target=\"_parent\"><img src=\"https://colab.research.google.com/assets/colab-badge.svg\" alt=\"Open In Colab\"/></a>"
      ]
    },
    {
      "cell_type": "markdown",
      "metadata": {
        "id": "qLKqFhenPfiA"
      },
      "source": [
        "**Importing Libraries**"
      ]
    },
    {
      "cell_type": "code",
      "execution_count": null,
      "metadata": {
        "id": "k_bInzuPPx7D"
      },
      "outputs": [],
      "source": [
        "%%capture\n",
        "!pip install talos"
      ]
    },
    {
      "cell_type": "code",
      "execution_count": null,
      "metadata": {
        "colab": {
          "base_uri": "https://localhost:8080/"
        },
        "id": "xtatTTg1njX3",
        "outputId": "cc3d1d78-5599-4c66-cd95-4515711a0af7"
      },
      "outputs": [
        {
          "name": "stdout",
          "output_type": "stream",
          "text": [
            "Drive already mounted at /content/drive; to attempt to forcibly remount, call drive.mount(\"/content/drive\", force_remount=True).\n"
          ]
        }
      ],
      "source": [
        "from google.colab import drive\n",
        "drive.mount('/content/drive')"
      ]
    },
    {
      "cell_type": "code",
      "execution_count": null,
      "metadata": {
        "id": "XOongR2EQaN5"
      },
      "outputs": [],
      "source": [
        "from tensorflow.keras.preprocessing.sequence import pad_sequences"
      ]
    },
    {
      "cell_type": "code",
      "execution_count": null,
      "metadata": {
        "colab": {
          "base_uri": "https://localhost:8080/"
        },
        "id": "sgLmSVcvPoLT",
        "outputId": "742dca29-2daa-40f3-b847-1887a214d67a"
      },
      "outputs": [
        {
          "name": "stderr",
          "output_type": "stream",
          "text": [
            "[nltk_data] Downloading package wordnet to /root/nltk_data...\n"
          ]
        }
      ],
      "source": [
        "import numpy as np, pandas as pd\n",
        "import re\n",
        "import spacy\n",
        "from spacy.lang.en import English\n",
        "from spacy.lang.en.stop_words import STOP_WORDS\n",
        "from nltk.tokenize import word_tokenize\n",
        "import nltk\n",
        "from nltk.stem import WordNetLemmatizer\n",
        "nltk.download('wordnet')\n",
        "import string\n",
        "from string import ascii_lowercase\n",
        "\n",
        "from tqdm import tqdm_notebook\n",
        "import itertools\n",
        "import io\n",
        "\n",
        "import matplotlib.pyplot as plt\n",
        "%matplotlib inline\n",
        "\n",
        "from functools import reduce\n",
        "from tensorflow import keras\n",
        "from keras.preprocessing.text import Tokenizer\n",
        "from tensorflow.keras.preprocessing.sequence import pad_sequences\n",
        "from keras.layers import Dense, Input, LSTM, Embedding, Dropout, Activation\n",
        "from keras.layers import Bidirectional, GlobalMaxPool1D\n",
        "from keras.models import Model\n",
        "from keras.models import Sequential\n",
        "from keras.layers import Conv1D, MaxPooling1D\n",
        "from keras.layers import BatchNormalization\n",
        "from keras import initializers, regularizers, constraints, optimizers, layers\n",
        "import talos"
      ]
    },
    {
      "cell_type": "code",
      "execution_count": null,
      "metadata": {
        "id": "0DOQpalMBOT3"
      },
      "outputs": [],
      "source": [
        "train = pd.read_csv('/content/train.csv')\n",
        "test = pd.read_csv('/content/test.csv')\n"
      ]
    },
    {
      "cell_type": "code",
      "execution_count": null,
      "metadata": {
        "colab": {
          "base_uri": "https://localhost:8080/",
          "height": 206
        },
        "id": "aRIixOOqR79f",
        "outputId": "0b5460cc-ebd0-4593-b098-a4b043f2777a"
      },
      "outputs": [
        {
          "data": {
            "text/html": [
              "\n",
              "  <div id=\"df-d88f8d6c-29e5-4fcb-974b-86f7d6446b07\">\n",
              "    <div class=\"colab-df-container\">\n",
              "      <div>\n",
              "<style scoped>\n",
              "    .dataframe tbody tr th:only-of-type {\n",
              "        vertical-align: middle;\n",
              "    }\n",
              "\n",
              "    .dataframe tbody tr th {\n",
              "        vertical-align: top;\n",
              "    }\n",
              "\n",
              "    .dataframe thead th {\n",
              "        text-align: right;\n",
              "    }\n",
              "</style>\n",
              "<table border=\"1\" class=\"dataframe\">\n",
              "  <thead>\n",
              "    <tr style=\"text-align: right;\">\n",
              "      <th></th>\n",
              "      <th>id</th>\n",
              "      <th>comment_text</th>\n",
              "      <th>toxic</th>\n",
              "      <th>severe_toxic</th>\n",
              "      <th>obscene</th>\n",
              "      <th>threat</th>\n",
              "      <th>insult</th>\n",
              "      <th>identity_hate</th>\n",
              "    </tr>\n",
              "  </thead>\n",
              "  <tbody>\n",
              "    <tr>\n",
              "      <th>0</th>\n",
              "      <td>0000997932d777bf</td>\n",
              "      <td>Explanation\\nWhy the edits made under my usern...</td>\n",
              "      <td>0</td>\n",
              "      <td>0</td>\n",
              "      <td>0</td>\n",
              "      <td>0</td>\n",
              "      <td>0</td>\n",
              "      <td>0</td>\n",
              "    </tr>\n",
              "    <tr>\n",
              "      <th>1</th>\n",
              "      <td>000103f0d9cfb60f</td>\n",
              "      <td>D'aww! He matches this background colour I'm s...</td>\n",
              "      <td>0</td>\n",
              "      <td>0</td>\n",
              "      <td>0</td>\n",
              "      <td>0</td>\n",
              "      <td>0</td>\n",
              "      <td>0</td>\n",
              "    </tr>\n",
              "    <tr>\n",
              "      <th>2</th>\n",
              "      <td>000113f07ec002fd</td>\n",
              "      <td>Hey man, I'm really not trying to edit war. It...</td>\n",
              "      <td>0</td>\n",
              "      <td>0</td>\n",
              "      <td>0</td>\n",
              "      <td>0</td>\n",
              "      <td>0</td>\n",
              "      <td>0</td>\n",
              "    </tr>\n",
              "    <tr>\n",
              "      <th>3</th>\n",
              "      <td>0001b41b1c6bb37e</td>\n",
              "      <td>\"\\nMore\\nI can't make any real suggestions on ...</td>\n",
              "      <td>0</td>\n",
              "      <td>0</td>\n",
              "      <td>0</td>\n",
              "      <td>0</td>\n",
              "      <td>0</td>\n",
              "      <td>0</td>\n",
              "    </tr>\n",
              "    <tr>\n",
              "      <th>4</th>\n",
              "      <td>0001d958c54c6e35</td>\n",
              "      <td>You, sir, are my hero. Any chance you remember...</td>\n",
              "      <td>0</td>\n",
              "      <td>0</td>\n",
              "      <td>0</td>\n",
              "      <td>0</td>\n",
              "      <td>0</td>\n",
              "      <td>0</td>\n",
              "    </tr>\n",
              "  </tbody>\n",
              "</table>\n",
              "</div>\n",
              "      <button class=\"colab-df-convert\" onclick=\"convertToInteractive('df-d88f8d6c-29e5-4fcb-974b-86f7d6446b07')\"\n",
              "              title=\"Convert this dataframe to an interactive table.\"\n",
              "              style=\"display:none;\">\n",
              "        \n",
              "  <svg xmlns=\"http://www.w3.org/2000/svg\" height=\"24px\"viewBox=\"0 0 24 24\"\n",
              "       width=\"24px\">\n",
              "    <path d=\"M0 0h24v24H0V0z\" fill=\"none\"/>\n",
              "    <path d=\"M18.56 5.44l.94 2.06.94-2.06 2.06-.94-2.06-.94-.94-2.06-.94 2.06-2.06.94zm-11 1L8.5 8.5l.94-2.06 2.06-.94-2.06-.94L8.5 2.5l-.94 2.06-2.06.94zm10 10l.94 2.06.94-2.06 2.06-.94-2.06-.94-.94-2.06-.94 2.06-2.06.94z\"/><path d=\"M17.41 7.96l-1.37-1.37c-.4-.4-.92-.59-1.43-.59-.52 0-1.04.2-1.43.59L10.3 9.45l-7.72 7.72c-.78.78-.78 2.05 0 2.83L4 21.41c.39.39.9.59 1.41.59.51 0 1.02-.2 1.41-.59l7.78-7.78 2.81-2.81c.8-.78.8-2.07 0-2.86zM5.41 20L4 18.59l7.72-7.72 1.47 1.35L5.41 20z\"/>\n",
              "  </svg>\n",
              "      </button>\n",
              "      \n",
              "  <style>\n",
              "    .colab-df-container {\n",
              "      display:flex;\n",
              "      flex-wrap:wrap;\n",
              "      gap: 12px;\n",
              "    }\n",
              "\n",
              "    .colab-df-convert {\n",
              "      background-color: #E8F0FE;\n",
              "      border: none;\n",
              "      border-radius: 50%;\n",
              "      cursor: pointer;\n",
              "      display: none;\n",
              "      fill: #1967D2;\n",
              "      height: 32px;\n",
              "      padding: 0 0 0 0;\n",
              "      width: 32px;\n",
              "    }\n",
              "\n",
              "    .colab-df-convert:hover {\n",
              "      background-color: #E2EBFA;\n",
              "      box-shadow: 0px 1px 2px rgba(60, 64, 67, 0.3), 0px 1px 3px 1px rgba(60, 64, 67, 0.15);\n",
              "      fill: #174EA6;\n",
              "    }\n",
              "\n",
              "    [theme=dark] .colab-df-convert {\n",
              "      background-color: #3B4455;\n",
              "      fill: #D2E3FC;\n",
              "    }\n",
              "\n",
              "    [theme=dark] .colab-df-convert:hover {\n",
              "      background-color: #434B5C;\n",
              "      box-shadow: 0px 1px 3px 1px rgba(0, 0, 0, 0.15);\n",
              "      filter: drop-shadow(0px 1px 2px rgba(0, 0, 0, 0.3));\n",
              "      fill: #FFFFFF;\n",
              "    }\n",
              "  </style>\n",
              "\n",
              "      <script>\n",
              "        const buttonEl =\n",
              "          document.querySelector('#df-d88f8d6c-29e5-4fcb-974b-86f7d6446b07 button.colab-df-convert');\n",
              "        buttonEl.style.display =\n",
              "          google.colab.kernel.accessAllowed ? 'block' : 'none';\n",
              "\n",
              "        async function convertToInteractive(key) {\n",
              "          const element = document.querySelector('#df-d88f8d6c-29e5-4fcb-974b-86f7d6446b07');\n",
              "          const dataTable =\n",
              "            await google.colab.kernel.invokeFunction('convertToInteractive',\n",
              "                                                     [key], {});\n",
              "          if (!dataTable) return;\n",
              "\n",
              "          const docLinkHtml = 'Like what you see? Visit the ' +\n",
              "            '<a target=\"_blank\" href=https://colab.research.google.com/notebooks/data_table.ipynb>data table notebook</a>'\n",
              "            + ' to learn more about interactive tables.';\n",
              "          element.innerHTML = '';\n",
              "          dataTable['output_type'] = 'display_data';\n",
              "          await google.colab.output.renderOutput(dataTable, element);\n",
              "          const docLink = document.createElement('div');\n",
              "          docLink.innerHTML = docLinkHtml;\n",
              "          element.appendChild(docLink);\n",
              "        }\n",
              "      </script>\n",
              "    </div>\n",
              "  </div>\n",
              "  "
            ],
            "text/plain": [
              "                 id                                       comment_text  toxic  \\\n",
              "0  0000997932d777bf  Explanation\\nWhy the edits made under my usern...      0   \n",
              "1  000103f0d9cfb60f  D'aww! He matches this background colour I'm s...      0   \n",
              "2  000113f07ec002fd  Hey man, I'm really not trying to edit war. It...      0   \n",
              "3  0001b41b1c6bb37e  \"\\nMore\\nI can't make any real suggestions on ...      0   \n",
              "4  0001d958c54c6e35  You, sir, are my hero. Any chance you remember...      0   \n",
              "\n",
              "   severe_toxic  obscene  threat  insult  identity_hate  \n",
              "0             0        0       0       0              0  \n",
              "1             0        0       0       0              0  \n",
              "2             0        0       0       0              0  \n",
              "3             0        0       0       0              0  \n",
              "4             0        0       0       0              0  "
            ]
          },
          "execution_count": 7,
          "metadata": {},
          "output_type": "execute_result"
        }
      ],
      "source": [
        "train.head()"
      ]
    },
    {
      "cell_type": "code",
      "execution_count": null,
      "metadata": {
        "colab": {
          "base_uri": "https://localhost:8080/",
          "height": 206
        },
        "id": "ms-wVOwsPm6F",
        "outputId": "00c78b10-1bcd-4847-fa13-2d347a5303a6"
      },
      "outputs": [
        {
          "data": {
            "text/html": [
              "\n",
              "  <div id=\"df-dd7279cb-1270-46cd-a8ba-9e320d2646d0\">\n",
              "    <div class=\"colab-df-container\">\n",
              "      <div>\n",
              "<style scoped>\n",
              "    .dataframe tbody tr th:only-of-type {\n",
              "        vertical-align: middle;\n",
              "    }\n",
              "\n",
              "    .dataframe tbody tr th {\n",
              "        vertical-align: top;\n",
              "    }\n",
              "\n",
              "    .dataframe thead th {\n",
              "        text-align: right;\n",
              "    }\n",
              "</style>\n",
              "<table border=\"1\" class=\"dataframe\">\n",
              "  <thead>\n",
              "    <tr style=\"text-align: right;\">\n",
              "      <th></th>\n",
              "      <th>id</th>\n",
              "      <th>comment_text</th>\n",
              "    </tr>\n",
              "  </thead>\n",
              "  <tbody>\n",
              "    <tr>\n",
              "      <th>0</th>\n",
              "      <td>00001cee341fdb12</td>\n",
              "      <td>Yo bitch Ja Rule is more succesful then you'll...</td>\n",
              "    </tr>\n",
              "    <tr>\n",
              "      <th>1</th>\n",
              "      <td>0000247867823ef7</td>\n",
              "      <td>== From RfC == \\n\\n The title is fine as it is...</td>\n",
              "    </tr>\n",
              "    <tr>\n",
              "      <th>2</th>\n",
              "      <td>00013b17ad220c46</td>\n",
              "      <td>\" \\n\\n == Sources == \\n\\n * Zawe Ashton on Lap...</td>\n",
              "    </tr>\n",
              "    <tr>\n",
              "      <th>3</th>\n",
              "      <td>00017563c3f7919a</td>\n",
              "      <td>:If you have a look back at the source, the in...</td>\n",
              "    </tr>\n",
              "    <tr>\n",
              "      <th>4</th>\n",
              "      <td>00017695ad8997eb</td>\n",
              "      <td>I don't anonymously edit articles at all.</td>\n",
              "    </tr>\n",
              "  </tbody>\n",
              "</table>\n",
              "</div>\n",
              "      <button class=\"colab-df-convert\" onclick=\"convertToInteractive('df-dd7279cb-1270-46cd-a8ba-9e320d2646d0')\"\n",
              "              title=\"Convert this dataframe to an interactive table.\"\n",
              "              style=\"display:none;\">\n",
              "        \n",
              "  <svg xmlns=\"http://www.w3.org/2000/svg\" height=\"24px\"viewBox=\"0 0 24 24\"\n",
              "       width=\"24px\">\n",
              "    <path d=\"M0 0h24v24H0V0z\" fill=\"none\"/>\n",
              "    <path d=\"M18.56 5.44l.94 2.06.94-2.06 2.06-.94-2.06-.94-.94-2.06-.94 2.06-2.06.94zm-11 1L8.5 8.5l.94-2.06 2.06-.94-2.06-.94L8.5 2.5l-.94 2.06-2.06.94zm10 10l.94 2.06.94-2.06 2.06-.94-2.06-.94-.94-2.06-.94 2.06-2.06.94z\"/><path d=\"M17.41 7.96l-1.37-1.37c-.4-.4-.92-.59-1.43-.59-.52 0-1.04.2-1.43.59L10.3 9.45l-7.72 7.72c-.78.78-.78 2.05 0 2.83L4 21.41c.39.39.9.59 1.41.59.51 0 1.02-.2 1.41-.59l7.78-7.78 2.81-2.81c.8-.78.8-2.07 0-2.86zM5.41 20L4 18.59l7.72-7.72 1.47 1.35L5.41 20z\"/>\n",
              "  </svg>\n",
              "      </button>\n",
              "      \n",
              "  <style>\n",
              "    .colab-df-container {\n",
              "      display:flex;\n",
              "      flex-wrap:wrap;\n",
              "      gap: 12px;\n",
              "    }\n",
              "\n",
              "    .colab-df-convert {\n",
              "      background-color: #E8F0FE;\n",
              "      border: none;\n",
              "      border-radius: 50%;\n",
              "      cursor: pointer;\n",
              "      display: none;\n",
              "      fill: #1967D2;\n",
              "      height: 32px;\n",
              "      padding: 0 0 0 0;\n",
              "      width: 32px;\n",
              "    }\n",
              "\n",
              "    .colab-df-convert:hover {\n",
              "      background-color: #E2EBFA;\n",
              "      box-shadow: 0px 1px 2px rgba(60, 64, 67, 0.3), 0px 1px 3px 1px rgba(60, 64, 67, 0.15);\n",
              "      fill: #174EA6;\n",
              "    }\n",
              "\n",
              "    [theme=dark] .colab-df-convert {\n",
              "      background-color: #3B4455;\n",
              "      fill: #D2E3FC;\n",
              "    }\n",
              "\n",
              "    [theme=dark] .colab-df-convert:hover {\n",
              "      background-color: #434B5C;\n",
              "      box-shadow: 0px 1px 3px 1px rgba(0, 0, 0, 0.15);\n",
              "      filter: drop-shadow(0px 1px 2px rgba(0, 0, 0, 0.3));\n",
              "      fill: #FFFFFF;\n",
              "    }\n",
              "  </style>\n",
              "\n",
              "      <script>\n",
              "        const buttonEl =\n",
              "          document.querySelector('#df-dd7279cb-1270-46cd-a8ba-9e320d2646d0 button.colab-df-convert');\n",
              "        buttonEl.style.display =\n",
              "          google.colab.kernel.accessAllowed ? 'block' : 'none';\n",
              "\n",
              "        async function convertToInteractive(key) {\n",
              "          const element = document.querySelector('#df-dd7279cb-1270-46cd-a8ba-9e320d2646d0');\n",
              "          const dataTable =\n",
              "            await google.colab.kernel.invokeFunction('convertToInteractive',\n",
              "                                                     [key], {});\n",
              "          if (!dataTable) return;\n",
              "\n",
              "          const docLinkHtml = 'Like what you see? Visit the ' +\n",
              "            '<a target=\"_blank\" href=https://colab.research.google.com/notebooks/data_table.ipynb>data table notebook</a>'\n",
              "            + ' to learn more about interactive tables.';\n",
              "          element.innerHTML = '';\n",
              "          dataTable['output_type'] = 'display_data';\n",
              "          await google.colab.output.renderOutput(dataTable, element);\n",
              "          const docLink = document.createElement('div');\n",
              "          docLink.innerHTML = docLinkHtml;\n",
              "          element.appendChild(docLink);\n",
              "        }\n",
              "      </script>\n",
              "    </div>\n",
              "  </div>\n",
              "  "
            ],
            "text/plain": [
              "                 id                                       comment_text\n",
              "0  00001cee341fdb12  Yo bitch Ja Rule is more succesful then you'll...\n",
              "1  0000247867823ef7  == From RfC == \\n\\n The title is fine as it is...\n",
              "2  00013b17ad220c46  \" \\n\\n == Sources == \\n\\n * Zawe Ashton on Lap...\n",
              "3  00017563c3f7919a  :If you have a look back at the source, the in...\n",
              "4  00017695ad8997eb          I don't anonymously edit articles at all."
            ]
          },
          "execution_count": 8,
          "metadata": {},
          "output_type": "execute_result"
        }
      ],
      "source": [
        "test.head()"
      ]
    },
    {
      "cell_type": "markdown",
      "metadata": {
        "id": "yeP2XiF3SUqg"
      },
      "source": [
        "**Data Exploration**"
      ]
    },
    {
      "cell_type": "code",
      "execution_count": null,
      "metadata": {
        "colab": {
          "base_uri": "https://localhost:8080/"
        },
        "id": "vNXkUCxhBZhq",
        "outputId": "b35a7511-f1a5-4212-eb41-7daacf928514"
      },
      "outputs": [
        {
          "data": {
            "text/plain": [
              "id               False\n",
              "comment_text     False\n",
              "toxic            False\n",
              "severe_toxic     False\n",
              "obscene          False\n",
              "threat           False\n",
              "insult           False\n",
              "identity_hate    False\n",
              "dtype: bool"
            ]
          },
          "execution_count": 9,
          "metadata": {},
          "output_type": "execute_result"
        }
      ],
      "source": [
        "train.isnull().any()"
      ]
    },
    {
      "cell_type": "code",
      "execution_count": null,
      "metadata": {
        "colab": {
          "base_uri": "https://localhost:8080/"
        },
        "id": "o2g0Ao7fCap4",
        "outputId": "f0f8f0c4-fa87-4a70-bd61-96d178b296be"
      },
      "outputs": [
        {
          "data": {
            "text/plain": [
              "id              False\n",
              "comment_text    False\n",
              "dtype: bool"
            ]
          },
          "execution_count": 10,
          "metadata": {},
          "output_type": "execute_result"
        }
      ],
      "source": [
        "test.isnull().any()"
      ]
    },
    {
      "cell_type": "code",
      "execution_count": null,
      "metadata": {
        "id": "xK9iclm-Sm9J"
      },
      "outputs": [],
      "source": [
        "labels = ['toxic', 'severe_toxic', 'obscene', 'threat', 'insult', 'identity_hate']\n",
        "y = train[labels].values"
      ]
    },
    {
      "cell_type": "markdown",
      "metadata": {
        "id": "t9UnPKybSzm3"
      },
      "source": [
        "# **Data Pre-processing**"
      ]
    },
    {
      "cell_type": "markdown",
      "metadata": {
        "id": "M7JH0LeiS1-o"
      },
      "source": [
        "**Text Normalization**\n",
        "\n",
        "1. Removing Characters in between Text\n",
        "2. Removing Repeated Characters\n",
        "3. Converting data to lower-case\n",
        "4. Removing Numbers from the data\n",
        "5. Remove Punctuation\n",
        "6. Remove Whitespaces\n",
        "7. Removing spaces in between words\n",
        "8. Removing \"\\n\"\n",
        "9. Remove Non-english characters"
      ]
    },
    {
      "cell_type": "code",
      "execution_count": null,
      "metadata": {
        "id": "SYerz49cSroY"
      },
      "outputs": [],
      "source": [
        "RE_PATTERNS = {\n",
        "    ' american ':\n",
        "        [\n",
        "            'amerikan'\n",
        "        ],\n",
        "\n",
        "    ' adolf ':\n",
        "        [\n",
        "            'adolf'\n",
        "        ],\n",
        "\n",
        "\n",
        "    ' hitler ':\n",
        "        [\n",
        "            'hitler'\n",
        "        ],\n",
        "\n",
        "    ' fuck':\n",
        "        [\n",
        "            '(f)(u|[^a-z0-9 ])(c|[^a-z0-9 ])(k|[^a-z0-9 ])([^ ])*',\n",
        "            '(f)([^a-z]*)(u)([^a-z]*)(c)([^a-z]*)(k)',\n",
        "            ' f[!@#\\$%\\^\\&\\*]*u[!@#\\$%\\^&\\*]*k', 'f u u c',\n",
        "            '(f)(c|[^a-z ])(u|[^a-z ])(k)', r'f\\*',\n",
        "            'feck ', ' fux ', 'f\\*\\*', 'f**k','fu*k',\n",
        "            'f\\-ing', 'f\\.u\\.', 'f###', ' fu ', 'f@ck', 'f u c k', 'f uck', 'f ck'\n",
        "        ],\n",
        "\n",
        "    ' ass ':\n",
        "        [\n",
        "            '[^a-z]ass ', '[^a-z]azz ', 'arrse', ' arse ', '@\\$\\$',\n",
        "            '[^a-z]anus', ' a\\*s\\*s', '[^a-z]ass[^a-z ]',\n",
        "            'a[@#\\$%\\^&\\*][@#\\$%\\^&\\*]', '[^a-z]anal ', 'a s s','a55', '@$$'\n",
        "        ],\n",
        "\n",
        "    ' ass hole ':\n",
        "        [\n",
        "            ' a[s|z]*wipe', 'a[s|z]*[w]*h[o|0]+[l]*e', '@\\$\\$hole', 'a**hole'\n",
        "        ],\n",
        "\n",
        "    ' bitch ':\n",
        "        [\n",
        "            'b[w]*i[t]*ch', 'b!tch',\n",
        "            'bi\\+ch', 'b!\\+ch', '(b)([^a-z]*)(i)([^a-z]*)(t)([^a-z]*)(c)([^a-z]*)(h)',\n",
        "            'biatch', 'bi\\*\\*h', 'bytch', 'b i t c h', 'b!tch', 'bi+ch', 'l3itch'\n",
        "        ],\n",
        "\n",
        "    ' bastard ':\n",
        "        [\n",
        "            'ba[s|z]+t[e|a]+rd'\n",
        "        ],\n",
        "\n",
        "    ' trans gender':\n",
        "        [\n",
        "            'transgender'\n",
        "        ],\n",
        "\n",
        "    ' gay ':\n",
        "        [\n",
        "            'gay'\n",
        "        ],\n",
        "\n",
        "    ' cock ':\n",
        "        [\n",
        "            '[^a-z]cock', 'c0ck', '[^a-z]cok ', 'c0k', '[^a-z]cok[^aeiou]', ' cawk',\n",
        "            '(c)([^a-z ])(o)([^a-z ]*)(c)([^a-z ]*)(k)', 'c o c k'\n",
        "        ],\n",
        "\n",
        "    ' dick ':\n",
        "        [\n",
        "            ' dick[^aeiou]', 'deek', 'd i c k', 'dik'\n",
        "        ],\n",
        "\n",
        "    ' suck ':\n",
        "        [\n",
        "            'sucker', '(s)([^a-z ]*)(u)([^a-z ]*)(c)([^a-z ]*)(k)', 'sucks', '5uck', 's u c k'\n",
        "        ],\n",
        "\n",
        "    ' cunt ':\n",
        "        [\n",
        "            'cunt', 'c u n t'\n",
        "        ],\n",
        "\n",
        "    ' bull shit ':\n",
        "        [\n",
        "            'bullsh\\*t', 'bull\\$hit'\n",
        "        ],\n",
        "\n",
        "    ' homo sex ual':\n",
        "        [\n",
        "            'homosexual'\n",
        "        ],\n",
        "\n",
        "    ' jerk ':\n",
        "        [\n",
        "            'jerk'\n",
        "        ],\n",
        "\n",
        "    ' idiot ':\n",
        "        [\n",
        "            'i[d]+io[t]+', '(i)([^a-z ]*)(d)([^a-z ]*)(i)([^a-z ]*)(o)([^a-z ]*)(t)', 'idiots'\n",
        "                                                                                      'i d i o t'\n",
        "        ],\n",
        "\n",
        "    ' dumb ':\n",
        "        [\n",
        "            '(d)([^a-z ]*)(u)([^a-z ]*)(m)([^a-z ]*)(b)'\n",
        "        ],\n",
        "\n",
        "    ' shit ':\n",
        "        [\n",
        "            'shitty', '(s)([^a-z ]*)(h)([^a-z ]*)(i)([^a-z ]*)(t)', 'shite', '\\$hit', 's h i t', '$h1t'\n",
        "        ],\n",
        "\n",
        "    ' shit hole ':\n",
        "        [\n",
        "            'shythole'\n",
        "        ],\n",
        "\n",
        "    ' retard ':\n",
        "        [\n",
        "            'returd', 'retad', 'retard', 'wiktard', 'wikitud'\n",
        "        ],\n",
        "\n",
        "    ' rape ':\n",
        "        [\n",
        "            ' raped'\n",
        "        ],\n",
        "\n",
        "    ' dumb ass':\n",
        "        [\n",
        "            'dumbass', 'dubass'\n",
        "        ],\n",
        "\n",
        "    ' ass head':\n",
        "        [\n",
        "            'butthead'\n",
        "        ],\n",
        "\n",
        "    ' sex ':\n",
        "        [\n",
        "            'sexy', 's3x', 'sexuality'\n",
        "        ],\n",
        "\n",
        "\n",
        "    ' nigger ':\n",
        "        [\n",
        "            'nigger', 'ni[g]+a', ' nigr ', 'negrito', 'niguh', 'n3gr', 'n i g g e r'\n",
        "        ],\n",
        "\n",
        "    ' shut the fuck up':\n",
        "        [\n",
        "            'stfu', 'st*u'\n",
        "        ],\n",
        "\n",
        "    ' pussy ':\n",
        "        [\n",
        "            'pussy[^c]', 'pusy', 'pussi[^l]', 'pusses', 'p*ssy'\n",
        "        ],\n",
        "\n",
        "    ' faggot ':\n",
        "        [\n",
        "            'faggot', ' fa[g]+[s]*[^a-z ]', 'fagot', 'f a g g o t', 'faggit',\n",
        "            '(f)([^a-z ]*)(a)([^a-z ]*)([g]+)([^a-z ]*)(o)([^a-z ]*)(t)', 'fau[g]+ot', 'fae[g]+ot',\n",
        "        ],\n",
        "\n",
        "    ' mother fucker':\n",
        "        [\n",
        "            ' motha ', ' motha f', ' mother f', 'motherucker',\n",
        "        ],\n",
        "\n",
        "    ' whore ':\n",
        "        [\n",
        "            'wh\\*\\*\\*', 'w h o r e'\n",
        "        ],\n",
        "    ' fucking ':\n",
        "        [\n",
        "            'f*$%-ing'\n",
        "        ],\n",
        "}\n"
      ]
    },
    {
      "cell_type": "code",
      "execution_count": null,
      "metadata": {
        "id": "kuBE11-oT16r"
      },
      "outputs": [],
      "source": [
        "def clean_text(text,remove_repeat_text=True, remove_patterns_text=True, is_lower=True):\n",
        "\n",
        "  if is_lower:\n",
        "    text=text.lower()\n",
        "    \n",
        "  if remove_patterns_text:\n",
        "    for target, patterns in RE_PATTERNS.items():\n",
        "      for pat in patterns:\n",
        "        text=str(text).replace(pat, target)\n",
        "\n",
        "  if remove_repeat_text:\n",
        "    text = re.sub(r'(.)\\1{2,}', r'\\1', text) \n",
        "\n",
        "  text = str(text).replace(\"\\n\", \" \")\n",
        "  text = re.sub(r'[^\\w\\s]',' ',text)\n",
        "  text = re.sub('[0-9]',\"\",text)\n",
        "  text = re.sub(\" +\", \" \", text)\n",
        "  text = re.sub(\"([^\\x00-\\x7F])+\",\" \",text)\n",
        "  return text "
      ]
    },
    {
      "cell_type": "markdown",
      "metadata": {
        "id": "sAo6Rzo0SS1m"
      },
      "source": [
        "**Cleaning Training Data**"
      ]
    },
    {
      "cell_type": "code",
      "execution_count": null,
      "metadata": {
        "colab": {
          "base_uri": "https://localhost:8080/",
          "height": 36
        },
        "id": "IK1H9Lp9C5w1",
        "outputId": "408c39bf-0b0d-4808-fc4d-68c1fdab3f1d"
      },
      "outputs": [
        {
          "data": {
            "application/vnd.google.colaboratory.intrinsic+json": {
              "type": "string"
            },
            "text/plain": [
              "'d aww he matches this background colour i m seemingly stuck with thanks talk january utc '"
            ]
          },
          "execution_count": 14,
          "metadata": {},
          "output_type": "execute_result"
        }
      ],
      "source": [
        "train['comment_text']=train['comment_text'].apply(lambda x: clean_text(x))\n",
        "train['comment_text'][1]"
      ]
    },
    {
      "cell_type": "markdown",
      "metadata": {
        "id": "EAhz7DhHDKWn"
      },
      "source": [
        "Cleaning Test Data"
      ]
    },
    {
      "cell_type": "code",
      "execution_count": null,
      "metadata": {
        "colab": {
          "base_uri": "https://localhost:8080/",
          "height": 36
        },
        "id": "gfPB-83HDLmO",
        "outputId": "604a701a-d9db-487c-a171-f31c3ab38f7c"
      },
      "outputs": [
        {
          "data": {
            "application/vnd.google.colaboratory.intrinsic+json": {
              "type": "string"
            },
            "text/plain": [
              "'this is a university ip address just fyi '"
            ]
          },
          "execution_count": 15,
          "metadata": {},
          "output_type": "execute_result"
        }
      ],
      "source": [
        "test['comment_text']=test['comment_text'].apply(lambda x: clean_text(x))\n",
        "test['comment_text'][1048]"
      ]
    },
    {
      "cell_type": "markdown",
      "metadata": {
        "id": "v0HZn1CSUkm9"
      },
      "source": [
        "**Lemmatization**"
      ]
    },
    {
      "cell_type": "code",
      "execution_count": null,
      "metadata": {
        "id": "JEPP27m2Umds"
      },
      "outputs": [],
      "source": [
        "comments_train=train['comment_text']\n",
        "comments_test=test['comment_text']"
      ]
    },
    {
      "cell_type": "code",
      "execution_count": null,
      "metadata": {
        "id": "KaWj44seEnKV"
      },
      "outputs": [],
      "source": [
        "comments_train=list(comments_train)\n",
        "comments_test=list(comments_test)"
      ]
    },
    {
      "cell_type": "code",
      "execution_count": null,
      "metadata": {
        "id": "T_nZUus-ERoH"
      },
      "outputs": [],
      "source": [
        "wordnet_lemmatizer = WordNetLemmatizer()"
      ]
    },
    {
      "cell_type": "code",
      "execution_count": null,
      "metadata": {
        "id": "pKRCGozQEsc_"
      },
      "outputs": [],
      "source": [
        "def lemma(text, lemmatization=True):\n",
        "  output=\"\"\n",
        "  if lemmatization:\n",
        "    text=text.split(\" \")\n",
        "    for word in text:\n",
        "       word1 = wordnet_lemmatizer.lemmatize(word, pos = \"n\")\n",
        "       word2 = wordnet_lemmatizer.lemmatize(word1, pos = \"v\")\n",
        "       word3 = wordnet_lemmatizer.lemmatize(word2, pos = \"a\")\n",
        "       word4 = wordnet_lemmatizer.lemmatize(word3, pos = \"r\")\n",
        "       output=output + \" \" + word4\n",
        "  else:\n",
        "    output=text\n",
        "  \n",
        "  return str(output.strip()) "
      ]
    },
    {
      "cell_type": "markdown",
      "metadata": {
        "id": "Q-yT2hfpU3fI"
      },
      "source": [
        "**Lemmatizing Training Data**"
      ]
    },
    {
      "cell_type": "code",
      "execution_count": null,
      "metadata": {
        "colab": {
          "base_uri": "https://localhost:8080/",
          "height": 49,
          "referenced_widgets": [
            "f62888927d654c5ea61760da2c165f5a",
            "36235162424f4f1a9c42167512ddc8e3",
            "ff4c3270d34e4274b528de83000464e0",
            "1066ab0864894437800b76e5c33f0d94",
            "d3f6ce47122848d1aa8fa7b36bbea355",
            "1784c15299844c4fa88a3b62fffaf33a",
            "5ba06c2761164041bf09f9f30ccd9c48",
            "388492fe9fd0433da665a6b3881beb8b",
            "f27570afc84e417b8f0a337ea178baee",
            "90474bb4d95a44dcb161bb4e007a0a2a",
            "626ca1317c574bc99dddce9e53469fb1"
          ]
        },
        "id": "dnpPkCS6UysQ",
        "outputId": "3425167c-5296-4c14-c01e-3e0bb3ba5d0c"
      },
      "outputs": [
        {
          "data": {
            "application/vnd.jupyter.widget-view+json": {
              "model_id": "f62888927d654c5ea61760da2c165f5a",
              "version_major": 2,
              "version_minor": 0
            },
            "text/plain": [
              "  0%|          | 0/159571 [00:00<?, ?it/s]"
            ]
          },
          "metadata": {},
          "output_type": "display_data"
        }
      ],
      "source": [
        "lemmatized_train_data = [] \n",
        "\n",
        "for line in tqdm_notebook(comments_train, total=159571): \n",
        "    lemmatized_train_data.append(lemma(line))"
      ]
    },
    {
      "cell_type": "markdown",
      "metadata": {
        "id": "UXqz9IPGU_mJ"
      },
      "source": [
        "**Lemmatizing Test Data**"
      ]
    },
    {
      "cell_type": "code",
      "execution_count": null,
      "metadata": {
        "colab": {
          "base_uri": "https://localhost:8080/",
          "height": 49,
          "referenced_widgets": [
            "2d476c21aa434f0492ead7c37685b976",
            "9b51079c4a68433db083305e2f82c56e",
            "c13c1a5c7799498583ac9c1ae76a6e63",
            "5e98e50863de43968ebdf2341109b18b",
            "2b95ee60b1cf49df80f48085cec9b125",
            "19050a6d9374408395f559f075148422",
            "055919607d2e46208d88aefc9790c552",
            "f986292915504bb7b4cfe8a416e2f3af",
            "c911e6fadfcd463c821cc43f0af06c6e",
            "7734569ed3fa46548fb1db8089887f02",
            "b471ca208d2842af953b83498545be70"
          ]
        },
        "id": "pJ7_CWnOFErE",
        "outputId": "cdeab7c1-fbde-4f4b-a58e-9434c3e18130"
      },
      "outputs": [
        {
          "data": {
            "application/vnd.jupyter.widget-view+json": {
              "model_id": "2d476c21aa434f0492ead7c37685b976",
              "version_major": 2,
              "version_minor": 0
            },
            "text/plain": [
              "  0%|          | 0/153164 [00:00<?, ?it/s]"
            ]
          },
          "metadata": {},
          "output_type": "display_data"
        }
      ],
      "source": [
        "lemmatized_test_data = [] \n",
        "\n",
        "for line in tqdm_notebook(comments_test, total=len(comments_test)): \n",
        "    lemmatized_test_data.append(lemma(line))"
      ]
    },
    {
      "cell_type": "markdown",
      "metadata": {
        "id": "hGt_TzYBVGNh"
      },
      "source": [
        "**Stopwords Removal**"
      ]
    },
    {
      "cell_type": "code",
      "execution_count": null,
      "metadata": {
        "id": "ZeC4QU-YFPbr"
      },
      "outputs": [],
      "source": [
        "stopword_list=STOP_WORDS"
      ]
    },
    {
      "cell_type": "markdown",
      "metadata": {
        "id": "LXlI3liqVRTB"
      },
      "source": [
        "**Adding Single and Dual to STOP_WORDS**"
      ]
    },
    {
      "cell_type": "code",
      "execution_count": null,
      "metadata": {
        "id": "wXPmAhI7VTsi"
      },
      "outputs": [],
      "source": [
        "def iter_all_strings():\n",
        "    for size in itertools.count(1):\n",
        "        for s in itertools.product(ascii_lowercase, repeat=size):\n",
        "            yield \"\".join(s)\n",
        "\n",
        "dual_alpha_list=[]\n",
        "for s in iter_all_strings():\n",
        "    dual_alpha_list.append(s)\n",
        "    if s == 'zz':\n",
        "        break"
      ]
    },
    {
      "cell_type": "code",
      "execution_count": null,
      "metadata": {
        "id": "EWYGQq6-FkQX"
      },
      "outputs": [],
      "source": [
        "dual_alpha_list.remove('i')\n",
        "dual_alpha_list.remove('a')\n",
        "dual_alpha_list.remove('am')\n",
        "dual_alpha_list.remove('an')\n",
        "dual_alpha_list.remove('as')\n",
        "dual_alpha_list.remove('at')\n",
        "dual_alpha_list.remove('be')\n",
        "dual_alpha_list.remove('by')\n",
        "dual_alpha_list.remove('do')\n",
        "dual_alpha_list.remove('go')\n",
        "dual_alpha_list.remove('he')\n",
        "dual_alpha_list.remove('hi')\n",
        "dual_alpha_list.remove('if')\n",
        "dual_alpha_list.remove('is')\n",
        "dual_alpha_list.remove('in')\n",
        "dual_alpha_list.remove('me')\n",
        "dual_alpha_list.remove('my')\n",
        "dual_alpha_list.remove('no')\n",
        "dual_alpha_list.remove('of')\n",
        "dual_alpha_list.remove('on')\n",
        "dual_alpha_list.remove('or')\n",
        "dual_alpha_list.remove('ok')\n",
        "dual_alpha_list.remove('so')\n",
        "dual_alpha_list.remove('to')\n",
        "dual_alpha_list.remove('up')\n",
        "dual_alpha_list.remove('us')\n",
        "dual_alpha_list.remove('we')"
      ]
    },
    {
      "cell_type": "code",
      "execution_count": null,
      "metadata": {
        "colab": {
          "base_uri": "https://localhost:8080/"
        },
        "id": "g6S_WslPFn67",
        "outputId": "121b1c50-d64d-4bf6-c4b6-f6aeab887e3a"
      },
      "outputs": [
        {
          "name": "stdout",
          "output_type": "stream",
          "text": [
            "Done!!\n"
          ]
        }
      ],
      "source": [
        "for letter in dual_alpha_list:\n",
        "    stopword_list.add(letter)\n",
        "print(\"Done!!\")"
      ]
    },
    {
      "cell_type": "markdown",
      "metadata": {
        "id": "h0d4aUwNVxhn"
      },
      "source": [
        "**Checking for other words that we may need in STOP_WORDS**"
      ]
    },
    {
      "cell_type": "code",
      "execution_count": null,
      "metadata": {
        "id": "YuXxVxySV0S_"
      },
      "outputs": [],
      "source": [
        "def search_stopwords(data, search_stop=True):\n",
        "  output=\"\"\n",
        "  if search_stop:\n",
        "    data=data.split(\" \")\n",
        "    for word in data:\n",
        "      if not word in stopword_list:\n",
        "        output=output+\" \"+word \n",
        "  else:\n",
        "    output=data\n",
        "\n",
        "  return str(output.strip())  "
      ]
    },
    {
      "cell_type": "code",
      "execution_count": null,
      "metadata": {
        "colab": {
          "base_uri": "https://localhost:8080/",
          "height": 49,
          "referenced_widgets": [
            "67477e3fdd0e47b4b63b796385ed7baa",
            "000639650e3b465c8413de569369355e",
            "f1caad4b70ff43999a0eaee15a1c01a0",
            "13ef4ea7544046e49b8ba9b674a40d68",
            "2b8c0ff3aa1b4b4aa646a178d609b847",
            "c57b88578de04ef4b643adef1bdb14f6",
            "7ee542c849c24fc5b06c6ac712285ddc",
            "b8487f747403483e97faf5843fa8d5b3",
            "fa89c2bd38bc4464a337c5737f403d36",
            "c7615a14fcfb40a6a0891c8a264fabe4",
            "126b5f6b3cee4243829fe381bf2e93bc"
          ]
        },
        "id": "_JSd0ZE5V-gh",
        "outputId": "c7a72984-abad-428a-a433-c9c9be52bbc7"
      },
      "outputs": [
        {
          "data": {
            "application/vnd.jupyter.widget-view+json": {
              "model_id": "67477e3fdd0e47b4b63b796385ed7baa",
              "version_major": 2,
              "version_minor": 0
            },
            "text/plain": [
              "  0%|          | 0/159571 [00:00<?, ?it/s]"
            ]
          },
          "metadata": {},
          "output_type": "display_data"
        }
      ],
      "source": [
        "potential_stopwords = [] \n",
        "\n",
        "for line in tqdm_notebook(lemmatized_train_data, total=159571): \n",
        "    potential_stopwords.append(search_stopwords(line))"
      ]
    },
    {
      "cell_type": "code",
      "execution_count": null,
      "metadata": {
        "colab": {
          "base_uri": "https://localhost:8080/"
        },
        "id": "17CROa0fF88P",
        "outputId": "3f5be332-02fd-4a8b-b35c-3fae85a0d646"
      },
      "outputs": [
        {
          "data": {
            "text/plain": [
              "159571"
            ]
          },
          "execution_count": 32,
          "metadata": {},
          "output_type": "execute_result"
        }
      ],
      "source": [
        "len(potential_stopwords)"
      ]
    },
    {
      "cell_type": "markdown",
      "metadata": {
        "id": "FtS657ZIWvQb"
      },
      "source": [
        "**Combining all the sentences in the list into a single string**"
      ]
    },
    {
      "cell_type": "code",
      "execution_count": null,
      "metadata": {
        "id": "by7o6T5IGDoe"
      },
      "outputs": [],
      "source": [
        "def string_combine_a(stopword):\n",
        "  final_a=\"\"\n",
        "  for item in range(39893):\n",
        "    final_a=final_a+\" \"+stopword[item]\n",
        "  return final_a\n",
        "\n",
        "def string_combine_b(stopword):\n",
        "  final_b=\"\"\n",
        "  for item in range(39893,79785):\n",
        "    final_b=final_b+\" \"+stopword[item]\n",
        "  return final_b\n",
        "\n",
        "def string_combine_c(stopword):\n",
        "  final_c=\"\"\n",
        "  for item in range(79785,119678):\n",
        "    final_c=final_c+\" \"+stopword[item]\n",
        "  return final_c\n",
        "\n",
        "def string_combine_d(stopword):\n",
        "  final_d=\"\"\n",
        "  for item in range(119678,159571):\n",
        "    final_d=final_d+\" \"+stopword[item]\n",
        "  return final_d"
      ]
    },
    {
      "cell_type": "code",
      "execution_count": null,
      "metadata": {
        "id": "6sfBmPmyYCwW"
      },
      "outputs": [],
      "source": [
        "total_string_potential_a=string_combine_a(potential_stopwords)\n",
        "total_string_potential_b=string_combine_b(potential_stopwords)\n",
        "total_string_potential_c=string_combine_c(potential_stopwords)\n",
        "total_string_potential_d=string_combine_d(potential_stopwords)"
      ]
    },
    {
      "cell_type": "markdown",
      "metadata": {
        "id": "jYDkgJ-6YNiP"
      },
      "source": [
        "Counting the number of words in each of the 4 strings"
      ]
    },
    {
      "cell_type": "code",
      "execution_count": null,
      "metadata": {
        "id": "zMVdsKnLYPgq"
      },
      "outputs": [],
      "source": [
        "def word_count(str):\n",
        "    counts = dict()\n",
        "    words = str.split()\n",
        "\n",
        "    for word in words:\n",
        "        if word in counts:\n",
        "            counts[word] += 1\n",
        "        else:\n",
        "            counts[word] = 1\n",
        "\n",
        "    return counts"
      ]
    },
    {
      "cell_type": "code",
      "execution_count": null,
      "metadata": {
        "id": "oP3gMnZJYQye"
      },
      "outputs": [],
      "source": [
        "total_string_potential_a_dict=word_count(total_string_potential_a)\n",
        "total_string_potential_b_dict=word_count(total_string_potential_b)\n",
        "total_string_potential_c_dict=word_count(total_string_potential_c)\n",
        "total_string_potential_d_dict=word_count(total_string_potential_d)"
      ]
    },
    {
      "cell_type": "markdown",
      "metadata": {
        "id": "ZHlPXm66YhWz"
      },
      "source": [
        "**Converting Dictionaries to Dataframe**"
      ]
    },
    {
      "cell_type": "code",
      "execution_count": null,
      "metadata": {
        "id": "q9Wc2g97Yk65"
      },
      "outputs": [],
      "source": [
        "total_string_potential_a_df = pd.DataFrame(list(total_string_potential_a_dict.items()),columns = ['Word','Count'])\n",
        "total_string_potential_b_df = pd.DataFrame(list(total_string_potential_b_dict.items()),columns = ['Word','Count'])\n",
        "total_string_potential_c_df = pd.DataFrame(list(total_string_potential_c_dict.items()),columns = ['Word','Count'])\n",
        "total_string_potential_d_df = pd.DataFrame(list(total_string_potential_d_dict.items()),columns = ['Word','Count'])"
      ]
    },
    {
      "cell_type": "markdown",
      "metadata": {
        "id": "ywDN2BxtYrtW"
      },
      "source": [
        "**Getting Dataframe output in descending order**"
      ]
    },
    {
      "cell_type": "code",
      "execution_count": null,
      "metadata": {
        "id": "tl93A2GZYnih"
      },
      "outputs": [],
      "source": [
        "top50_potential_stopwords_a=total_string_potential_a_df.sort_values(by=['Count'],ascending=False).head(50)\n",
        "top50_potential_stopwords_b=total_string_potential_b_df.sort_values(by=['Count'],ascending=False).head(50)\n",
        "top50_potential_stopwords_c=total_string_potential_c_df.sort_values(by=['Count'],ascending=False).head(50)\n",
        "top50_potential_stopwords_d=total_string_potential_d_df.sort_values(by=['Count'],ascending=False).head(50)"
      ]
    },
    {
      "cell_type": "markdown",
      "metadata": {
        "id": "FvuUfuarY1Ib"
      },
      "source": [
        "**Looking for common terms in all top 50 dataframes**"
      ]
    },
    {
      "cell_type": "code",
      "execution_count": null,
      "metadata": {
        "id": "bo75wUV9GM2f"
      },
      "outputs": [],
      "source": [
        "common_potential_stopwords=list(reduce(set.intersection,map(set,[top50_potential_stopwords_a.Word,top50_potential_stopwords_b.Word,top50_potential_stopwords_c.Word,top50_potential_stopwords_d.Word])))"
      ]
    },
    {
      "cell_type": "code",
      "execution_count": null,
      "metadata": {
        "colab": {
          "base_uri": "https://localhost:8080/"
        },
        "id": "tk9vvq5eYzSq",
        "outputId": "4c4a0f59-2c54-4c78-bdab-ff5bd87c8a54"
      },
      "outputs": [
        {
          "name": "stdout",
          "output_type": "stream",
          "text": [
            "['fact', 'time', 'comment', 'good', 'block', 'people', 'fuck', 'delete', 'information', 'thing', 'edit', 'reference', 'new', 'use', 'talk', 'don', 'change', 'need', 'list', 'read', 'find', 'question', 'help', 'thank', 'way', 'image', 'point', 'think', 'try', 'wikipedia', 'mean', 'article', 'editor', 'deletion', 'like', 'want', 'remove', 'source', 'work', 'doe', 'page', 'look', 'write', 'know', 'add', 'link', 'user', 'section']\n"
          ]
        }
      ],
      "source": [
        "print(common_potential_stopwords)"
      ]
    },
    {
      "cell_type": "markdown",
      "metadata": {
        "id": "Hr0DoSchZLXP"
      },
      "source": [
        "**Retaining certain words and removing others from the above list**"
      ]
    },
    {
      "cell_type": "code",
      "execution_count": null,
      "metadata": {
        "id": "GTxmxCrKIGYB"
      },
      "outputs": [],
      "source": [
        "potential_stopwords=['editor', 'reference', 'thank', 'work','find', 'good', 'know', 'like', 'look', 'thing', 'want', 'time', 'list', 'section','wikipedia', 'doe', 'add','new', 'try', 'think', 'write','use', 'user', 'way', 'page']"
      ]
    },
    {
      "cell_type": "markdown",
      "metadata": {
        "id": "eyxM2jYcZSSx"
      },
      "source": [
        "**Adding above retrived words into the stopwords list**"
      ]
    },
    {
      "cell_type": "code",
      "execution_count": null,
      "metadata": {
        "colab": {
          "base_uri": "https://localhost:8080/"
        },
        "id": "s2h0QXwKZUv7",
        "outputId": "9d7302e9-47a1-4aaa-fadc-29d2df105c48"
      },
      "outputs": [
        {
          "name": "stdout",
          "output_type": "stream",
          "text": [
            "Done!!\n"
          ]
        }
      ],
      "source": [
        "for word in potential_stopwords:\n",
        "    stopword_list.add(word)\n",
        "print(\"Done!!\")"
      ]
    },
    {
      "cell_type": "markdown",
      "metadata": {
        "id": "jdb_kYRhZXV9"
      },
      "source": [
        "\n",
        "Removing Stopwords from Training Data **bold text**"
      ]
    },
    {
      "cell_type": "code",
      "execution_count": null,
      "metadata": {
        "id": "UBcoBa5qZbAc"
      },
      "outputs": [],
      "source": [
        "def remove_stopwords(text, remove_stop=True):\n",
        "  output = \"\"\n",
        "  if remove_stop:\n",
        "    text=text.split(\" \")\n",
        "    for word in text:\n",
        "      if word not in stopword_list:\n",
        "        output=output + \" \" + word\n",
        "  else :\n",
        "    output=text\n",
        "\n",
        "  return str(output.strip())      "
      ]
    },
    {
      "cell_type": "code",
      "execution_count": null,
      "metadata": {
        "colab": {
          "base_uri": "https://localhost:8080/",
          "height": 85,
          "referenced_widgets": [
            "908dfa2160694b4ebda6231f415117f7",
            "4c617395116242848652e2417e40daf9",
            "58449319696f4f93aabc11cbd0c6d242",
            "f1a85184210a4c3e9aef32c257c345d1",
            "021a812f17714608855a998925e820d0",
            "84a6dfa5c0e64bad8a0032d15a9d6bee",
            "43b8abab217a4356bfade018a3865b12",
            "f8e3fe14db50435f80bd3118553577b5",
            "dcc84875a22b4d3abe93c80935500fab",
            "0bd55804cd2a4be3a95d039475b9e634",
            "b4c31bbad4974d8195b0a3b4f57cffe8"
          ]
        },
        "id": "mzn2HOsRZd3X",
        "outputId": "503a4321-16a3-4a67-b48a-5f37ca9fe3f6"
      },
      "outputs": [
        {
          "data": {
            "application/vnd.jupyter.widget-view+json": {
              "model_id": "908dfa2160694b4ebda6231f415117f7",
              "version_major": 2,
              "version_minor": 0
            },
            "text/plain": [
              "  0%|          | 0/159571 [00:00<?, ?it/s]"
            ]
          },
          "metadata": {},
          "output_type": "display_data"
        },
        {
          "data": {
            "application/vnd.google.colaboratory.intrinsic+json": {
              "type": "string"
            },
            "text/plain": [
              "'agree graemel intention revert nazi protect report revert rule notice board post report revert nazi graemel revert nazi unacceptable site admins feel unjustly revert hour period report revert noticeboard'"
            ]
          },
          "execution_count": 44,
          "metadata": {},
          "output_type": "execute_result"
        }
      ],
      "source": [
        "processed_train_data = [] \n",
        "\n",
        "for line in tqdm_notebook(lemmatized_train_data, total=159571): \n",
        "    processed_train_data.append(remove_stopwords(line))\n",
        "\n",
        "processed_train_data[152458]"
      ]
    },
    {
      "cell_type": "markdown",
      "metadata": {
        "id": "xiwtszCTZkm7"
      },
      "source": [
        "**Removing Stopwords from Test Data**"
      ]
    },
    {
      "cell_type": "code",
      "execution_count": null,
      "metadata": {
        "colab": {
          "base_uri": "https://localhost:8080/",
          "height": 49,
          "referenced_widgets": [
            "6bef07e84dcf4b96b7a9eeec5b72e6ca",
            "a17f3d7baf17403e9b217630bd00c291",
            "26eede6ed25c4c83b876318f2d778ab9",
            "8aa07da62ae7416ba721a5a287f6295e",
            "3e1fc0687be94de8a6a6ffb7b8bc59f7",
            "f0ea9dca8a424783938200895b2e7363",
            "0540bb78f5394bcf933ef46d9582e1c9",
            "6ad856ddf34e46449c456f79e8078a7e",
            "f4f010e1f9d841f29ea542c9db7375dc",
            "c39e33704916445b9af2cf7a510c34dd",
            "c4ee8871c1354ad2a10e7ffc16830bf9"
          ]
        },
        "id": "m_FEAzP1IjpM",
        "outputId": "ac2b2b7c-ac06-4f45-c0eb-298a95673f29"
      },
      "outputs": [
        {
          "data": {
            "application/vnd.jupyter.widget-view+json": {
              "model_id": "6bef07e84dcf4b96b7a9eeec5b72e6ca",
              "version_major": 2,
              "version_minor": 0
            },
            "text/plain": [
              "  0%|          | 0/153164 [00:00<?, ?it/s]"
            ]
          },
          "metadata": {},
          "output_type": "display_data"
        }
      ],
      "source": [
        "processed_test_data = [] \n",
        "\n",
        "for line in tqdm_notebook(lemmatized_test_data, total=153164): \n",
        "    processed_test_data.append(remove_stopwords(line))"
      ]
    },
    {
      "cell_type": "code",
      "execution_count": null,
      "metadata": {
        "colab": {
          "base_uri": "https://localhost:8080/",
          "height": 36
        },
        "id": "YwG6_77sI-ZB",
        "outputId": "b2d193c8-ef5e-4a81-9b38-fa3fd2d50487"
      },
      "outputs": [
        {
          "data": {
            "application/vnd.google.colaboratory.intrinsic+json": {
              "type": "string"
            },
            "text/plain": [
              "'need help'"
            ]
          },
          "execution_count": 46,
          "metadata": {},
          "output_type": "execute_result"
        }
      ],
      "source": [
        "processed_test_data[1528]"
      ]
    },
    {
      "cell_type": "markdown",
      "metadata": {
        "id": "iYQ2puJ5JtDM"
      },
      "source": [
        "**Model building**"
      ]
    },
    {
      "cell_type": "code",
      "execution_count": null,
      "metadata": {
        "id": "bOdPVEaab0k3"
      },
      "outputs": [],
      "source": [
        "max_features=100000      \n",
        "maxpadlen = 200          \n",
        "val_split = 0.2      \n",
        "embedding_dim_fasttext = 300"
      ]
    },
    {
      "cell_type": "markdown",
      "metadata": {
        "id": "VSiuuKgScR3k"
      },
      "source": [
        "**Tokenization**"
      ]
    },
    {
      "cell_type": "code",
      "execution_count": null,
      "metadata": {
        "id": "ZOt9p7CDJr8K"
      },
      "outputs": [],
      "source": [
        "tokenizer = Tokenizer(num_words=max_features)\n",
        "tokenizer.fit_on_texts(list(processed_train_data))\n",
        "list_tokenized_train = tokenizer.texts_to_sequences(processed_train_data)\n",
        "list_tokenized_test = tokenizer.texts_to_sequences(processed_test_data)"
      ]
    },
    {
      "cell_type": "code",
      "execution_count": null,
      "metadata": {
        "colab": {
          "base_uri": "https://localhost:8080/"
        },
        "id": "72NpYVP7cUuE",
        "outputId": "c498f93c-4fda-445a-f07b-c202f156dce6"
      },
      "outputs": [
        {
          "name": "stdout",
          "output_type": "stream",
          "text": [
            "Words in Vocabulary:  148917\n"
          ]
        }
      ],
      "source": [
        "word_index=tokenizer.word_index\n",
        "print(\"Words in Vocabulary: \",len(word_index))"
      ]
    },
    {
      "cell_type": "markdown",
      "metadata": {
        "id": "3RiP_hpgcXUZ"
      },
      "source": [
        "\n",
        " **Padding**"
      ]
    },
    {
      "cell_type": "code",
      "execution_count": null,
      "metadata": {
        "id": "2lavsTIacfL0"
      },
      "outputs": [],
      "source": [
        "X_t=pad_sequences(list_tokenized_train, maxlen=maxpadlen, padding = 'post')\n",
        "X_te=pad_sequences(list_tokenized_test, maxlen=maxpadlen, padding = 'post')"
      ]
    },
    {
      "cell_type": "code",
      "execution_count": null,
      "metadata": {
        "colab": {
          "base_uri": "https://localhost:8080/"
        },
        "id": "tHqK-SUqdE07",
        "outputId": "503f10f4-f560-4c5e-f3eb-3c45f58946cd"
      },
      "outputs": [
        {
          "name": "stdout",
          "output_type": "stream",
          "text": [
            "Tokenized sentences: \n",
            " [  116   578    11 32199   239   192    11 32199   239    90    11   579\n",
            "    11   116   366   578     1  1082   116   338  5356   116   119    11\n",
            "   387   269   366   578    11     1  1341   116    11   387     2    32\n",
            "   116   578   192   116   172    46    84   579   116   578    11     2\n",
            "   488   105    10  1087   403  1073    11  2401   489    36   116    11\n",
            "   192   407   366     9   255   192   242   150   109    18    19    29\n",
            "   172    77    19     3   257  4540     4    11 32199   239   192    11\n",
            " 32199   239    90   171   387   312    68   579    34    44    77   423\n",
            "  1550    34   171     8   579  1268    77  1638   134    10   134  4671\n",
            "   134    94    44   565  1255    17    77  1338   118   134  1577    77\n",
            "  1134     4   507    77   434    31   171    68    34   168  2207   449\n",
            "    31   315  1529    70   172   236   150   116    31    31    11    77\n",
            "    31   116    11    77    31    77    31   192   171    46    84   579\n",
            "     4    31   171   192    80    10   862  3126    11     9   255    31\n",
            "   242   150   109    18    11    77   124    67   434   116    11     9\n",
            "   357    19    29   172    77    19     3   257     0     0     0     0\n",
            "     0     0     0     0     0     0     0     0]\n",
            "One hot label: \n",
            " [0 0 0 0 0 0]\n"
          ]
        }
      ],
      "source": [
        "print('Tokenized sentences: \\n', X_t[10])\n",
        "print('One hot label: \\n', y[10])"
      ]
    },
    {
      "cell_type": "code",
      "execution_count": null,
      "metadata": {
        "id": "QIVIIUyHcsig"
      },
      "outputs": [],
      "source": [
        "indices = np.arange(X_t.shape[0])\n",
        "np.random.shuffle(indices)"
      ]
    },
    {
      "cell_type": "code",
      "execution_count": null,
      "metadata": {
        "id": "UG2llUhdchMH"
      },
      "outputs": [],
      "source": [
        "X_t = X_t[indices]\n",
        "labels = y[indices]"
      ]
    },
    {
      "cell_type": "markdown",
      "metadata": {
        "id": "hshGSgdldfwt"
      },
      "source": [
        "**Splitting data into Training and Validation Set**"
      ]
    },
    {
      "cell_type": "code",
      "execution_count": null,
      "metadata": {
        "id": "9aSZ1pJ0cacV"
      },
      "outputs": [],
      "source": [
        "num_validation_samples = int(val_split*X_t.shape[0])\n",
        "x_train = X_t[: -num_validation_samples]\n",
        "y_train = labels[: -num_validation_samples]\n",
        "x_val = X_t[-num_validation_samples: ]\n",
        "y_val = labels[-num_validation_samples: ]"
      ]
    },
    {
      "cell_type": "code",
      "execution_count": null,
      "metadata": {
        "colab": {
          "base_uri": "https://localhost:8080/"
        },
        "id": "EVVYYkbsKGCM",
        "outputId": "dd9cedd9-e252-4066-c87e-563a8801a924"
      },
      "outputs": [
        {
          "name": "stdout",
          "output_type": "stream",
          "text": [
            "Number of entries in each category:\n",
            "training:  [12254  1293  6769   380  6304  1118]\n",
            "validation:  [3040  302 1680   98 1573  287]\n"
          ]
        }
      ],
      "source": [
        "print('Number of entries in each category:')\n",
        "print('training: ', y_train.sum(axis=0))\n",
        "print('validation: ', y_val.sum(axis=0))"
      ]
    },
    {
      "cell_type": "markdown",
      "metadata": {
        "id": "Ghl5jBU2dytJ"
      },
      "source": [
        "**Importing Fast Text**"
      ]
    },
    {
      "cell_type": "code",
      "execution_count": null,
      "metadata": {
        "id": "se-Emkt5drD8"
      },
      "outputs": [],
      "source": [
        "embedding_dim_fasttext = 300\n",
        "embeddings_index_fasttext = {}\n",
        "f = open('/content/drive/MyDrive/Colab Notebooks/New research_folder1/wiki-news-300d-1M-subword.vec', encoding='utf8')\n",
        "for line in f:\n",
        "    values = line.split()\n",
        "    word = values[0]\n",
        "    embeddings_index_fasttext[word] = np.asarray(values[1:], dtype='float32')\n",
        "f.close()"
      ]
    },
    {
      "cell_type": "code",
      "execution_count": null,
      "metadata": {
        "colab": {
          "base_uri": "https://localhost:8080/"
        },
        "id": "_4_RLCSJKOQ8",
        "outputId": "a6b65f18-4017-4804-c223-9118cd5466ff"
      },
      "outputs": [
        {
          "name": "stdout",
          "output_type": "stream",
          "text": [
            " Completed!\n"
          ]
        }
      ],
      "source": [
        "embedding_matrix_fasttext = np.random.random((len(word_index) + 1, embedding_dim_fasttext))\n",
        "for word, i in word_index.items():\n",
        "    embedding_vector = embeddings_index_fasttext.get(word)\n",
        "    if embedding_vector is not None:\n",
        "        embedding_matrix_fasttext[i] = embedding_vector\n",
        "print(\" Completed!\")"
      ]
    },
    {
      "cell_type": "markdown",
      "metadata": {
        "id": "I0b6rLZuhwSm"
      },
      "source": [
        "**Creating Model**"
      ]
    },
    {
      "cell_type": "markdown",
      "metadata": {
        "id": "rb4CDveGh_i8"
      },
      "source": [
        "**Talos Grid Search for LSTM Model**"
      ]
    },
    {
      "cell_type": "code",
      "execution_count": null,
      "metadata": {
        "id": "w1kzKLfuKRCn"
      },
      "outputs": [],
      "source": [
        "def toxic_classifier(x_train,y_train,x_val,y_val,params):\n",
        "\n",
        "  inp=Input(shape=(maxpadlen, ),dtype='int32')\n",
        "\n",
        "  embedding_layer = Embedding(len(word_index) + 1,\n",
        "                           embedding_dim_fasttext,\n",
        "                           weights = [embedding_matrix_fasttext],\n",
        "                           input_length = maxpadlen,\n",
        "                           trainable=False,\n",
        "                           name = 'embeddings')\n",
        "  embedded_sequences = embedding_layer(inp)\n",
        "\n",
        "  x = LSTM(params['output_count_lstm'], return_sequences=True,name='lstm_layer')(embedded_sequences)\n",
        "  \n",
        "  x = GlobalMaxPool1D()(x)\n",
        "  \n",
        "  x = Dropout(params['dropout'])(x)\n",
        "  \n",
        "  x = Dense(params['output_count_dense'], activation=params['activation'], kernel_initializer='he_uniform')(x)\n",
        "  \n",
        "  x = Dropout(params['dropout'])(x)\n",
        "  \n",
        "  preds = Dense(6, activation=params['last_activation'], kernel_initializer='glorot_uniform')(x)\n",
        "\n",
        "  model = Model(inputs=inp, outputs=preds)\n",
        "\n",
        "  model.compile(loss=params['loss'], optimizer=params['optimizer'], metrics=['accuracy'])\n",
        "\n",
        "  model_info=model.fit(x_train,y_train, epochs=params['epochs'], batch_size=params['batch_size'],  validation_data=(x_val, y_val))\n",
        "\n",
        "  return model_info, model"
      ]
    },
    {
      "cell_type": "code",
      "execution_count": null,
      "metadata": {
        "id": "Zn-x7kHmiD-E"
      },
      "outputs": [],
      "source": [
        "p={\n",
        "    'output_count_lstm': [40,50,60],\n",
        "    'output_count_dense': [30,40,50],\n",
        "    'batch_size': [32],\n",
        "    'epochs':[2],\n",
        "    'optimizer':['adam'],\n",
        "    'activation':['relu'],\n",
        "    'last_activation': ['sigmoid'],\n",
        "    'dropout':[0.1,0.2],\n",
        "    'loss': ['binary_crossentropy']   \n",
        "}"
      ]
    },
    {
      "cell_type": "code",
      "execution_count": null,
      "metadata": {
        "colab": {
          "base_uri": "https://localhost:8080/"
        },
        "id": "EWZaWWuAKVCs",
        "outputId": "8cca1533-8e67-47ae-ddeb-5bb716d59f3d"
      },
      "outputs": [
        {
          "name": "stderr",
          "output_type": "stream",
          "text": [
            "\r  0%|          | 0/18 [00:00<?, ?it/s]"
          ]
        },
        {
          "name": "stdout",
          "output_type": "stream",
          "text": [
            "{'output_count_lstm': 40, 'output_count_dense': 30, 'batch_size': 32, 'epochs': 2, 'optimizer': 'adam', 'activation': 'relu', 'last_activation': 'sigmoid', 'dropout': 0.1, 'loss': 'binary_crossentropy'}\n",
            "Epoch 1/2\n",
            "3990/3990 [==============================] - 44s 9ms/step - loss: 0.0769 - accuracy: 0.9202 - val_loss: 0.0562 - val_accuracy: 0.9937\n",
            "Epoch 2/2\n",
            "3990/3990 [==============================] - 35s 9ms/step - loss: 0.0551 - accuracy: 0.9932 - val_loss: 0.0556 - val_accuracy: 0.9937\n"
          ]
        },
        {
          "name": "stderr",
          "output_type": "stream",
          "text": [
            "\r  6%|▌         | 1/18 [01:21<23:03, 81.36s/it]"
          ]
        },
        {
          "name": "stdout",
          "output_type": "stream",
          "text": [
            "{'output_count_lstm': 40, 'output_count_dense': 30, 'batch_size': 32, 'epochs': 2, 'optimizer': 'adam', 'activation': 'relu', 'last_activation': 'sigmoid', 'dropout': 0.2, 'loss': 'binary_crossentropy'}\n",
            "Epoch 1/2\n",
            "3990/3990 [==============================] - 38s 9ms/step - loss: 0.0834 - accuracy: 0.9003 - val_loss: 0.0568 - val_accuracy: 0.9937\n",
            "Epoch 2/2\n",
            "3990/3990 [==============================] - 35s 9ms/step - loss: 0.0578 - accuracy: 0.9935 - val_loss: 0.0545 - val_accuracy: 0.9937\n"
          ]
        },
        {
          "name": "stderr",
          "output_type": "stream",
          "text": [
            "\r 11%|█         | 2/18 [02:36<20:40, 77.55s/it]"
          ]
        },
        {
          "name": "stdout",
          "output_type": "stream",
          "text": [
            "{'output_count_lstm': 40, 'output_count_dense': 40, 'batch_size': 32, 'epochs': 2, 'optimizer': 'adam', 'activation': 'relu', 'last_activation': 'sigmoid', 'dropout': 0.1, 'loss': 'binary_crossentropy'}\n",
            "Epoch 1/2\n",
            "3990/3990 [==============================] - 38s 9ms/step - loss: 0.0752 - accuracy: 0.9316 - val_loss: 0.0557 - val_accuracy: 0.9937\n",
            "Epoch 2/2\n",
            "3990/3990 [==============================] - 35s 9ms/step - loss: 0.0549 - accuracy: 0.9927 - val_loss: 0.0524 - val_accuracy: 0.9937\n"
          ]
        },
        {
          "name": "stderr",
          "output_type": "stream",
          "text": [
            "\r 17%|█▋        | 3/18 [03:51<19:06, 76.45s/it]"
          ]
        },
        {
          "name": "stdout",
          "output_type": "stream",
          "text": [
            "{'output_count_lstm': 40, 'output_count_dense': 40, 'batch_size': 32, 'epochs': 2, 'optimizer': 'adam', 'activation': 'relu', 'last_activation': 'sigmoid', 'dropout': 0.2, 'loss': 'binary_crossentropy'}\n",
            "Epoch 1/2\n",
            "3990/3990 [==============================] - 39s 9ms/step - loss: 0.0781 - accuracy: 0.9437 - val_loss: 0.0560 - val_accuracy: 0.9937\n",
            "Epoch 2/2\n",
            "3990/3990 [==============================] - 36s 9ms/step - loss: 0.0561 - accuracy: 0.9941 - val_loss: 0.0522 - val_accuracy: 0.9937\n"
          ]
        },
        {
          "name": "stderr",
          "output_type": "stream",
          "text": [
            "\r 22%|██▏       | 4/18 [05:06<17:43, 76.00s/it]"
          ]
        },
        {
          "name": "stdout",
          "output_type": "stream",
          "text": [
            "{'output_count_lstm': 40, 'output_count_dense': 50, 'batch_size': 32, 'epochs': 2, 'optimizer': 'adam', 'activation': 'relu', 'last_activation': 'sigmoid', 'dropout': 0.1, 'loss': 'binary_crossentropy'}\n",
            "Epoch 1/2\n",
            "3990/3990 [==============================] - 39s 9ms/step - loss: 0.0733 - accuracy: 0.9304 - val_loss: 0.0553 - val_accuracy: 0.9937\n",
            "Epoch 2/2\n",
            "3990/3990 [==============================] - 36s 9ms/step - loss: 0.0543 - accuracy: 0.9942 - val_loss: 0.0519 - val_accuracy: 0.9937\n"
          ]
        },
        {
          "name": "stderr",
          "output_type": "stream",
          "text": [
            "\r 28%|██▊       | 5/18 [06:22<16:26, 75.89s/it]"
          ]
        },
        {
          "name": "stdout",
          "output_type": "stream",
          "text": [
            "{'output_count_lstm': 40, 'output_count_dense': 50, 'batch_size': 32, 'epochs': 2, 'optimizer': 'adam', 'activation': 'relu', 'last_activation': 'sigmoid', 'dropout': 0.2, 'loss': 'binary_crossentropy'}\n",
            "Epoch 1/2\n",
            "3990/3990 [==============================] - 39s 9ms/step - loss: 0.0752 - accuracy: 0.9354 - val_loss: 0.0552 - val_accuracy: 0.9937\n",
            "Epoch 2/2\n",
            "3990/3990 [==============================] - 36s 9ms/step - loss: 0.0553 - accuracy: 0.9927 - val_loss: 0.0522 - val_accuracy: 0.9937\n"
          ]
        },
        {
          "name": "stderr",
          "output_type": "stream",
          "text": [
            "\r 33%|███▎      | 6/18 [07:38<15:10, 75.84s/it]"
          ]
        },
        {
          "name": "stdout",
          "output_type": "stream",
          "text": [
            "{'output_count_lstm': 50, 'output_count_dense': 30, 'batch_size': 32, 'epochs': 2, 'optimizer': 'adam', 'activation': 'relu', 'last_activation': 'sigmoid', 'dropout': 0.1, 'loss': 'binary_crossentropy'}\n",
            "Epoch 1/2\n",
            "3990/3990 [==============================] - 42s 10ms/step - loss: 0.0738 - accuracy: 0.9138 - val_loss: 0.0569 - val_accuracy: 0.9937\n",
            "Epoch 2/2\n",
            "3990/3990 [==============================] - 39s 10ms/step - loss: 0.0542 - accuracy: 0.9940 - val_loss: 0.0518 - val_accuracy: 0.9937\n"
          ]
        },
        {
          "name": "stderr",
          "output_type": "stream",
          "text": [
            "\r 39%|███▉      | 7/18 [09:00<14:19, 78.13s/it]"
          ]
        },
        {
          "name": "stdout",
          "output_type": "stream",
          "text": [
            "{'output_count_lstm': 50, 'output_count_dense': 30, 'batch_size': 32, 'epochs': 2, 'optimizer': 'adam', 'activation': 'relu', 'last_activation': 'sigmoid', 'dropout': 0.2, 'loss': 'binary_crossentropy'}\n",
            "Epoch 1/2\n",
            "3990/3990 [==============================] - 42s 10ms/step - loss: 0.0779 - accuracy: 0.8810 - val_loss: 0.0588 - val_accuracy: 0.9937\n",
            "Epoch 2/2\n",
            "3990/3990 [==============================] - 39s 10ms/step - loss: 0.0558 - accuracy: 0.9902 - val_loss: 0.0530 - val_accuracy: 0.9937\n"
          ]
        },
        {
          "name": "stderr",
          "output_type": "stream",
          "text": [
            "\r 44%|████▍     | 8/18 [10:23<13:15, 79.54s/it]"
          ]
        },
        {
          "name": "stdout",
          "output_type": "stream",
          "text": [
            "{'output_count_lstm': 50, 'output_count_dense': 40, 'batch_size': 32, 'epochs': 2, 'optimizer': 'adam', 'activation': 'relu', 'last_activation': 'sigmoid', 'dropout': 0.1, 'loss': 'binary_crossentropy'}\n",
            "Epoch 1/2\n",
            "3990/3990 [==============================] - 42s 10ms/step - loss: 0.0747 - accuracy: 0.9216 - val_loss: 0.0577 - val_accuracy: 0.9937\n",
            "Epoch 2/2\n",
            "3990/3990 [==============================] - 39s 10ms/step - loss: 0.0544 - accuracy: 0.9938 - val_loss: 0.0522 - val_accuracy: 0.9937\n"
          ]
        },
        {
          "name": "stderr",
          "output_type": "stream",
          "text": [
            "\r 50%|█████     | 9/18 [11:45<12:03, 80.41s/it]"
          ]
        },
        {
          "name": "stdout",
          "output_type": "stream",
          "text": [
            "{'output_count_lstm': 50, 'output_count_dense': 40, 'batch_size': 32, 'epochs': 2, 'optimizer': 'adam', 'activation': 'relu', 'last_activation': 'sigmoid', 'dropout': 0.2, 'loss': 'binary_crossentropy'}\n",
            "Epoch 1/2\n",
            "3990/3990 [==============================] - 42s 10ms/step - loss: 0.0781 - accuracy: 0.9085 - val_loss: 0.0568 - val_accuracy: 0.9937\n",
            "Epoch 2/2\n",
            "3990/3990 [==============================] - 40s 10ms/step - loss: 0.0554 - accuracy: 0.9926 - val_loss: 0.0520 - val_accuracy: 0.9937\n"
          ]
        },
        {
          "name": "stderr",
          "output_type": "stream",
          "text": [
            "\r 56%|█████▌    | 10/18 [13:08<10:49, 81.24s/it]"
          ]
        },
        {
          "name": "stdout",
          "output_type": "stream",
          "text": [
            "{'output_count_lstm': 50, 'output_count_dense': 50, 'batch_size': 32, 'epochs': 2, 'optimizer': 'adam', 'activation': 'relu', 'last_activation': 'sigmoid', 'dropout': 0.1, 'loss': 'binary_crossentropy'}\n",
            "Epoch 1/2\n",
            "3990/3990 [==============================] - 43s 10ms/step - loss: 0.0695 - accuracy: 0.9490 - val_loss: 0.0548 - val_accuracy: 0.9937\n",
            "Epoch 2/2\n",
            "3990/3990 [==============================] - 39s 10ms/step - loss: 0.0534 - accuracy: 0.9940 - val_loss: 0.0523 - val_accuracy: 0.9937\n"
          ]
        },
        {
          "name": "stderr",
          "output_type": "stream",
          "text": [
            "\r 61%|██████    | 11/18 [14:32<09:32, 81.81s/it]"
          ]
        },
        {
          "name": "stdout",
          "output_type": "stream",
          "text": [
            "{'output_count_lstm': 50, 'output_count_dense': 50, 'batch_size': 32, 'epochs': 2, 'optimizer': 'adam', 'activation': 'relu', 'last_activation': 'sigmoid', 'dropout': 0.2, 'loss': 'binary_crossentropy'}\n",
            "Epoch 1/2\n",
            "3990/3990 [==============================] - 42s 10ms/step - loss: 0.0752 - accuracy: 0.9375 - val_loss: 0.0558 - val_accuracy: 0.9937\n",
            "Epoch 2/2\n",
            "3990/3990 [==============================] - 39s 10ms/step - loss: 0.0554 - accuracy: 0.9939 - val_loss: 0.0521 - val_accuracy: 0.9937\n"
          ]
        },
        {
          "name": "stderr",
          "output_type": "stream",
          "text": [
            "\r 67%|██████▋   | 12/18 [15:54<08:11, 81.99s/it]"
          ]
        },
        {
          "name": "stdout",
          "output_type": "stream",
          "text": [
            "{'output_count_lstm': 60, 'output_count_dense': 30, 'batch_size': 32, 'epochs': 2, 'optimizer': 'adam', 'activation': 'relu', 'last_activation': 'sigmoid', 'dropout': 0.1, 'loss': 'binary_crossentropy'}\n",
            "Epoch 1/2\n",
            "3990/3990 [==============================] - 38s 9ms/step - loss: 0.0752 - accuracy: 0.9152 - val_loss: 0.0557 - val_accuracy: 0.9937\n",
            "Epoch 2/2\n",
            "3990/3990 [==============================] - 35s 9ms/step - loss: 0.0551 - accuracy: 0.9916 - val_loss: 0.0529 - val_accuracy: 0.9937\n"
          ]
        },
        {
          "name": "stderr",
          "output_type": "stream",
          "text": [
            "\r 72%|███████▏  | 13/18 [17:09<06:39, 79.90s/it]"
          ]
        },
        {
          "name": "stdout",
          "output_type": "stream",
          "text": [
            "{'output_count_lstm': 60, 'output_count_dense': 30, 'batch_size': 32, 'epochs': 2, 'optimizer': 'adam', 'activation': 'relu', 'last_activation': 'sigmoid', 'dropout': 0.2, 'loss': 'binary_crossentropy'}\n",
            "Epoch 1/2\n",
            "3990/3990 [==============================] - 38s 9ms/step - loss: 0.0821 - accuracy: 0.8377 - val_loss: 0.0575 - val_accuracy: 0.9937\n",
            "Epoch 2/2\n",
            "3990/3990 [==============================] - 35s 9ms/step - loss: 0.0570 - accuracy: 0.9919 - val_loss: 0.0525 - val_accuracy: 0.9937\n"
          ]
        },
        {
          "name": "stderr",
          "output_type": "stream",
          "text": [
            "\r 78%|███████▊  | 14/18 [18:24<05:13, 78.42s/it]"
          ]
        },
        {
          "name": "stdout",
          "output_type": "stream",
          "text": [
            "{'output_count_lstm': 60, 'output_count_dense': 40, 'batch_size': 32, 'epochs': 2, 'optimizer': 'adam', 'activation': 'relu', 'last_activation': 'sigmoid', 'dropout': 0.1, 'loss': 'binary_crossentropy'}\n",
            "Epoch 1/2\n",
            "3990/3990 [==============================] - 38s 9ms/step - loss: 0.0734 - accuracy: 0.9132 - val_loss: 0.0543 - val_accuracy: 0.9937\n",
            "Epoch 2/2\n",
            "3990/3990 [==============================] - 35s 9ms/step - loss: 0.0533 - accuracy: 0.9929 - val_loss: 0.0506 - val_accuracy: 0.9937\n"
          ]
        },
        {
          "name": "stderr",
          "output_type": "stream",
          "text": [
            "\r 83%|████████▎ | 15/18 [19:39<03:52, 77.44s/it]"
          ]
        },
        {
          "name": "stdout",
          "output_type": "stream",
          "text": [
            "{'output_count_lstm': 60, 'output_count_dense': 40, 'batch_size': 32, 'epochs': 2, 'optimizer': 'adam', 'activation': 'relu', 'last_activation': 'sigmoid', 'dropout': 0.2, 'loss': 'binary_crossentropy'}\n",
            "Epoch 1/2\n",
            "3990/3990 [==============================] - 39s 9ms/step - loss: 0.0751 - accuracy: 0.9186 - val_loss: 0.0559 - val_accuracy: 0.9937\n",
            "Epoch 2/2\n",
            "3990/3990 [==============================] - 35s 9ms/step - loss: 0.0554 - accuracy: 0.9940 - val_loss: 0.0521 - val_accuracy: 0.9937\n"
          ]
        },
        {
          "name": "stderr",
          "output_type": "stream",
          "text": [
            "\r 89%|████████▉ | 16/18 [20:55<02:33, 76.81s/it]"
          ]
        },
        {
          "name": "stdout",
          "output_type": "stream",
          "text": [
            "{'output_count_lstm': 60, 'output_count_dense': 50, 'batch_size': 32, 'epochs': 2, 'optimizer': 'adam', 'activation': 'relu', 'last_activation': 'sigmoid', 'dropout': 0.1, 'loss': 'binary_crossentropy'}\n",
            "Epoch 1/2\n",
            "3990/3990 [==============================] - 38s 9ms/step - loss: 0.0721 - accuracy: 0.9451 - val_loss: 0.0570 - val_accuracy: 0.9937\n",
            "Epoch 2/2\n",
            "3990/3990 [==============================] - 35s 9ms/step - loss: 0.0540 - accuracy: 0.9926 - val_loss: 0.0511 - val_accuracy: 0.9936\n"
          ]
        },
        {
          "name": "stderr",
          "output_type": "stream",
          "text": [
            "\r 94%|█████████▍| 17/18 [22:10<01:16, 76.34s/it]"
          ]
        },
        {
          "name": "stdout",
          "output_type": "stream",
          "text": [
            "{'output_count_lstm': 60, 'output_count_dense': 50, 'batch_size': 32, 'epochs': 2, 'optimizer': 'adam', 'activation': 'relu', 'last_activation': 'sigmoid', 'dropout': 0.2, 'loss': 'binary_crossentropy'}\n",
            "Epoch 1/2\n",
            "3990/3990 [==============================] - 38s 9ms/step - loss: 0.0804 - accuracy: 0.9158 - val_loss: 0.0555 - val_accuracy: 0.9937\n",
            "Epoch 2/2\n",
            "3990/3990 [==============================] - 35s 9ms/step - loss: 0.0555 - accuracy: 0.9938 - val_loss: 0.0522 - val_accuracy: 0.9937\n"
          ]
        },
        {
          "name": "stderr",
          "output_type": "stream",
          "text": [
            "100%|██████████| 18/18 [23:25<00:00, 78.09s/it]\n"
          ]
        }
      ],
      "source": [
        "scan_results = talos.Scan(x=x_train,\n",
        "               y=y_train,\n",
        "               x_val=x_val,\n",
        "               y_val=y_val,\n",
        "               model=toxic_classifier,\n",
        "               params=p,\n",
        "               experiment_name='tcc',\n",
        "               print_params=True)"
      ]
    },
    {
      "cell_type": "code",
      "execution_count": null,
      "metadata": {
        "colab": {
          "base_uri": "https://localhost:8080/"
        },
        "id": "oSExfmC_KZx1",
        "outputId": "ae7c2e08-c049-4a2e-a83a-062c75d8d06c"
      },
      "outputs": [
        {
          "data": {
            "text/plain": [
              "0"
            ]
          },
          "execution_count": 61,
          "metadata": {},
          "output_type": "execute_result"
        }
      ],
      "source": [
        "model_id = scan_results.data['val_accuracy'].astype('float').argmax()\n",
        "model_id"
      ]
    },
    {
      "cell_type": "code",
      "execution_count": null,
      "metadata": {
        "id": "tK4UXnu1jqZV"
      },
      "outputs": [],
      "source": [
        "analyze_object = talos.Analyze(scan_results)"
      ]
    },
    {
      "cell_type": "code",
      "execution_count": null,
      "metadata": {
        "colab": {
          "base_uri": "https://localhost:8080/"
        },
        "id": "PyJ7dzpGjstR",
        "outputId": "568f92a1-6d1c-449b-ce8d-994e5e1a78c8"
      },
      "outputs": [
        {
          "data": {
            "text/plain": [
              "array([[80.61579203605652, 40, 'sigmoid', '04/29/23-063933',\n",
              "        '04/29/23-063813', 'adam', 0.1, 32, 'relu', 2, 30, 2, 0],\n",
              "       [74.19877815246582, 40, 'sigmoid', '04/29/23-064048',\n",
              "        '04/29/23-063934', 'adam', 0.2, 32, 'relu', 2, 30, 2, 1],\n",
              "       [74.63971638679504, 60, 'sigmoid', '04/29/23-065907',\n",
              "        '04/29/23-065752', 'adam', 0.2, 32, 'relu', 2, 40, 2, 2],\n",
              "       [74.42103338241577, 60, 'sigmoid', '04/29/23-065752',\n",
              "        '04/29/23-065637', 'adam', 0.1, 32, 'relu', 2, 40, 2, 3],\n",
              "       [74.27536296844482, 60, 'sigmoid', '04/29/23-065636',\n",
              "        '04/29/23-065522', 'adam', 0.2, 32, 'relu', 2, 30, 2, 4],\n",
              "       [74.39411425590515, 60, 'sigmoid', '04/29/23-065521',\n",
              "        '04/29/23-065407', 'adam', 0.1, 32, 'relu', 2, 30, 2, 5],\n",
              "       [81.64191555976868, 50, 'sigmoid', '04/29/23-065406',\n",
              "        '04/29/23-065245', 'adam', 0.2, 32, 'relu', 2, 50, 2, 6],\n",
              "       [82.37059998512268, 50, 'sigmoid', '04/29/23-065244',\n",
              "        '04/29/23-065121', 'adam', 0.1, 32, 'relu', 2, 50, 2, 7],\n",
              "       [82.35492610931396, 50, 'sigmoid', '04/29/23-065121',\n",
              "        '04/29/23-064958', 'adam', 0.2, 32, 'relu', 2, 40, 2, 8],\n",
              "       [81.60322380065918, 50, 'sigmoid', '04/29/23-064958',\n",
              "        '04/29/23-064836', 'adam', 0.1, 32, 'relu', 2, 40, 2, 9]],\n",
              "      dtype=object)"
            ]
          },
          "execution_count": 63,
          "metadata": {},
          "output_type": "execute_result"
        }
      ],
      "source": [
        "analyze_object.best_params('val_accuracy', ['accuracy', 'loss', 'val_loss'])"
      ]
    },
    {
      "cell_type": "code",
      "execution_count": null,
      "metadata": {
        "colab": {
          "base_uri": "https://localhost:8080/",
          "height": 1000
        },
        "id": "GcyTPnrLjvWM",
        "outputId": "89ad3ae5-d967-4114-87ab-ef32e646f924"
      },
      "outputs": [
        {
          "name": "stderr",
          "output_type": "stream",
          "text": [
            "WARNING:matplotlib.font_manager:findfont: Font family 'Verdana' not found.\n",
            "WARNING:matplotlib.font_manager:findfont: Font family 'Geneva' not found.\n",
            "WARNING:matplotlib.font_manager:findfont: Font family 'Verdana' not found.\n",
            "WARNING:matplotlib.font_manager:findfont: Font family 'Geneva' not found.\n",
            "WARNING:matplotlib.font_manager:findfont: Font family 'Verdana' not found.\n",
            "WARNING:matplotlib.font_manager:findfont: Font family 'Geneva' not found.\n",
            "WARNING:matplotlib.font_manager:findfont: Font family 'Verdana' not found.\n",
            "WARNING:matplotlib.font_manager:findfont: Font family 'Geneva' not found.\n",
            "WARNING:matplotlib.font_manager:findfont: Font family 'Verdana' not found.\n",
            "WARNING:matplotlib.font_manager:findfont: Font family 'Geneva' not found.\n",
            "WARNING:matplotlib.font_manager:findfont: Font family 'Verdana' not found.\n",
            "WARNING:matplotlib.font_manager:findfont: Font family 'Geneva' not found.\n",
            "WARNING:matplotlib.font_manager:findfont: Font family 'Verdana' not found.\n",
            "WARNING:matplotlib.font_manager:findfont: Font family 'Geneva' not found.\n",
            "WARNING:matplotlib.font_manager:findfont: Font family 'Verdana' not found.\n",
            "WARNING:matplotlib.font_manager:findfont: Font family 'Geneva' not found.\n",
            "WARNING:matplotlib.font_manager:findfont: Font family 'Verdana' not found.\n",
            "WARNING:matplotlib.font_manager:findfont: Font family 'Geneva' not found.\n",
            "WARNING:matplotlib.font_manager:findfont: Font family 'Verdana' not found.\n",
            "WARNING:matplotlib.font_manager:findfont: Font family 'Geneva' not found.\n",
            "WARNING:matplotlib.font_manager:findfont: Font family 'Verdana' not found.\n",
            "WARNING:matplotlib.font_manager:findfont: Font family 'Geneva' not found.\n",
            "WARNING:matplotlib.font_manager:findfont: Font family 'Verdana' not found.\n",
            "WARNING:matplotlib.font_manager:findfont: Font family 'Geneva' not found.\n",
            "WARNING:matplotlib.font_manager:findfont: Font family 'Verdana' not found.\n",
            "WARNING:matplotlib.font_manager:findfont: Font family 'Geneva' not found.\n",
            "WARNING:matplotlib.font_manager:findfont: Font family 'Verdana' not found.\n",
            "WARNING:matplotlib.font_manager:findfont: Font family 'Geneva' not found.\n",
            "WARNING:matplotlib.font_manager:findfont: Font family 'Verdana' not found.\n",
            "WARNING:matplotlib.font_manager:findfont: Font family 'Geneva' not found.\n",
            "WARNING:matplotlib.font_manager:findfont: Font family 'Verdana' not found.\n",
            "WARNING:matplotlib.font_manager:findfont: Font family 'Geneva' not found.\n",
            "WARNING:matplotlib.font_manager:findfont: Font family 'Verdana' not found.\n",
            "WARNING:matplotlib.font_manager:findfont: Font family 'Geneva' not found.\n",
            "WARNING:matplotlib.font_manager:findfont: Font family 'Verdana' not found.\n",
            "WARNING:matplotlib.font_manager:findfont: Font family 'Geneva' not found.\n",
            "WARNING:matplotlib.font_manager:findfont: Font family 'Verdana' not found.\n",
            "WARNING:matplotlib.font_manager:findfont: Font family 'Geneva' not found.\n",
            "WARNING:matplotlib.font_manager:findfont: Font family 'Verdana' not found.\n",
            "WARNING:matplotlib.font_manager:findfont: Font family 'Geneva' not found.\n",
            "WARNING:matplotlib.font_manager:findfont: Font family 'Verdana' not found.\n",
            "WARNING:matplotlib.font_manager:findfont: Font family 'Geneva' not found.\n",
            "WARNING:matplotlib.font_manager:findfont: Font family 'Verdana' not found.\n",
            "WARNING:matplotlib.font_manager:findfont: Font family 'Geneva' not found.\n",
            "WARNING:matplotlib.font_manager:findfont: Font family 'Verdana' not found.\n",
            "WARNING:matplotlib.font_manager:findfont: Font family 'Geneva' not found.\n",
            "WARNING:matplotlib.font_manager:findfont: Font family 'Verdana' not found.\n",
            "WARNING:matplotlib.font_manager:findfont: Font family 'Geneva' not found.\n",
            "WARNING:matplotlib.font_manager:findfont: Font family 'Verdana' not found.\n",
            "WARNING:matplotlib.font_manager:findfont: Font family 'Geneva' not found.\n",
            "WARNING:matplotlib.font_manager:findfont: Font family 'Verdana' not found.\n",
            "WARNING:matplotlib.font_manager:findfont: Font family 'Geneva' not found.\n",
            "WARNING:matplotlib.font_manager:findfont: Font family 'Verdana' not found.\n",
            "WARNING:matplotlib.font_manager:findfont: Font family 'Geneva' not found.\n",
            "WARNING:matplotlib.font_manager:findfont: Font family 'Verdana' not found.\n",
            "WARNING:matplotlib.font_manager:findfont: Font family 'Geneva' not found.\n",
            "WARNING:matplotlib.font_manager:findfont: Font family 'Verdana' not found.\n",
            "WARNING:matplotlib.font_manager:findfont: Font family 'Geneva' not found.\n",
            "WARNING:matplotlib.font_manager:findfont: Font family 'Verdana' not found.\n",
            "WARNING:matplotlib.font_manager:findfont: Font family 'Geneva' not found.\n",
            "WARNING:matplotlib.font_manager:findfont: Font family 'Verdana' not found.\n",
            "WARNING:matplotlib.font_manager:findfont: Font family 'Geneva' not found.\n",
            "WARNING:matplotlib.font_manager:findfont: Font family 'Verdana' not found.\n",
            "WARNING:matplotlib.font_manager:findfont: Font family 'Geneva' not found.\n",
            "WARNING:matplotlib.font_manager:findfont: Font family 'Verdana' not found.\n",
            "WARNING:matplotlib.font_manager:findfont: Font family 'Geneva' not found.\n",
            "WARNING:matplotlib.font_manager:findfont: Font family 'Verdana' not found.\n",
            "WARNING:matplotlib.font_manager:findfont: Font family 'Geneva' not found.\n",
            "WARNING:matplotlib.font_manager:findfont: Font family 'Verdana' not found.\n",
            "WARNING:matplotlib.font_manager:findfont: Font family 'Geneva' not found.\n",
            "WARNING:matplotlib.font_manager:findfont: Font family 'Verdana' not found.\n",
            "WARNING:matplotlib.font_manager:findfont: Font family 'Geneva' not found.\n",
            "WARNING:matplotlib.font_manager:findfont: Font family 'Verdana' not found.\n",
            "WARNING:matplotlib.font_manager:findfont: Font family 'Geneva' not found.\n",
            "WARNING:matplotlib.font_manager:findfont: Font family 'Verdana' not found.\n",
            "WARNING:matplotlib.font_manager:findfont: Font family 'Geneva' not found.\n",
            "WARNING:matplotlib.font_manager:findfont: Font family 'Verdana' not found.\n",
            "WARNING:matplotlib.font_manager:findfont: Font family 'Geneva' not found.\n",
            "WARNING:matplotlib.font_manager:findfont: Font family 'Verdana' not found.\n",
            "WARNING:matplotlib.font_manager:findfont: Font family 'Geneva' not found.\n",
            "WARNING:matplotlib.font_manager:findfont: Font family 'Verdana' not found.\n",
            "WARNING:matplotlib.font_manager:findfont: Font family 'Geneva' not found.\n",
            "WARNING:matplotlib.font_manager:findfont: Font family 'Verdana' not found.\n",
            "WARNING:matplotlib.font_manager:findfont: Font family 'Geneva' not found.\n",
            "WARNING:matplotlib.font_manager:findfont: Font family 'Verdana' not found.\n",
            "WARNING:matplotlib.font_manager:findfont: Font family 'Geneva' not found.\n",
            "WARNING:matplotlib.font_manager:findfont: Font family 'Verdana' not found.\n",
            "WARNING:matplotlib.font_manager:findfont: Font family 'Geneva' not found.\n",
            "WARNING:matplotlib.font_manager:findfont: Font family 'Verdana' not found.\n",
            "WARNING:matplotlib.font_manager:findfont: Font family 'Geneva' not found.\n",
            "WARNING:matplotlib.font_manager:findfont: Font family 'Verdana' not found.\n",
            "WARNING:matplotlib.font_manager:findfont: Font family 'Geneva' not found.\n"
          ]
        },
        {
          "data": {
            "image/png": "[encoded data removed]",
            "text/plain": [
              "<Figure size 864x475.2 with 1 Axes>"
            ]
          },
          "metadata": {},
          "output_type": "display_data"
        }
      ],
      "source": [
        "analyze_object.plot_line('val_accuracy')"
      ]
    },
    {
      "cell_type": "code",
      "execution_count": null,
      "metadata": {
        "colab": {
          "base_uri": "https://localhost:8080/",
          "height": 1000
        },
        "id": "KLvXpLtGjz9M",
        "outputId": "ce3000ff-9b93-4557-f10c-b364ce9661e0"
      },
      "outputs": [
        {
          "name": "stderr",
          "output_type": "stream",
          "text": [
            "WARNING:matplotlib.font_manager:findfont: Font family 'Verdana' not found.\n",
            "WARNING:matplotlib.font_manager:findfont: Font family 'Geneva' not found.\n",
            "WARNING:matplotlib.font_manager:findfont: Font family 'Verdana' not found.\n",
            "WARNING:matplotlib.font_manager:findfont: Font family 'Geneva' not found.\n",
            "WARNING:matplotlib.font_manager:findfont: Font family 'Verdana' not found.\n",
            "WARNING:matplotlib.font_manager:findfont: Font family 'Geneva' not found.\n",
            "WARNING:matplotlib.font_manager:findfont: Font family 'Verdana' not found.\n",
            "WARNING:matplotlib.font_manager:findfont: Font family 'Geneva' not found.\n",
            "WARNING:matplotlib.font_manager:findfont: Font family 'Verdana' not found.\n",
            "WARNING:matplotlib.font_manager:findfont: Font family 'Geneva' not found.\n",
            "WARNING:matplotlib.font_manager:findfont: Font family 'Verdana' not found.\n",
            "WARNING:matplotlib.font_manager:findfont: Font family 'Geneva' not found.\n",
            "WARNING:matplotlib.font_manager:findfont: Font family 'Verdana' not found.\n",
            "WARNING:matplotlib.font_manager:findfont: Font family 'Geneva' not found.\n",
            "WARNING:matplotlib.font_manager:findfont: Font family 'Verdana' not found.\n",
            "WARNING:matplotlib.font_manager:findfont: Font family 'Geneva' not found.\n",
            "WARNING:matplotlib.font_manager:findfont: Font family 'Verdana' not found.\n",
            "WARNING:matplotlib.font_manager:findfont: Font family 'Geneva' not found.\n",
            "WARNING:matplotlib.font_manager:findfont: Font family 'Verdana' not found.\n",
            "WARNING:matplotlib.font_manager:findfont: Font family 'Geneva' not found.\n",
            "WARNING:matplotlib.font_manager:findfont: Font family 'Verdana' not found.\n",
            "WARNING:matplotlib.font_manager:findfont: Font family 'Geneva' not found.\n",
            "WARNING:matplotlib.font_manager:findfont: Font family 'Verdana' not found.\n",
            "WARNING:matplotlib.font_manager:findfont: Font family 'Geneva' not found.\n",
            "WARNING:matplotlib.font_manager:findfont: Font family 'Verdana' not found.\n",
            "WARNING:matplotlib.font_manager:findfont: Font family 'Geneva' not found.\n",
            "WARNING:matplotlib.font_manager:findfont: Font family 'Verdana' not found.\n",
            "WARNING:matplotlib.font_manager:findfont: Font family 'Geneva' not found.\n",
            "WARNING:matplotlib.font_manager:findfont: Font family 'Verdana' not found.\n",
            "WARNING:matplotlib.font_manager:findfont: Font family 'Geneva' not found.\n",
            "WARNING:matplotlib.font_manager:findfont: Font family 'Verdana' not found.\n",
            "WARNING:matplotlib.font_manager:findfont: Font family 'Geneva' not found.\n",
            "WARNING:matplotlib.font_manager:findfont: Font family 'Verdana' not found.\n",
            "WARNING:matplotlib.font_manager:findfont: Font family 'Geneva' not found.\n",
            "WARNING:matplotlib.font_manager:findfont: Font family 'Verdana' not found.\n",
            "WARNING:matplotlib.font_manager:findfont: Font family 'Geneva' not found.\n",
            "WARNING:matplotlib.font_manager:findfont: Font family 'Verdana' not found.\n",
            "WARNING:matplotlib.font_manager:findfont: Font family 'Geneva' not found.\n",
            "WARNING:matplotlib.font_manager:findfont: Font family 'Verdana' not found.\n",
            "WARNING:matplotlib.font_manager:findfont: Font family 'Geneva' not found.\n",
            "WARNING:matplotlib.font_manager:findfont: Font family 'Verdana' not found.\n",
            "WARNING:matplotlib.font_manager:findfont: Font family 'Geneva' not found.\n",
            "WARNING:matplotlib.font_manager:findfont: Font family 'Verdana' not found.\n",
            "WARNING:matplotlib.font_manager:findfont: Font family 'Geneva' not found.\n",
            "WARNING:matplotlib.font_manager:findfont: Font family 'Verdana' not found.\n",
            "WARNING:matplotlib.font_manager:findfont: Font family 'Geneva' not found.\n",
            "WARNING:matplotlib.font_manager:findfont: Font family 'Verdana' not found.\n",
            "WARNING:matplotlib.font_manager:findfont: Font family 'Geneva' not found.\n",
            "WARNING:matplotlib.font_manager:findfont: Font family 'Verdana' not found.\n",
            "WARNING:matplotlib.font_manager:findfont: Font family 'Geneva' not found.\n",
            "WARNING:matplotlib.font_manager:findfont: Font family 'Verdana' not found.\n",
            "WARNING:matplotlib.font_manager:findfont: Font family 'Geneva' not found.\n",
            "WARNING:matplotlib.font_manager:findfont: Font family 'Verdana' not found.\n",
            "WARNING:matplotlib.font_manager:findfont: Font family 'Geneva' not found.\n",
            "WARNING:matplotlib.font_manager:findfont: Font family 'Verdana' not found.\n",
            "WARNING:matplotlib.font_manager:findfont: Font family 'Geneva' not found.\n",
            "WARNING:matplotlib.font_manager:findfont: Font family 'Verdana' not found.\n",
            "WARNING:matplotlib.font_manager:findfont: Font family 'Geneva' not found.\n",
            "WARNING:matplotlib.font_manager:findfont: Font family 'Verdana' not found.\n",
            "WARNING:matplotlib.font_manager:findfont: Font family 'Geneva' not found.\n",
            "WARNING:matplotlib.font_manager:findfont: Font family 'Verdana' not found.\n",
            "WARNING:matplotlib.font_manager:findfont: Font family 'Geneva' not found.\n",
            "WARNING:matplotlib.font_manager:findfont: Font family 'Verdana' not found.\n",
            "WARNING:matplotlib.font_manager:findfont: Font family 'Geneva' not found.\n",
            "WARNING:matplotlib.font_manager:findfont: Font family 'Verdana' not found.\n",
            "WARNING:matplotlib.font_manager:findfont: Font family 'Geneva' not found.\n",
            "WARNING:matplotlib.font_manager:findfont: Font family 'Verdana' not found.\n",
            "WARNING:matplotlib.font_manager:findfont: Font family 'Geneva' not found.\n",
            "WARNING:matplotlib.font_manager:findfont: Font family 'Verdana' not found.\n",
            "WARNING:matplotlib.font_manager:findfont: Font family 'Geneva' not found.\n",
            "WARNING:matplotlib.font_manager:findfont: Font family 'Verdana' not found.\n",
            "WARNING:matplotlib.font_manager:findfont: Font family 'Geneva' not found.\n",
            "WARNING:matplotlib.font_manager:findfont: Font family 'Verdana' not found.\n",
            "WARNING:matplotlib.font_manager:findfont: Font family 'Geneva' not found.\n",
            "WARNING:matplotlib.font_manager:findfont: Font family 'Verdana' not found.\n",
            "WARNING:matplotlib.font_manager:findfont: Font family 'Geneva' not found.\n",
            "WARNING:matplotlib.font_manager:findfont: Font family 'Verdana' not found.\n",
            "WARNING:matplotlib.font_manager:findfont: Font family 'Geneva' not found.\n",
            "WARNING:matplotlib.font_manager:findfont: Font family 'Verdana' not found.\n",
            "WARNING:matplotlib.font_manager:findfont: Font family 'Geneva' not found.\n",
            "WARNING:matplotlib.font_manager:findfont: Font family 'Verdana' not found.\n",
            "WARNING:matplotlib.font_manager:findfont: Font family 'Geneva' not found.\n",
            "WARNING:matplotlib.font_manager:findfont: Font family 'Verdana' not found.\n",
            "WARNING:matplotlib.font_manager:findfont: Font family 'Geneva' not found.\n",
            "WARNING:matplotlib.font_manager:findfont: Font family 'Verdana' not found.\n",
            "WARNING:matplotlib.font_manager:findfont: Font family 'Geneva' not found.\n",
            "WARNING:matplotlib.font_manager:findfont: Font family 'Verdana' not found.\n",
            "WARNING:matplotlib.font_manager:findfont: Font family 'Geneva' not found.\n",
            "WARNING:matplotlib.font_manager:findfont: Font family 'Verdana' not found.\n",
            "WARNING:matplotlib.font_manager:findfont: Font family 'Geneva' not found.\n",
            "WARNING:matplotlib.font_manager:findfont: Font family 'Verdana' not found.\n",
            "WARNING:matplotlib.font_manager:findfont: Font family 'Geneva' not found.\n",
            "WARNING:matplotlib.font_manager:findfont: Font family 'Verdana' not found.\n",
            "WARNING:matplotlib.font_manager:findfont: Font family 'Geneva' not found.\n",
            "WARNING:matplotlib.font_manager:findfont: Font family 'Verdana' not found.\n",
            "WARNING:matplotlib.font_manager:findfont: Font family 'Geneva' not found.\n",
            "WARNING:matplotlib.font_manager:findfont: Font family 'Verdana' not found.\n",
            "WARNING:matplotlib.font_manager:findfont: Font family 'Geneva' not found.\n",
            "WARNING:matplotlib.font_manager:findfont: Font family 'Verdana' not found.\n",
            "WARNING:matplotlib.font_manager:findfont: Font family 'Geneva' not found.\n",
            "WARNING:matplotlib.font_manager:findfont: Font family 'Verdana' not found.\n",
            "WARNING:matplotlib.font_manager:findfont: Font family 'Geneva' not found.\n",
            "WARNING:matplotlib.font_manager:findfont: Font family 'Verdana' not found.\n",
            "WARNING:matplotlib.font_manager:findfont: Font family 'Geneva' not found.\n",
            "WARNING:matplotlib.font_manager:findfont: Font family 'Verdana' not found.\n",
            "WARNING:matplotlib.font_manager:findfont: Font family 'Geneva' not found.\n",
            "WARNING:matplotlib.font_manager:findfont: Font family 'Verdana' not found.\n",
            "WARNING:matplotlib.font_manager:findfont: Font family 'Geneva' not found.\n"
          ]
        },
        {
          "data": {
            "image/png": "[encoded data removed]",
            "text/plain": [
              "<Figure size 864x475.2 with 1 Axes>"
            ]
          },
          "metadata": {},
          "output_type": "display_data"
        }
      ],
      "source": [
        "analyze_object.plot_line('accuracy')"
      ]
    },
    {
      "cell_type": "markdown",
      "metadata": {
        "id": "O1dzDhseK8Q3"
      },
      "source": [
        "**Talos Grid Search for LSTM-CNN Model**"
      ]
    },
    {
      "cell_type": "code",
      "execution_count": null,
      "metadata": {
        "id": "Bhvce9J9Kcro"
      },
      "outputs": [],
      "source": [
        "def toxic_classifier(x_train,y_train,x_val,y_val,params):\n",
        "\n",
        "  inp=Input(shape=(maxpadlen, ),dtype='int32')\n",
        "\n",
        "  embedding_layer = Embedding(len(word_index) + 1,\n",
        "                           embedding_dim_fasttext,\n",
        "                           weights = [embedding_matrix_fasttext],\n",
        "                           input_length = maxpadlen,\n",
        "                           trainable=False,\n",
        "                           name = 'embeddings')\n",
        "  embedded_sequences = embedding_layer(inp)\n",
        "\n",
        "  x = LSTM(params['output_count_lstm'], return_sequences=True,name='lstm_layer')(embedded_sequences)\n",
        "\n",
        "  x = Conv1D(filters=params['filters'], kernel_size=params['kernel_size'], padding='same', activation='relu', kernel_initializer='he_uniform')(x)\n",
        "\n",
        "  x = MaxPooling1D(params['pool_size'])(x)\n",
        "  \n",
        "  x = GlobalMaxPool1D()(x)\n",
        "  \n",
        "  x = BatchNormalization()(x)\n",
        "  \n",
        "  x = Dense(params['output_1_count_dense'], activation=params['activation'], kernel_initializer='he_uniform')(x)\n",
        "  \n",
        "  x = Dropout(params['dropout'])(x)\n",
        "\n",
        "  x = Dense(params['output_2_count_dense'], activation=params['activation'], kernel_initializer='he_uniform')(x)\n",
        "  \n",
        "  x = Dropout(params['dropout'])(x)\n",
        "  \n",
        "  preds = Dense(6, activation=params['last_activation'], kernel_initializer='glorot_uniform')(x)\n",
        "\n",
        "  model = Model(inputs=inp, outputs=preds)\n",
        "\n",
        "  model.compile(loss=params['loss'], optimizer=params['optimizer'], metrics=['accuracy'])\n",
        "\n",
        "  model_info=model.fit(x_train,y_train, epochs=params['epochs'], batch_size=params['batch_size'],  validation_data=(x_val, y_val))\n",
        "\n",
        "  return model_info, model"
      ]
    },
    {
      "cell_type": "code",
      "execution_count": null,
      "metadata": {
        "id": "vVBrXqiTk0u_"
      },
      "outputs": [],
      "source": [
        "p={\n",
        "    'output_count_lstm': [50,60],\n",
        "    'output_1_count_dense': [40,50],\n",
        "    'output_2_count_dense': [30,40],\n",
        "    'filters' : [64],\n",
        "    'kernel_size' : [3],\n",
        "    'batch_size': [32],\n",
        "    'pool_size': [3],\n",
        "    'epochs':[2],\n",
        "    'optimizer':['adam'],\n",
        "    'activation':['relu'],\n",
        "    'last_activation': ['sigmoid'],\n",
        "    'dropout':[0.1,0.2],\n",
        "    'loss': ['binary_crossentropy']   \n",
        "}"
      ]
    },
    {
      "cell_type": "code",
      "execution_count": null,
      "metadata": {
        "colab": {
          "base_uri": "https://localhost:8080/"
        },
        "id": "j7y7zuowk4GI",
        "outputId": "bffd1723-e27d-4d04-bf82-ef9bd6f1cbb5"
      },
      "outputs": [
        {
          "name": "stderr",
          "output_type": "stream",
          "text": [
            "\r  0%|          | 0/16 [00:00<?, ?it/s]"
          ]
        },
        {
          "name": "stdout",
          "output_type": "stream",
          "text": [
            "{'output_count_lstm': 50, 'output_1_count_dense': 40, 'output_2_count_dense': 30, 'filters': 64, 'kernel_size': 3, 'batch_size': 32, 'pool_size': 3, 'epochs': 2, 'optimizer': 'adam', 'activation': 'relu', 'last_activation': 'sigmoid', 'dropout': 0.1, 'loss': 'binary_crossentropy'}\n",
            "Epoch 1/2\n",
            "3990/3990 [==============================] - 54s 11ms/step - loss: 0.0718 - accuracy: 0.9151 - val_loss: 0.0892 - val_accuracy: 0.9930\n",
            "Epoch 2/2\n",
            "3990/3990 [==============================] - 44s 11ms/step - loss: 0.0555 - accuracy: 0.9839 - val_loss: 0.0543 - val_accuracy: 0.9937\n"
          ]
        },
        {
          "name": "stderr",
          "output_type": "stream",
          "text": [
            "\r  6%|▋         | 1/16 [01:39<24:45, 99.01s/it]"
          ]
        },
        {
          "name": "stdout",
          "output_type": "stream",
          "text": [
            "{'output_count_lstm': 50, 'output_1_count_dense': 40, 'output_2_count_dense': 30, 'filters': 64, 'kernel_size': 3, 'batch_size': 32, 'pool_size': 3, 'epochs': 2, 'optimizer': 'adam', 'activation': 'relu', 'last_activation': 'sigmoid', 'dropout': 0.2, 'loss': 'binary_crossentropy'}\n",
            "Epoch 1/2\n",
            "3990/3990 [==============================] - 48s 11ms/step - loss: 0.0767 - accuracy: 0.8996 - val_loss: 0.0616 - val_accuracy: 0.9937\n",
            "Epoch 2/2\n",
            "3990/3990 [==============================] - 44s 11ms/step - loss: 0.0577 - accuracy: 0.9926 - val_loss: 0.0531 - val_accuracy: 0.9937\n"
          ]
        },
        {
          "name": "stderr",
          "output_type": "stream",
          "text": [
            "\r 12%|█▎        | 2/16 [03:12<22:22, 95.87s/it]"
          ]
        },
        {
          "name": "stdout",
          "output_type": "stream",
          "text": [
            "{'output_count_lstm': 50, 'output_1_count_dense': 40, 'output_2_count_dense': 40, 'filters': 64, 'kernel_size': 3, 'batch_size': 32, 'pool_size': 3, 'epochs': 2, 'optimizer': 'adam', 'activation': 'relu', 'last_activation': 'sigmoid', 'dropout': 0.1, 'loss': 'binary_crossentropy'}\n",
            "Epoch 1/2\n",
            "3990/3990 [==============================] - 48s 11ms/step - loss: 0.0698 - accuracy: 0.9320 - val_loss: 0.0554 - val_accuracy: 0.9937\n",
            "Epoch 2/2\n",
            "3990/3990 [==============================] - 44s 11ms/step - loss: 0.0554 - accuracy: 0.9891 - val_loss: 0.0605 - val_accuracy: 0.9937\n"
          ]
        },
        {
          "name": "stderr",
          "output_type": "stream",
          "text": [
            "\r 19%|█▉        | 3/16 [04:45<20:29, 94.61s/it]"
          ]
        },
        {
          "name": "stdout",
          "output_type": "stream",
          "text": [
            "{'output_count_lstm': 50, 'output_1_count_dense': 40, 'output_2_count_dense': 40, 'filters': 64, 'kernel_size': 3, 'batch_size': 32, 'pool_size': 3, 'epochs': 2, 'optimizer': 'adam', 'activation': 'relu', 'last_activation': 'sigmoid', 'dropout': 0.2, 'loss': 'binary_crossentropy'}\n",
            "Epoch 1/2\n",
            "3990/3990 [==============================] - 48s 11ms/step - loss: 0.0761 - accuracy: 0.8546 - val_loss: 0.0788 - val_accuracy: 0.9919\n",
            "Epoch 2/2\n",
            "3990/3990 [==============================] - 44s 11ms/step - loss: 0.0564 - accuracy: 0.9887 - val_loss: 0.0596 - val_accuracy: 0.9937\n"
          ]
        },
        {
          "name": "stderr",
          "output_type": "stream",
          "text": [
            "\r 25%|██▌       | 4/16 [06:19<18:49, 94.10s/it]"
          ]
        },
        {
          "name": "stdout",
          "output_type": "stream",
          "text": [
            "{'output_count_lstm': 50, 'output_1_count_dense': 50, 'output_2_count_dense': 30, 'filters': 64, 'kernel_size': 3, 'batch_size': 32, 'pool_size': 3, 'epochs': 2, 'optimizer': 'adam', 'activation': 'relu', 'last_activation': 'sigmoid', 'dropout': 0.1, 'loss': 'binary_crossentropy'}\n",
            "Epoch 1/2\n",
            "3990/3990 [==============================] - 48s 11ms/step - loss: 0.0709 - accuracy: 0.9012 - val_loss: 0.0555 - val_accuracy: 0.9936\n",
            "Epoch 2/2\n",
            "3990/3990 [==============================] - 44s 11ms/step - loss: 0.0553 - accuracy: 0.9858 - val_loss: 0.0521 - val_accuracy: 0.9937\n"
          ]
        },
        {
          "name": "stderr",
          "output_type": "stream",
          "text": [
            "\r 31%|███▏      | 5/16 [07:52<17:13, 93.94s/it]"
          ]
        },
        {
          "name": "stdout",
          "output_type": "stream",
          "text": [
            "{'output_count_lstm': 50, 'output_1_count_dense': 50, 'output_2_count_dense': 30, 'filters': 64, 'kernel_size': 3, 'batch_size': 32, 'pool_size': 3, 'epochs': 2, 'optimizer': 'adam', 'activation': 'relu', 'last_activation': 'sigmoid', 'dropout': 0.2, 'loss': 'binary_crossentropy'}\n",
            "Epoch 1/2\n",
            "3990/3990 [==============================] - 49s 11ms/step - loss: 0.0742 - accuracy: 0.9057 - val_loss: 0.0560 - val_accuracy: 0.9937\n",
            "Epoch 2/2\n",
            "3990/3990 [==============================] - 45s 11ms/step - loss: 0.0578 - accuracy: 0.9915 - val_loss: 0.0537 - val_accuracy: 0.9937\n"
          ]
        },
        {
          "name": "stderr",
          "output_type": "stream",
          "text": [
            "\r 38%|███▊      | 6/16 [09:27<15:42, 94.30s/it]"
          ]
        },
        {
          "name": "stdout",
          "output_type": "stream",
          "text": [
            "{'output_count_lstm': 50, 'output_1_count_dense': 50, 'output_2_count_dense': 40, 'filters': 64, 'kernel_size': 3, 'batch_size': 32, 'pool_size': 3, 'epochs': 2, 'optimizer': 'adam', 'activation': 'relu', 'last_activation': 'sigmoid', 'dropout': 0.1, 'loss': 'binary_crossentropy'}\n",
            "Epoch 1/2\n",
            "3990/3990 [==============================] - 48s 11ms/step - loss: 0.0706 - accuracy: 0.9316 - val_loss: 0.0715 - val_accuracy: 0.9933\n",
            "Epoch 2/2\n",
            "3990/3990 [==============================] - 44s 11ms/step - loss: 0.0551 - accuracy: 0.9800 - val_loss: 0.0622 - val_accuracy: 0.9833\n"
          ]
        },
        {
          "name": "stderr",
          "output_type": "stream",
          "text": [
            "\r 44%|████▍     | 7/16 [11:01<14:07, 94.20s/it]"
          ]
        },
        {
          "name": "stdout",
          "output_type": "stream",
          "text": [
            "{'output_count_lstm': 50, 'output_1_count_dense': 50, 'output_2_count_dense': 40, 'filters': 64, 'kernel_size': 3, 'batch_size': 32, 'pool_size': 3, 'epochs': 2, 'optimizer': 'adam', 'activation': 'relu', 'last_activation': 'sigmoid', 'dropout': 0.2, 'loss': 'binary_crossentropy'}\n",
            "Epoch 1/2\n",
            "3990/3990 [==============================] - 48s 11ms/step - loss: 0.0722 - accuracy: 0.9055 - val_loss: 0.0603 - val_accuracy: 0.9930\n",
            "Epoch 2/2\n",
            "3990/3990 [==============================] - 44s 11ms/step - loss: 0.0559 - accuracy: 0.9872 - val_loss: 0.0637 - val_accuracy: 0.9937\n"
          ]
        },
        {
          "name": "stderr",
          "output_type": "stream",
          "text": [
            "\r 50%|█████     | 8/16 [12:35<12:32, 94.06s/it]"
          ]
        },
        {
          "name": "stdout",
          "output_type": "stream",
          "text": [
            "{'output_count_lstm': 60, 'output_1_count_dense': 40, 'output_2_count_dense': 30, 'filters': 64, 'kernel_size': 3, 'batch_size': 32, 'pool_size': 3, 'epochs': 2, 'optimizer': 'adam', 'activation': 'relu', 'last_activation': 'sigmoid', 'dropout': 0.1, 'loss': 'binary_crossentropy'}\n",
            "Epoch 1/2\n",
            "3990/3990 [==============================] - 46s 11ms/step - loss: 0.0736 - accuracy: 0.8798 - val_loss: 0.0661 - val_accuracy: 0.9694\n",
            "Epoch 2/2\n",
            "3990/3990 [==============================] - 42s 11ms/step - loss: 0.0554 - accuracy: 0.9821 - val_loss: 0.0545 - val_accuracy: 0.9937\n"
          ]
        },
        {
          "name": "stderr",
          "output_type": "stream",
          "text": [
            "\r 56%|█████▋    | 9/16 [14:05<10:49, 92.74s/it]"
          ]
        },
        {
          "name": "stdout",
          "output_type": "stream",
          "text": [
            "{'output_count_lstm': 60, 'output_1_count_dense': 40, 'output_2_count_dense': 30, 'filters': 64, 'kernel_size': 3, 'batch_size': 32, 'pool_size': 3, 'epochs': 2, 'optimizer': 'adam', 'activation': 'relu', 'last_activation': 'sigmoid', 'dropout': 0.2, 'loss': 'binary_crossentropy'}\n",
            "Epoch 1/2\n",
            "3990/3990 [==============================] - 46s 11ms/step - loss: 0.0788 - accuracy: 0.8956 - val_loss: 0.0595 - val_accuracy: 0.9937\n",
            "Epoch 2/2\n",
            "3990/3990 [==============================] - 42s 11ms/step - loss: 0.0573 - accuracy: 0.9920 - val_loss: 0.0573 - val_accuracy: 0.9937\n"
          ]
        },
        {
          "name": "stderr",
          "output_type": "stream",
          "text": [
            "\r 62%|██████▎   | 10/16 [15:34<09:10, 91.77s/it]"
          ]
        },
        {
          "name": "stdout",
          "output_type": "stream",
          "text": [
            "{'output_count_lstm': 60, 'output_1_count_dense': 40, 'output_2_count_dense': 40, 'filters': 64, 'kernel_size': 3, 'batch_size': 32, 'pool_size': 3, 'epochs': 2, 'optimizer': 'adam', 'activation': 'relu', 'last_activation': 'sigmoid', 'dropout': 0.1, 'loss': 'binary_crossentropy'}\n",
            "Epoch 1/2\n",
            "3990/3990 [==============================] - 46s 11ms/step - loss: 0.0698 - accuracy: 0.8831 - val_loss: 0.0651 - val_accuracy: 0.9936\n",
            "Epoch 2/2\n",
            "3990/3990 [==============================] - 42s 11ms/step - loss: 0.0548 - accuracy: 0.9760 - val_loss: 0.0514 - val_accuracy: 0.9871\n"
          ]
        },
        {
          "name": "stderr",
          "output_type": "stream",
          "text": [
            "\r 69%|██████▉   | 11/16 [17:04<07:35, 91.16s/it]"
          ]
        },
        {
          "name": "stdout",
          "output_type": "stream",
          "text": [
            "{'output_count_lstm': 60, 'output_1_count_dense': 40, 'output_2_count_dense': 40, 'filters': 64, 'kernel_size': 3, 'batch_size': 32, 'pool_size': 3, 'epochs': 2, 'optimizer': 'adam', 'activation': 'relu', 'last_activation': 'sigmoid', 'dropout': 0.2, 'loss': 'binary_crossentropy'}\n",
            "Epoch 1/2\n",
            "3990/3990 [==============================] - 46s 11ms/step - loss: 0.0743 - accuracy: 0.9207 - val_loss: 0.0567 - val_accuracy: 0.9937\n",
            "Epoch 2/2\n",
            "3990/3990 [==============================] - 42s 11ms/step - loss: 0.0561 - accuracy: 0.9926 - val_loss: 0.0517 - val_accuracy: 0.9935\n"
          ]
        },
        {
          "name": "stderr",
          "output_type": "stream",
          "text": [
            "\r 75%|███████▌  | 12/16 [18:34<06:02, 90.67s/it]"
          ]
        },
        {
          "name": "stdout",
          "output_type": "stream",
          "text": [
            "{'output_count_lstm': 60, 'output_1_count_dense': 50, 'output_2_count_dense': 30, 'filters': 64, 'kernel_size': 3, 'batch_size': 32, 'pool_size': 3, 'epochs': 2, 'optimizer': 'adam', 'activation': 'relu', 'last_activation': 'sigmoid', 'dropout': 0.1, 'loss': 'binary_crossentropy'}\n",
            "Epoch 1/2\n",
            "3990/3990 [==============================] - 46s 11ms/step - loss: 0.0707 - accuracy: 0.9251 - val_loss: 0.0761 - val_accuracy: 0.9930\n",
            "Epoch 2/2\n",
            "3990/3990 [==============================] - 42s 10ms/step - loss: 0.0552 - accuracy: 0.9856 - val_loss: 0.0530 - val_accuracy: 0.9930\n"
          ]
        },
        {
          "name": "stderr",
          "output_type": "stream",
          "text": [
            "\r 81%|████████▏ | 13/16 [20:03<04:30, 90.27s/it]"
          ]
        },
        {
          "name": "stdout",
          "output_type": "stream",
          "text": [
            "{'output_count_lstm': 60, 'output_1_count_dense': 50, 'output_2_count_dense': 30, 'filters': 64, 'kernel_size': 3, 'batch_size': 32, 'pool_size': 3, 'epochs': 2, 'optimizer': 'adam', 'activation': 'relu', 'last_activation': 'sigmoid', 'dropout': 0.2, 'loss': 'binary_crossentropy'}\n",
            "Epoch 1/2\n",
            "3990/3990 [==============================] - 46s 11ms/step - loss: 0.0724 - accuracy: 0.9246 - val_loss: 0.0611 - val_accuracy: 0.9937\n",
            "Epoch 2/2\n",
            "3990/3990 [==============================] - 42s 11ms/step - loss: 0.0557 - accuracy: 0.9933 - val_loss: 0.0554 - val_accuracy: 0.9937\n"
          ]
        },
        {
          "name": "stderr",
          "output_type": "stream",
          "text": [
            "\r 88%|████████▊ | 14/16 [21:33<03:00, 90.01s/it]"
          ]
        },
        {
          "name": "stdout",
          "output_type": "stream",
          "text": [
            "{'output_count_lstm': 60, 'output_1_count_dense': 50, 'output_2_count_dense': 40, 'filters': 64, 'kernel_size': 3, 'batch_size': 32, 'pool_size': 3, 'epochs': 2, 'optimizer': 'adam', 'activation': 'relu', 'last_activation': 'sigmoid', 'dropout': 0.1, 'loss': 'binary_crossentropy'}\n",
            "Epoch 1/2\n",
            "3990/3990 [==============================] - 46s 11ms/step - loss: 0.0686 - accuracy: 0.9378 - val_loss: 0.0589 - val_accuracy: 0.9936\n",
            "Epoch 2/2\n",
            "3990/3990 [==============================] - 42s 10ms/step - loss: 0.0540 - accuracy: 0.9903 - val_loss: 0.0524 - val_accuracy: 0.9934\n"
          ]
        },
        {
          "name": "stderr",
          "output_type": "stream",
          "text": [
            "\r 94%|█████████▍| 15/16 [23:02<01:29, 89.77s/it]"
          ]
        },
        {
          "name": "stdout",
          "output_type": "stream",
          "text": [
            "{'output_count_lstm': 60, 'output_1_count_dense': 50, 'output_2_count_dense': 40, 'filters': 64, 'kernel_size': 3, 'batch_size': 32, 'pool_size': 3, 'epochs': 2, 'optimizer': 'adam', 'activation': 'relu', 'last_activation': 'sigmoid', 'dropout': 0.2, 'loss': 'binary_crossentropy'}\n",
            "Epoch 1/2\n",
            "3990/3990 [==============================] - 46s 11ms/step - loss: 0.0730 - accuracy: 0.9131 - val_loss: 0.0570 - val_accuracy: 0.9937\n",
            "Epoch 2/2\n",
            "3990/3990 [==============================] - 42s 10ms/step - loss: 0.0563 - accuracy: 0.9915 - val_loss: 0.0543 - val_accuracy: 0.9935\n"
          ]
        },
        {
          "name": "stderr",
          "output_type": "stream",
          "text": [
            "100%|██████████| 16/16 [24:31<00:00, 91.97s/it]\n"
          ]
        }
      ],
      "source": [
        "scan_results = talos.Scan(x=x_train,\n",
        "               y=y_train,\n",
        "               x_val=x_val,\n",
        "               y_val=y_val,\n",
        "               model=toxic_classifier,\n",
        "               params=p,\n",
        "               experiment_name='tcc',\n",
        "               print_params=True)"
      ]
    },
    {
      "cell_type": "code",
      "execution_count": null,
      "metadata": {
        "colab": {
          "base_uri": "https://localhost:8080/"
        },
        "id": "4V_2LLu3k7Rm",
        "outputId": "d466e7c0-9149-4473-d48e-314ada80c15a"
      },
      "outputs": [
        {
          "data": {
            "text/plain": [
              "0"
            ]
          },
          "execution_count": 70,
          "metadata": {},
          "output_type": "execute_result"
        }
      ],
      "source": [
        "model_id = scan_results.data['val_accuracy'].astype('float').argmax()\n",
        "model_id"
      ]
    },
    {
      "cell_type": "markdown",
      "metadata": {
        "id": "9vtXNcMX638f"
      },
      "source": [
        "# **Training Model with Best Parameters**\n",
        "**LSTM**"
      ]
    },
    {
      "cell_type": "code",
      "execution_count": null,
      "metadata": {
        "id": "GJXP0yVz7Vcz"
      },
      "outputs": [],
      "source": [
        "inp=Input(shape=(maxpadlen, ),dtype='int32')"
      ]
    },
    {
      "cell_type": "code",
      "execution_count": null,
      "metadata": {
        "id": "9NcR8WRP7X_J"
      },
      "outputs": [],
      "source": [
        "embedding_layer = Embedding(len(word_index) + 1,\n",
        "                           embedding_dim_fasttext,\n",
        "                           weights = [embedding_matrix_fasttext],\n",
        "                           input_length = maxpadlen,\n",
        "                           trainable=False,\n",
        "                           name = 'embeddings')\n",
        "embedded_sequences = embedding_layer(inp)"
      ]
    },
    {
      "cell_type": "code",
      "execution_count": null,
      "metadata": {
        "id": "Yp-f8VmN7bc8"
      },
      "outputs": [],
      "source": [
        "x = LSTM(40, return_sequences=True,name='lstm_layer')(embedded_sequences)\n",
        "x = GlobalMaxPool1D()(x)\n",
        "x = Dropout(0.1)(x)\n",
        "x = Dense(30, activation=\"relu\", kernel_initializer='he_uniform')(x)\n",
        "x = Dropout(0.1)(x)\n",
        "preds = Dense(6, activation=\"sigmoid\", kernel_initializer='glorot_uniform')(x)"
      ]
    },
    {
      "cell_type": "code",
      "execution_count": null,
      "metadata": {
        "id": "HKG3uygA7hYU"
      },
      "outputs": [],
      "source": [
        "model_1 = Model(inputs=inp, outputs=preds)\n",
        "model_1.compile(loss='binary_crossentropy',\n",
        "                  optimizer='adam',\n",
        "                  metrics=['accuracy'])"
      ]
    },
    {
      "cell_type": "code",
      "execution_count": null,
      "metadata": {
        "colab": {
          "base_uri": "https://localhost:8080/"
        },
        "id": "yUaDov_u7lw0",
        "outputId": "a3984788-5b65-414c-c284-eb78cd4be62b"
      },
      "outputs": [
        {
          "name": "stdout",
          "output_type": "stream",
          "text": [
            "Model: \"model\"\n",
            "_________________________________________________________________\n",
            " Layer (type)                Output Shape              Param #   \n",
            "=================================================================\n",
            " input_1 (InputLayer)        [(None, 200)]             0         \n",
            "                                                                 \n",
            " embeddings (Embedding)      (None, 200, 300)          44675400  \n",
            "                                                                 \n",
            " lstm_layer (LSTM)           (None, 200, 40)           54560     \n",
            "                                                                 \n",
            " global_max_pooling1d (Globa  (None, 40)               0         \n",
            " lMaxPooling1D)                                                  \n",
            "                                                                 \n",
            " dropout (Dropout)           (None, 40)                0         \n",
            "                                                                 \n",
            " dense (Dense)               (None, 30)                1230      \n",
            "                                                                 \n",
            " dropout_1 (Dropout)         (None, 30)                0         \n",
            "                                                                 \n",
            " dense_1 (Dense)             (None, 6)                 186       \n",
            "                                                                 \n",
            "=================================================================\n",
            "Total params: 44,731,376\n",
            "Trainable params: 55,976\n",
            "Non-trainable params: 44,675,400\n",
            "_________________________________________________________________\n"
          ]
        }
      ],
      "source": [
        "model_1.summary()"
      ]
    },
    {
      "cell_type": "code",
      "execution_count": null,
      "metadata": {
        "colab": {
          "background_save": true,
          "base_uri": "https://localhost:8080/"
        },
        "id": "FPGLLch87sK1",
        "outputId": "5d5f4ffb-36f0-4fd3-d310-88cb4bda7ae5"
      },
      "outputs": [
        {
          "name": "stdout",
          "output_type": "stream",
          "text": [
            "Epoch 1/2\n",
            "3990/3990 [==============================] - 40s 9ms/step - loss: 0.0730 - accuracy: 0.9427 - val_loss: 0.0555 - val_accuracy: 0.9937\n",
            "Epoch 2/2\n",
            "3990/3990 [==============================] - 36s 9ms/step - loss: 0.0546 - accuracy: 0.9940 - val_loss: 0.0516 - val_accuracy: 0.9937\n"
          ]
        }
      ],
      "source": [
        "model_info_1=model_1.fit(x_train,y_train, epochs=2, batch_size=32,  validation_data=(x_val, y_val))"
      ]
    },
    {
      "cell_type": "markdown",
      "metadata": {
        "id": "emXh1pI6LPaT"
      },
      "source": [
        "**LSTM-CNN**"
      ]
    },
    {
      "cell_type": "code",
      "execution_count": null,
      "metadata": {
        "id": "lRKsRfrk76Av"
      },
      "outputs": [],
      "source": [
        "inp=Input(shape=(maxpadlen, ),dtype='int32')"
      ]
    },
    {
      "cell_type": "code",
      "execution_count": null,
      "metadata": {
        "id": "k6LpNGsMLQw6"
      },
      "outputs": [],
      "source": [
        "embedding_layer = Embedding(len(word_index) + 1,\n",
        "                           embedding_dim_fasttext,\n",
        "                           weights = [embedding_matrix_fasttext],\n",
        "                           input_length = maxpadlen,\n",
        "                           trainable=False,\n",
        "                           name = 'embeddings')\n",
        "embedded_sequences = embedding_layer(inp)"
      ]
    },
    {
      "cell_type": "code",
      "execution_count": null,
      "metadata": {
        "id": "B8X7oD_WMIXT",
        "colab": {
          "base_uri": "https://localhost:8080/",
          "height": 244
        },
        "outputId": "06a00698-9899-4701-8d0b-364aa518bb0e"
      },
      "outputs": [
        {
          "output_type": "error",
          "ename": "NameError",
          "evalue": "ignored",
          "traceback": [
            "\u001b[0;31m---------------------------------------------------------------------------\u001b[0m",
            "\u001b[0;31mNameError\u001b[0m                                 Traceback (most recent call last)",
            "\u001b[0;32m<ipython-input-79-3f31e0f5c773>\u001b[0m in \u001b[0;36m<cell line: 3>\u001b[0;34m()\u001b[0m\n\u001b[1;32m      1\u001b[0m \u001b[0mmodel\u001b[0m \u001b[0;34m=\u001b[0m \u001b[0mSequential\u001b[0m\u001b[0;34m(\u001b[0m\u001b[0;34m)\u001b[0m\u001b[0;34m\u001b[0m\u001b[0;34m\u001b[0m\u001b[0m\n\u001b[1;32m      2\u001b[0m \u001b[0;31m# Create the embedding layer\u001b[0m\u001b[0;34m\u001b[0m\u001b[0;34m\u001b[0m\u001b[0m\n\u001b[0;32m----> 3\u001b[0;31m \u001b[0mmodel\u001b[0m\u001b[0;34m.\u001b[0m\u001b[0madd\u001b[0m\u001b[0;34m(\u001b[0m\u001b[0mEmbedding\u001b[0m\u001b[0;34m(\u001b[0m\u001b[0mMAX_words\u001b[0m\u001b[0;34m+\u001b[0m\u001b[0;36m1\u001b[0m\u001b[0;34m,\u001b[0m \u001b[0;36m32\u001b[0m\u001b[0;34m)\u001b[0m\u001b[0;34m)\u001b[0m\u001b[0;34m\u001b[0m\u001b[0;34m\u001b[0m\u001b[0m\n\u001b[0m\u001b[1;32m      4\u001b[0m \u001b[0;31m# Bidirectional LSTM Layer\u001b[0m\u001b[0;34m\u001b[0m\u001b[0;34m\u001b[0m\u001b[0m\n\u001b[1;32m      5\u001b[0m \u001b[0mmodel\u001b[0m\u001b[0;34m.\u001b[0m\u001b[0madd\u001b[0m\u001b[0;34m(\u001b[0m\u001b[0mBidirectional\u001b[0m\u001b[0;34m(\u001b[0m\u001b[0mLSTM\u001b[0m\u001b[0;34m(\u001b[0m\u001b[0;36m32\u001b[0m\u001b[0;34m,\u001b[0m \u001b[0mactivation\u001b[0m\u001b[0;34m=\u001b[0m\u001b[0;34m'tanh'\u001b[0m\u001b[0;34m)\u001b[0m\u001b[0;34m)\u001b[0m\u001b[0;34m)\u001b[0m\u001b[0;34m\u001b[0m\u001b[0;34m\u001b[0m\u001b[0m\n",
            "\u001b[0;31mNameError\u001b[0m: name 'MAX_words' is not defined"
          ]
        }
      ],
      "source": []
    },
    {
      "cell_type": "code",
      "execution_count": null,
      "metadata": {
        "id": "eRSCFAkmMaDZ"
      },
      "outputs": [],
      "source": [
        "x = LSTM(50, return_sequences=True,name='lstm_layer')(embedded_sequences)\n",
        "x = Conv1D(filters=64, kernel_size=3, padding='same', activation='relu', kernel_initializer='he_uniform')(x)\n",
        "x = MaxPooling1D(3)(x)\n",
        "x = GlobalMaxPool1D()(x)\n",
        "x = BatchNormalization()(x)\n",
        "x = Dense(40, activation=\"relu\", kernel_initializer='he_uniform')(x)\n",
        "x = Dropout(0.2)(x)\n",
        "x = Dense(30, activation=\"relu\", kernel_initializer='he_uniform')(x)\n",
        "x = Dropout(0.2)(x)\n",
        "preds = Dense(6, activation=\"sigmoid\", kernel_initializer='glorot_uniform')(x)"
      ]
    },
    {
      "cell_type": "code",
      "execution_count": null,
      "metadata": {
        "id": "bfjMxr-4MfIU"
      },
      "outputs": [],
      "source": [
        "model_2 = Model(inputs=inp, outputs=preds)\n",
        "model_2.compile(loss='binary_crossentropy',\n",
        "                  optimizer='adam',\n",
        "                  metrics=['accuracy'])"
      ]
    },
    {
      "cell_type": "code",
      "execution_count": null,
      "metadata": {
        "colab": {
          "base_uri": "https://localhost:8080/"
        },
        "id": "pXjTqUGNMnzC",
        "outputId": "41e0ea7a-6c64-4302-c1c9-14889451fb14"
      },
      "outputs": [
        {
          "output_type": "stream",
          "name": "stdout",
          "text": [
            "Model: \"model_2\"\n",
            "_________________________________________________________________\n",
            " Layer (type)                Output Shape              Param #   \n",
            "=================================================================\n",
            " input_2 (InputLayer)        [(None, 200)]             0         \n",
            "                                                                 \n",
            " embeddings (Embedding)      (None, 200, 300)          44675400  \n",
            "                                                                 \n",
            " lstm_layer (LSTM)           (None, 200, 50)           70200     \n",
            "                                                                 \n",
            " conv1d (Conv1D)             (None, 200, 64)           9664      \n",
            "                                                                 \n",
            " max_pooling1d (MaxPooling1D  (None, 66, 64)           0         \n",
            " )                                                               \n",
            "                                                                 \n",
            " global_max_pooling1d_1 (Glo  (None, 64)               0         \n",
            " balMaxPooling1D)                                                \n",
            "                                                                 \n",
            " batch_normalization (BatchN  (None, 64)               256       \n",
            " ormalization)                                                   \n",
            "                                                                 \n",
            " dense_2 (Dense)             (None, 40)                2600      \n",
            "                                                                 \n",
            " dropout_2 (Dropout)         (None, 40)                0         \n",
            "                                                                 \n",
            " dense_3 (Dense)             (None, 30)                1230      \n",
            "                                                                 \n",
            " dropout_3 (Dropout)         (None, 30)                0         \n",
            "                                                                 \n",
            " dense_4 (Dense)             (None, 6)                 186       \n",
            "                                                                 \n",
            "=================================================================\n",
            "Total params: 44,759,536\n",
            "Trainable params: 84,008\n",
            "Non-trainable params: 44,675,528\n",
            "_________________________________________________________________\n"
          ]
        }
      ],
      "source": [
        "model_2.summary()"
      ]
    },
    {
      "cell_type": "code",
      "execution_count": null,
      "metadata": {
        "id": "hY3MFuMLNJPM",
        "colab": {
          "base_uri": "https://localhost:8080/"
        },
        "outputId": "44e35627-aab6-4115-9c09-119801b75ac2"
      },
      "outputs": [
        {
          "output_type": "stream",
          "name": "stdout",
          "text": [
            "Epoch 1/2\n",
            "3990/3990 [==============================] - 48s 11ms/step - loss: 0.0731 - accuracy: 0.9062 - val_loss: 0.0554 - val_accuracy: 0.9937\n",
            "Epoch 2/2\n",
            "3990/3990 [==============================] - 45s 11ms/step - loss: 0.0568 - accuracy: 0.9923 - val_loss: 0.0573 - val_accuracy: 0.9937\n"
          ]
        }
      ],
      "source": [
        "model_info_2=model_2.fit(x_train,y_train, epochs=2, batch_size=32,  validation_data=(x_val, y_val))"
      ]
    },
    {
      "cell_type": "markdown",
      "metadata": {
        "id": "WyYsnqgZLOTr"
      },
      "source": [
        "# **Plotting Graphs**\n",
        "**LSTM**"
      ]
    },
    {
      "cell_type": "code",
      "source": [
        "loss = model_info_1.history['loss']\n",
        "val_loss = model_info_1.history['val_loss']\n",
        "\n",
        "epochs = range(1, len(loss)+1)\n",
        "\n",
        "plt.plot(epochs, loss, label='Training loss')\n",
        "plt.plot(epochs, val_loss, label='Validation loss')\n",
        "plt.title('Training and Validation loss')\n",
        "plt.xlabel('Epochs')\n",
        "plt.ylabel('Loss')\n",
        "plt.legend()\n",
        "plt.show();"
      ],
      "metadata": {
        "id": "VB0MDnFr8v1P",
        "colab": {
          "base_uri": "https://localhost:8080/",
          "height": 1000
        },
        "outputId": "7990d03b-1023-47bb-92b3-9d4e4e2b1472"
      },
      "execution_count": null,
      "outputs": [
        {
          "output_type": "stream",
          "name": "stderr",
          "text": [
            "WARNING:matplotlib.font_manager:findfont: Font family 'Verdana' not found.\n",
            "WARNING:matplotlib.font_manager:findfont: Font family 'Geneva' not found.\n",
            "WARNING:matplotlib.font_manager:findfont: Font family 'Verdana' not found.\n",
            "WARNING:matplotlib.font_manager:findfont: Font family 'Geneva' not found.\n",
            "WARNING:matplotlib.font_manager:findfont: Font family 'Verdana' not found.\n",
            "WARNING:matplotlib.font_manager:findfont: Font family 'Geneva' not found.\n",
            "WARNING:matplotlib.font_manager:findfont: Font family 'Verdana' not found.\n",
            "WARNING:matplotlib.font_manager:findfont: Font family 'Geneva' not found.\n",
            "WARNING:matplotlib.font_manager:findfont: Font family 'Verdana' not found.\n",
            "WARNING:matplotlib.font_manager:findfont: Font family 'Geneva' not found.\n",
            "WARNING:matplotlib.font_manager:findfont: Font family 'Verdana' not found.\n",
            "WARNING:matplotlib.font_manager:findfont: Font family 'Geneva' not found.\n",
            "WARNING:matplotlib.font_manager:findfont: Font family 'Verdana' not found.\n",
            "WARNING:matplotlib.font_manager:findfont: Font family 'Geneva' not found.\n",
            "WARNING:matplotlib.font_manager:findfont: Font family 'Verdana' not found.\n",
            "WARNING:matplotlib.font_manager:findfont: Font family 'Geneva' not found.\n",
            "WARNING:matplotlib.font_manager:findfont: Font family 'Verdana' not found.\n",
            "WARNING:matplotlib.font_manager:findfont: Font family 'Geneva' not found.\n",
            "WARNING:matplotlib.font_manager:findfont: Font family 'Verdana' not found.\n",
            "WARNING:matplotlib.font_manager:findfont: Font family 'Geneva' not found.\n",
            "WARNING:matplotlib.font_manager:findfont: Font family 'Verdana' not found.\n",
            "WARNING:matplotlib.font_manager:findfont: Font family 'Geneva' not found.\n",
            "WARNING:matplotlib.font_manager:findfont: Font family 'Verdana' not found.\n",
            "WARNING:matplotlib.font_manager:findfont: Font family 'Geneva' not found.\n",
            "WARNING:matplotlib.font_manager:findfont: Font family 'Verdana' not found.\n",
            "WARNING:matplotlib.font_manager:findfont: Font family 'Geneva' not found.\n",
            "WARNING:matplotlib.font_manager:findfont: Font family 'Verdana' not found.\n",
            "WARNING:matplotlib.font_manager:findfont: Font family 'Geneva' not found.\n",
            "WARNING:matplotlib.font_manager:findfont: Font family 'Verdana' not found.\n",
            "WARNING:matplotlib.font_manager:findfont: Font family 'Geneva' not found.\n",
            "WARNING:matplotlib.font_manager:findfont: Font family 'Verdana' not found.\n",
            "WARNING:matplotlib.font_manager:findfont: Font family 'Geneva' not found.\n",
            "WARNING:matplotlib.font_manager:findfont: Font family 'Verdana' not found.\n",
            "WARNING:matplotlib.font_manager:findfont: Font family 'Geneva' not found.\n",
            "WARNING:matplotlib.font_manager:findfont: Font family 'Verdana' not found.\n",
            "WARNING:matplotlib.font_manager:findfont: Font family 'Geneva' not found.\n",
            "WARNING:matplotlib.font_manager:findfont: Font family 'Verdana' not found.\n",
            "WARNING:matplotlib.font_manager:findfont: Font family 'Geneva' not found.\n",
            "WARNING:matplotlib.font_manager:findfont: Font family 'Verdana' not found.\n",
            "WARNING:matplotlib.font_manager:findfont: Font family 'Geneva' not found.\n",
            "WARNING:matplotlib.font_manager:findfont: Font family 'Verdana' not found.\n",
            "WARNING:matplotlib.font_manager:findfont: Font family 'Geneva' not found.\n",
            "WARNING:matplotlib.font_manager:findfont: Font family 'Verdana' not found.\n",
            "WARNING:matplotlib.font_manager:findfont: Font family 'Geneva' not found.\n",
            "WARNING:matplotlib.font_manager:findfont: Font family 'Verdana' not found.\n",
            "WARNING:matplotlib.font_manager:findfont: Font family 'Geneva' not found.\n",
            "WARNING:matplotlib.font_manager:findfont: Font family 'Verdana' not found.\n",
            "WARNING:matplotlib.font_manager:findfont: Font family 'Geneva' not found.\n",
            "WARNING:matplotlib.font_manager:findfont: Font family 'Verdana' not found.\n",
            "WARNING:matplotlib.font_manager:findfont: Font family 'Geneva' not found.\n",
            "WARNING:matplotlib.font_manager:findfont: Font family 'Verdana' not found.\n",
            "WARNING:matplotlib.font_manager:findfont: Font family 'Geneva' not found.\n",
            "WARNING:matplotlib.font_manager:findfont: Font family 'Verdana' not found.\n",
            "WARNING:matplotlib.font_manager:findfont: Font family 'Geneva' not found.\n",
            "WARNING:matplotlib.font_manager:findfont: Font family 'Verdana' not found.\n",
            "WARNING:matplotlib.font_manager:findfont: Font family 'Geneva' not found.\n",
            "WARNING:matplotlib.font_manager:findfont: Font family 'Verdana' not found.\n",
            "WARNING:matplotlib.font_manager:findfont: Font family 'Geneva' not found.\n",
            "WARNING:matplotlib.font_manager:findfont: Font family 'Verdana' not found.\n",
            "WARNING:matplotlib.font_manager:findfont: Font family 'Geneva' not found.\n",
            "WARNING:matplotlib.font_manager:findfont: Font family 'Verdana' not found.\n",
            "WARNING:matplotlib.font_manager:findfont: Font family 'Geneva' not found.\n",
            "WARNING:matplotlib.font_manager:findfont: Font family 'Verdana' not found.\n",
            "WARNING:matplotlib.font_manager:findfont: Font family 'Geneva' not found.\n",
            "WARNING:matplotlib.font_manager:findfont: Font family 'Verdana' not found.\n",
            "WARNING:matplotlib.font_manager:findfont: Font family 'Geneva' not found.\n",
            "WARNING:matplotlib.font_manager:findfont: Font family 'Verdana' not found.\n",
            "WARNING:matplotlib.font_manager:findfont: Font family 'Geneva' not found.\n",
            "WARNING:matplotlib.font_manager:findfont: Font family 'Verdana' not found.\n",
            "WARNING:matplotlib.font_manager:findfont: Font family 'Geneva' not found.\n",
            "WARNING:matplotlib.font_manager:findfont: Font family 'Verdana' not found.\n",
            "WARNING:matplotlib.font_manager:findfont: Font family 'Geneva' not found.\n",
            "WARNING:matplotlib.font_manager:findfont: Font family 'Verdana' not found.\n",
            "WARNING:matplotlib.font_manager:findfont: Font family 'Geneva' not found.\n",
            "WARNING:matplotlib.font_manager:findfont: Font family 'Verdana' not found.\n",
            "WARNING:matplotlib.font_manager:findfont: Font family 'Geneva' not found.\n",
            "WARNING:matplotlib.font_manager:findfont: Font family 'Verdana' not found.\n",
            "WARNING:matplotlib.font_manager:findfont: Font family 'Geneva' not found.\n",
            "WARNING:matplotlib.font_manager:findfont: Font family 'Verdana' not found.\n",
            "WARNING:matplotlib.font_manager:findfont: Font family 'Geneva' not found.\n",
            "WARNING:matplotlib.font_manager:findfont: Font family 'Verdana' not found.\n",
            "WARNING:matplotlib.font_manager:findfont: Font family 'Geneva' not found.\n",
            "WARNING:matplotlib.font_manager:findfont: Font family 'Verdana' not found.\n",
            "WARNING:matplotlib.font_manager:findfont: Font family 'Geneva' not found.\n",
            "WARNING:matplotlib.font_manager:findfont: Font family 'Verdana' not found.\n",
            "WARNING:matplotlib.font_manager:findfont: Font family 'Geneva' not found.\n",
            "WARNING:matplotlib.font_manager:findfont: Font family 'Verdana' not found.\n",
            "WARNING:matplotlib.font_manager:findfont: Font family 'Geneva' not found.\n",
            "WARNING:matplotlib.font_manager:findfont: Font family 'Verdana' not found.\n",
            "WARNING:matplotlib.font_manager:findfont: Font family 'Geneva' not found.\n",
            "WARNING:matplotlib.font_manager:findfont: Font family 'Verdana' not found.\n",
            "WARNING:matplotlib.font_manager:findfont: Font family 'Geneva' not found.\n",
            "WARNING:matplotlib.font_manager:findfont: Font family 'Verdana' not found.\n",
            "WARNING:matplotlib.font_manager:findfont: Font family 'Geneva' not found.\n",
            "WARNING:matplotlib.font_manager:findfont: Font family 'Verdana' not found.\n",
            "WARNING:matplotlib.font_manager:findfont: Font family 'Geneva' not found.\n",
            "WARNING:matplotlib.font_manager:findfont: Font family 'Verdana' not found.\n",
            "WARNING:matplotlib.font_manager:findfont: Font family 'Geneva' not found.\n",
            "WARNING:matplotlib.font_manager:findfont: Font family 'Verdana' not found.\n",
            "WARNING:matplotlib.font_manager:findfont: Font family 'Geneva' not found.\n",
            "WARNING:matplotlib.font_manager:findfont: Font family 'Verdana' not found.\n",
            "WARNING:matplotlib.font_manager:findfont: Font family 'Geneva' not found.\n",
            "WARNING:matplotlib.font_manager:findfont: Font family 'Verdana' not found.\n",
            "WARNING:matplotlib.font_manager:findfont: Font family 'Geneva' not found.\n",
            "WARNING:matplotlib.font_manager:findfont: Font family 'Verdana' not found.\n",
            "WARNING:matplotlib.font_manager:findfont: Font family 'Geneva' not found.\n",
            "WARNING:matplotlib.font_manager:findfont: Font family 'Verdana' not found.\n",
            "WARNING:matplotlib.font_manager:findfont: Font family 'Geneva' not found.\n",
            "WARNING:matplotlib.font_manager:findfont: Font family 'Verdana' not found.\n",
            "WARNING:matplotlib.font_manager:findfont: Font family 'Geneva' not found.\n",
            "WARNING:matplotlib.font_manager:findfont: Font family 'Verdana' not found.\n",
            "WARNING:matplotlib.font_manager:findfont: Font family 'Geneva' not found.\n",
            "WARNING:matplotlib.font_manager:findfont: Font family 'Verdana' not found.\n",
            "WARNING:matplotlib.font_manager:findfont: Font family 'Geneva' not found.\n",
            "WARNING:matplotlib.font_manager:findfont: Font family 'Verdana' not found.\n",
            "WARNING:matplotlib.font_manager:findfont: Font family 'Geneva' not found.\n",
            "WARNING:matplotlib.font_manager:findfont: Font family 'Verdana' not found.\n",
            "WARNING:matplotlib.font_manager:findfont: Font family 'Geneva' not found.\n",
            "WARNING:matplotlib.font_manager:findfont: Font family 'Verdana' not found.\n",
            "WARNING:matplotlib.font_manager:findfont: Font family 'Geneva' not found.\n",
            "WARNING:matplotlib.font_manager:findfont: Font family 'Verdana' not found.\n",
            "WARNING:matplotlib.font_manager:findfont: Font family 'Geneva' not found.\n",
            "WARNING:matplotlib.font_manager:findfont: Font family 'Verdana' not found.\n",
            "WARNING:matplotlib.font_manager:findfont: Font family 'Geneva' not found.\n",
            "WARNING:matplotlib.font_manager:findfont: Font family 'Verdana' not found.\n",
            "WARNING:matplotlib.font_manager:findfont: Font family 'Geneva' not found.\n",
            "WARNING:matplotlib.font_manager:findfont: Font family 'Verdana' not found.\n",
            "WARNING:matplotlib.font_manager:findfont: Font family 'Geneva' not found.\n",
            "WARNING:matplotlib.font_manager:findfont: Font family 'Verdana' not found.\n",
            "WARNING:matplotlib.font_manager:findfont: Font family 'Geneva' not found.\n",
            "WARNING:matplotlib.font_manager:findfont: Font family 'Verdana' not found.\n",
            "WARNING:matplotlib.font_manager:findfont: Font family 'Geneva' not found.\n",
            "WARNING:matplotlib.font_manager:findfont: Font family 'Verdana' not found.\n",
            "WARNING:matplotlib.font_manager:findfont: Font family 'Geneva' not found.\n",
            "WARNING:matplotlib.font_manager:findfont: Font family 'Verdana' not found.\n",
            "WARNING:matplotlib.font_manager:findfont: Font family 'Geneva' not found.\n",
            "WARNING:matplotlib.font_manager:findfont: Font family 'Verdana' not found.\n",
            "WARNING:matplotlib.font_manager:findfont: Font family 'Geneva' not found.\n",
            "WARNING:matplotlib.font_manager:findfont: Font family 'Verdana' not found.\n",
            "WARNING:matplotlib.font_manager:findfont: Font family 'Geneva' not found.\n",
            "WARNING:matplotlib.font_manager:findfont: Font family 'Verdana' not found.\n",
            "WARNING:matplotlib.font_manager:findfont: Font family 'Geneva' not found.\n",
            "WARNING:matplotlib.font_manager:findfont: Font family 'Verdana' not found.\n",
            "WARNING:matplotlib.font_manager:findfont: Font family 'Geneva' not found.\n",
            "WARNING:matplotlib.font_manager:findfont: Font family 'Verdana' not found.\n",
            "WARNING:matplotlib.font_manager:findfont: Font family 'Geneva' not found.\n",
            "WARNING:matplotlib.font_manager:findfont: Font family 'Verdana' not found.\n",
            "WARNING:matplotlib.font_manager:findfont: Font family 'Geneva' not found.\n",
            "WARNING:matplotlib.font_manager:findfont: Font family 'Verdana' not found.\n",
            "WARNING:matplotlib.font_manager:findfont: Font family 'Geneva' not found.\n",
            "WARNING:matplotlib.font_manager:findfont: Font family 'Verdana' not found.\n",
            "WARNING:matplotlib.font_manager:findfont: Font family 'Geneva' not found.\n",
            "WARNING:matplotlib.font_manager:findfont: Font family 'Verdana' not found.\n",
            "WARNING:matplotlib.font_manager:findfont: Font family 'Geneva' not found.\n"
          ]
        },
        {
          "output_type": "display_data",
          "data": {
            "text/plain": [
              "<Figure size 460.8x345.6 with 1 Axes>"
            ],
            "image/png": "[encoded data removed]"
          },
          "metadata": {}
        }
      ]
    },
    {
      "cell_type": "code",
      "source": [
        "accuracy = model_info_1.history['accuracy']\n",
        "val_accuracy = model_info_1.history['val_accuracy']\n",
        "\n",
        "plt.plot(epochs, accuracy, label='Training accuracy')\n",
        "plt.plot(epochs, val_accuracy, label='Validation accuracy')\n",
        "plt.title('Training and validation accuracy')\n",
        "plt.ylabel('Accuracy')\n",
        "plt.xlabel('Epochs')\n",
        "plt.legend()\n",
        "plt.show();"
      ],
      "metadata": {
        "id": "09-QPppc8yQb",
        "colab": {
          "base_uri": "https://localhost:8080/",
          "height": 1000
        },
        "outputId": "bfbd41a8-8cdd-4949-e37d-25d729048599"
      },
      "execution_count": null,
      "outputs": [
        {
          "output_type": "stream",
          "name": "stderr",
          "text": [
            "WARNING:matplotlib.font_manager:findfont: Font family 'Verdana' not found.\n",
            "WARNING:matplotlib.font_manager:findfont: Font family 'Geneva' not found.\n",
            "WARNING:matplotlib.font_manager:findfont: Font family 'Verdana' not found.\n",
            "WARNING:matplotlib.font_manager:findfont: Font family 'Geneva' not found.\n",
            "WARNING:matplotlib.font_manager:findfont: Font family 'Verdana' not found.\n",
            "WARNING:matplotlib.font_manager:findfont: Font family 'Geneva' not found.\n",
            "WARNING:matplotlib.font_manager:findfont: Font family 'Verdana' not found.\n",
            "WARNING:matplotlib.font_manager:findfont: Font family 'Geneva' not found.\n",
            "WARNING:matplotlib.font_manager:findfont: Font family 'Verdana' not found.\n",
            "WARNING:matplotlib.font_manager:findfont: Font family 'Geneva' not found.\n",
            "WARNING:matplotlib.font_manager:findfont: Font family 'Verdana' not found.\n",
            "WARNING:matplotlib.font_manager:findfont: Font family 'Geneva' not found.\n",
            "WARNING:matplotlib.font_manager:findfont: Font family 'Verdana' not found.\n",
            "WARNING:matplotlib.font_manager:findfont: Font family 'Geneva' not found.\n",
            "WARNING:matplotlib.font_manager:findfont: Font family 'Verdana' not found.\n",
            "WARNING:matplotlib.font_manager:findfont: Font family 'Geneva' not found.\n",
            "WARNING:matplotlib.font_manager:findfont: Font family 'Verdana' not found.\n",
            "WARNING:matplotlib.font_manager:findfont: Font family 'Geneva' not found.\n",
            "WARNING:matplotlib.font_manager:findfont: Font family 'Verdana' not found.\n",
            "WARNING:matplotlib.font_manager:findfont: Font family 'Geneva' not found.\n",
            "WARNING:matplotlib.font_manager:findfont: Font family 'Verdana' not found.\n",
            "WARNING:matplotlib.font_manager:findfont: Font family 'Geneva' not found.\n",
            "WARNING:matplotlib.font_manager:findfont: Font family 'Verdana' not found.\n",
            "WARNING:matplotlib.font_manager:findfont: Font family 'Geneva' not found.\n",
            "WARNING:matplotlib.font_manager:findfont: Font family 'Verdana' not found.\n",
            "WARNING:matplotlib.font_manager:findfont: Font family 'Geneva' not found.\n",
            "WARNING:matplotlib.font_manager:findfont: Font family 'Verdana' not found.\n",
            "WARNING:matplotlib.font_manager:findfont: Font family 'Geneva' not found.\n",
            "WARNING:matplotlib.font_manager:findfont: Font family 'Verdana' not found.\n",
            "WARNING:matplotlib.font_manager:findfont: Font family 'Geneva' not found.\n",
            "WARNING:matplotlib.font_manager:findfont: Font family 'Verdana' not found.\n",
            "WARNING:matplotlib.font_manager:findfont: Font family 'Geneva' not found.\n",
            "WARNING:matplotlib.font_manager:findfont: Font family 'Verdana' not found.\n",
            "WARNING:matplotlib.font_manager:findfont: Font family 'Geneva' not found.\n",
            "WARNING:matplotlib.font_manager:findfont: Font family 'Verdana' not found.\n",
            "WARNING:matplotlib.font_manager:findfont: Font family 'Geneva' not found.\n",
            "WARNING:matplotlib.font_manager:findfont: Font family 'Verdana' not found.\n",
            "WARNING:matplotlib.font_manager:findfont: Font family 'Geneva' not found.\n",
            "WARNING:matplotlib.font_manager:findfont: Font family 'Verdana' not found.\n",
            "WARNING:matplotlib.font_manager:findfont: Font family 'Geneva' not found.\n",
            "WARNING:matplotlib.font_manager:findfont: Font family 'Verdana' not found.\n",
            "WARNING:matplotlib.font_manager:findfont: Font family 'Geneva' not found.\n",
            "WARNING:matplotlib.font_manager:findfont: Font family 'Verdana' not found.\n",
            "WARNING:matplotlib.font_manager:findfont: Font family 'Geneva' not found.\n",
            "WARNING:matplotlib.font_manager:findfont: Font family 'Verdana' not found.\n",
            "WARNING:matplotlib.font_manager:findfont: Font family 'Geneva' not found.\n",
            "WARNING:matplotlib.font_manager:findfont: Font family 'Verdana' not found.\n",
            "WARNING:matplotlib.font_manager:findfont: Font family 'Geneva' not found.\n",
            "WARNING:matplotlib.font_manager:findfont: Font family 'Verdana' not found.\n",
            "WARNING:matplotlib.font_manager:findfont: Font family 'Geneva' not found.\n",
            "WARNING:matplotlib.font_manager:findfont: Font family 'Verdana' not found.\n",
            "WARNING:matplotlib.font_manager:findfont: Font family 'Geneva' not found.\n",
            "WARNING:matplotlib.font_manager:findfont: Font family 'Verdana' not found.\n",
            "WARNING:matplotlib.font_manager:findfont: Font family 'Geneva' not found.\n",
            "WARNING:matplotlib.font_manager:findfont: Font family 'Verdana' not found.\n",
            "WARNING:matplotlib.font_manager:findfont: Font family 'Geneva' not found.\n",
            "WARNING:matplotlib.font_manager:findfont: Font family 'Verdana' not found.\n",
            "WARNING:matplotlib.font_manager:findfont: Font family 'Geneva' not found.\n",
            "WARNING:matplotlib.font_manager:findfont: Font family 'Verdana' not found.\n",
            "WARNING:matplotlib.font_manager:findfont: Font family 'Geneva' not found.\n",
            "WARNING:matplotlib.font_manager:findfont: Font family 'Verdana' not found.\n",
            "WARNING:matplotlib.font_manager:findfont: Font family 'Geneva' not found.\n",
            "WARNING:matplotlib.font_manager:findfont: Font family 'Verdana' not found.\n",
            "WARNING:matplotlib.font_manager:findfont: Font family 'Geneva' not found.\n",
            "WARNING:matplotlib.font_manager:findfont: Font family 'Verdana' not found.\n",
            "WARNING:matplotlib.font_manager:findfont: Font family 'Geneva' not found.\n",
            "WARNING:matplotlib.font_manager:findfont: Font family 'Verdana' not found.\n",
            "WARNING:matplotlib.font_manager:findfont: Font family 'Geneva' not found.\n",
            "WARNING:matplotlib.font_manager:findfont: Font family 'Verdana' not found.\n",
            "WARNING:matplotlib.font_manager:findfont: Font family 'Geneva' not found.\n",
            "WARNING:matplotlib.font_manager:findfont: Font family 'Verdana' not found.\n",
            "WARNING:matplotlib.font_manager:findfont: Font family 'Geneva' not found.\n",
            "WARNING:matplotlib.font_manager:findfont: Font family 'Verdana' not found.\n",
            "WARNING:matplotlib.font_manager:findfont: Font family 'Geneva' not found.\n",
            "WARNING:matplotlib.font_manager:findfont: Font family 'Verdana' not found.\n",
            "WARNING:matplotlib.font_manager:findfont: Font family 'Geneva' not found.\n",
            "WARNING:matplotlib.font_manager:findfont: Font family 'Verdana' not found.\n",
            "WARNING:matplotlib.font_manager:findfont: Font family 'Geneva' not found.\n",
            "WARNING:matplotlib.font_manager:findfont: Font family 'Verdana' not found.\n",
            "WARNING:matplotlib.font_manager:findfont: Font family 'Geneva' not found.\n",
            "WARNING:matplotlib.font_manager:findfont: Font family 'Verdana' not found.\n",
            "WARNING:matplotlib.font_manager:findfont: Font family 'Geneva' not found.\n",
            "WARNING:matplotlib.font_manager:findfont: Font family 'Verdana' not found.\n",
            "WARNING:matplotlib.font_manager:findfont: Font family 'Geneva' not found.\n",
            "WARNING:matplotlib.font_manager:findfont: Font family 'Verdana' not found.\n",
            "WARNING:matplotlib.font_manager:findfont: Font family 'Geneva' not found.\n",
            "WARNING:matplotlib.font_manager:findfont: Font family 'Verdana' not found.\n",
            "WARNING:matplotlib.font_manager:findfont: Font family 'Geneva' not found.\n",
            "WARNING:matplotlib.font_manager:findfont: Font family 'Verdana' not found.\n",
            "WARNING:matplotlib.font_manager:findfont: Font family 'Geneva' not found.\n",
            "WARNING:matplotlib.font_manager:findfont: Font family 'Verdana' not found.\n",
            "WARNING:matplotlib.font_manager:findfont: Font family 'Geneva' not found.\n",
            "WARNING:matplotlib.font_manager:findfont: Font family 'Verdana' not found.\n",
            "WARNING:matplotlib.font_manager:findfont: Font family 'Geneva' not found.\n",
            "WARNING:matplotlib.font_manager:findfont: Font family 'Verdana' not found.\n",
            "WARNING:matplotlib.font_manager:findfont: Font family 'Geneva' not found.\n",
            "WARNING:matplotlib.font_manager:findfont: Font family 'Verdana' not found.\n",
            "WARNING:matplotlib.font_manager:findfont: Font family 'Geneva' not found.\n",
            "WARNING:matplotlib.font_manager:findfont: Font family 'Verdana' not found.\n",
            "WARNING:matplotlib.font_manager:findfont: Font family 'Geneva' not found.\n",
            "WARNING:matplotlib.font_manager:findfont: Font family 'Verdana' not found.\n",
            "WARNING:matplotlib.font_manager:findfont: Font family 'Geneva' not found.\n",
            "WARNING:matplotlib.font_manager:findfont: Font family 'Verdana' not found.\n",
            "WARNING:matplotlib.font_manager:findfont: Font family 'Geneva' not found.\n",
            "WARNING:matplotlib.font_manager:findfont: Font family 'Verdana' not found.\n",
            "WARNING:matplotlib.font_manager:findfont: Font family 'Geneva' not found.\n",
            "WARNING:matplotlib.font_manager:findfont: Font family 'Verdana' not found.\n",
            "WARNING:matplotlib.font_manager:findfont: Font family 'Geneva' not found.\n",
            "WARNING:matplotlib.font_manager:findfont: Font family 'Verdana' not found.\n",
            "WARNING:matplotlib.font_manager:findfont: Font family 'Geneva' not found.\n",
            "WARNING:matplotlib.font_manager:findfont: Font family 'Verdana' not found.\n",
            "WARNING:matplotlib.font_manager:findfont: Font family 'Geneva' not found.\n",
            "WARNING:matplotlib.font_manager:findfont: Font family 'Verdana' not found.\n",
            "WARNING:matplotlib.font_manager:findfont: Font family 'Geneva' not found.\n",
            "WARNING:matplotlib.font_manager:findfont: Font family 'Verdana' not found.\n",
            "WARNING:matplotlib.font_manager:findfont: Font family 'Geneva' not found.\n",
            "WARNING:matplotlib.font_manager:findfont: Font family 'Verdana' not found.\n",
            "WARNING:matplotlib.font_manager:findfont: Font family 'Geneva' not found.\n",
            "WARNING:matplotlib.font_manager:findfont: Font family 'Verdana' not found.\n",
            "WARNING:matplotlib.font_manager:findfont: Font family 'Geneva' not found.\n",
            "WARNING:matplotlib.font_manager:findfont: Font family 'Verdana' not found.\n",
            "WARNING:matplotlib.font_manager:findfont: Font family 'Geneva' not found.\n",
            "WARNING:matplotlib.font_manager:findfont: Font family 'Verdana' not found.\n",
            "WARNING:matplotlib.font_manager:findfont: Font family 'Geneva' not found.\n",
            "WARNING:matplotlib.font_manager:findfont: Font family 'Verdana' not found.\n",
            "WARNING:matplotlib.font_manager:findfont: Font family 'Geneva' not found.\n",
            "WARNING:matplotlib.font_manager:findfont: Font family 'Verdana' not found.\n",
            "WARNING:matplotlib.font_manager:findfont: Font family 'Geneva' not found.\n",
            "WARNING:matplotlib.font_manager:findfont: Font family 'Verdana' not found.\n",
            "WARNING:matplotlib.font_manager:findfont: Font family 'Geneva' not found.\n",
            "WARNING:matplotlib.font_manager:findfont: Font family 'Verdana' not found.\n",
            "WARNING:matplotlib.font_manager:findfont: Font family 'Geneva' not found.\n",
            "WARNING:matplotlib.font_manager:findfont: Font family 'Verdana' not found.\n",
            "WARNING:matplotlib.font_manager:findfont: Font family 'Geneva' not found.\n",
            "WARNING:matplotlib.font_manager:findfont: Font family 'Verdana' not found.\n",
            "WARNING:matplotlib.font_manager:findfont: Font family 'Geneva' not found.\n",
            "WARNING:matplotlib.font_manager:findfont: Font family 'Verdana' not found.\n",
            "WARNING:matplotlib.font_manager:findfont: Font family 'Geneva' not found.\n",
            "WARNING:matplotlib.font_manager:findfont: Font family 'Verdana' not found.\n",
            "WARNING:matplotlib.font_manager:findfont: Font family 'Geneva' not found.\n",
            "WARNING:matplotlib.font_manager:findfont: Font family 'Verdana' not found.\n",
            "WARNING:matplotlib.font_manager:findfont: Font family 'Geneva' not found.\n",
            "WARNING:matplotlib.font_manager:findfont: Font family 'Verdana' not found.\n",
            "WARNING:matplotlib.font_manager:findfont: Font family 'Geneva' not found.\n",
            "WARNING:matplotlib.font_manager:findfont: Font family 'Verdana' not found.\n",
            "WARNING:matplotlib.font_manager:findfont: Font family 'Geneva' not found.\n",
            "WARNING:matplotlib.font_manager:findfont: Font family 'Verdana' not found.\n",
            "WARNING:matplotlib.font_manager:findfont: Font family 'Geneva' not found.\n",
            "WARNING:matplotlib.font_manager:findfont: Font family 'Verdana' not found.\n",
            "WARNING:matplotlib.font_manager:findfont: Font family 'Geneva' not found.\n",
            "WARNING:matplotlib.font_manager:findfont: Font family 'Verdana' not found.\n",
            "WARNING:matplotlib.font_manager:findfont: Font family 'Geneva' not found.\n",
            "WARNING:matplotlib.font_manager:findfont: Font family 'Verdana' not found.\n",
            "WARNING:matplotlib.font_manager:findfont: Font family 'Geneva' not found.\n",
            "WARNING:matplotlib.font_manager:findfont: Font family 'Verdana' not found.\n",
            "WARNING:matplotlib.font_manager:findfont: Font family 'Geneva' not found.\n",
            "WARNING:matplotlib.font_manager:findfont: Font family 'Verdana' not found.\n",
            "WARNING:matplotlib.font_manager:findfont: Font family 'Geneva' not found.\n",
            "WARNING:matplotlib.font_manager:findfont: Font family 'Verdana' not found.\n",
            "WARNING:matplotlib.font_manager:findfont: Font family 'Geneva' not found.\n"
          ]
        },
        {
          "output_type": "display_data",
          "data": {
            "text/plain": [
              "<Figure size 460.8x345.6 with 1 Axes>"
            ],
            "image/png": "[encoded data removed]"
          },
          "metadata": {}
        }
      ]
    },
    {
      "cell_type": "markdown",
      "source": [
        "**LSTM-CNN**"
      ],
      "metadata": {
        "id": "JLZRDVej84An"
      }
    },
    {
      "cell_type": "code",
      "source": [
        "loss = model_info_2.history['loss']\n",
        "val_loss = model_info_2.history['val_loss']\n",
        "\n",
        "epochs = range(1, len(loss)+1)\n",
        "\n",
        "plt.plot(epochs, loss, label='Training loss')\n",
        "plt.plot(epochs, val_loss, label='Validation loss')\n",
        "plt.title('Training and Validation loss')\n",
        "plt.xlabel('Epochs')\n",
        "plt.ylabel('Loss')\n",
        "plt.legend()\n",
        "plt.show();"
      ],
      "metadata": {
        "id": "6GDes55Y807R",
        "colab": {
          "base_uri": "https://localhost:8080/",
          "height": 1000
        },
        "outputId": "4149ebaa-4d9a-4e3d-d0c5-7289763734ae"
      },
      "execution_count": null,
      "outputs": [
        {
          "output_type": "stream",
          "name": "stderr",
          "text": [
            "WARNING:matplotlib.font_manager:findfont: Font family 'Verdana' not found.\n",
            "WARNING:matplotlib.font_manager:findfont: Font family 'Geneva' not found.\n",
            "WARNING:matplotlib.font_manager:findfont: Font family 'Verdana' not found.\n",
            "WARNING:matplotlib.font_manager:findfont: Font family 'Geneva' not found.\n",
            "WARNING:matplotlib.font_manager:findfont: Font family 'Verdana' not found.\n",
            "WARNING:matplotlib.font_manager:findfont: Font family 'Geneva' not found.\n",
            "WARNING:matplotlib.font_manager:findfont: Font family 'Verdana' not found.\n",
            "WARNING:matplotlib.font_manager:findfont: Font family 'Geneva' not found.\n",
            "WARNING:matplotlib.font_manager:findfont: Font family 'Verdana' not found.\n",
            "WARNING:matplotlib.font_manager:findfont: Font family 'Geneva' not found.\n",
            "WARNING:matplotlib.font_manager:findfont: Font family 'Verdana' not found.\n",
            "WARNING:matplotlib.font_manager:findfont: Font family 'Geneva' not found.\n",
            "WARNING:matplotlib.font_manager:findfont: Font family 'Verdana' not found.\n",
            "WARNING:matplotlib.font_manager:findfont: Font family 'Geneva' not found.\n",
            "WARNING:matplotlib.font_manager:findfont: Font family 'Verdana' not found.\n",
            "WARNING:matplotlib.font_manager:findfont: Font family 'Geneva' not found.\n",
            "WARNING:matplotlib.font_manager:findfont: Font family 'Verdana' not found.\n",
            "WARNING:matplotlib.font_manager:findfont: Font family 'Geneva' not found.\n",
            "WARNING:matplotlib.font_manager:findfont: Font family 'Verdana' not found.\n",
            "WARNING:matplotlib.font_manager:findfont: Font family 'Geneva' not found.\n",
            "WARNING:matplotlib.font_manager:findfont: Font family 'Verdana' not found.\n",
            "WARNING:matplotlib.font_manager:findfont: Font family 'Geneva' not found.\n",
            "WARNING:matplotlib.font_manager:findfont: Font family 'Verdana' not found.\n",
            "WARNING:matplotlib.font_manager:findfont: Font family 'Geneva' not found.\n",
            "WARNING:matplotlib.font_manager:findfont: Font family 'Verdana' not found.\n",
            "WARNING:matplotlib.font_manager:findfont: Font family 'Geneva' not found.\n",
            "WARNING:matplotlib.font_manager:findfont: Font family 'Verdana' not found.\n",
            "WARNING:matplotlib.font_manager:findfont: Font family 'Geneva' not found.\n",
            "WARNING:matplotlib.font_manager:findfont: Font family 'Verdana' not found.\n",
            "WARNING:matplotlib.font_manager:findfont: Font family 'Geneva' not found.\n",
            "WARNING:matplotlib.font_manager:findfont: Font family 'Verdana' not found.\n",
            "WARNING:matplotlib.font_manager:findfont: Font family 'Geneva' not found.\n",
            "WARNING:matplotlib.font_manager:findfont: Font family 'Verdana' not found.\n",
            "WARNING:matplotlib.font_manager:findfont: Font family 'Geneva' not found.\n",
            "WARNING:matplotlib.font_manager:findfont: Font family 'Verdana' not found.\n",
            "WARNING:matplotlib.font_manager:findfont: Font family 'Geneva' not found.\n",
            "WARNING:matplotlib.font_manager:findfont: Font family 'Verdana' not found.\n",
            "WARNING:matplotlib.font_manager:findfont: Font family 'Geneva' not found.\n",
            "WARNING:matplotlib.font_manager:findfont: Font family 'Verdana' not found.\n",
            "WARNING:matplotlib.font_manager:findfont: Font family 'Geneva' not found.\n",
            "WARNING:matplotlib.font_manager:findfont: Font family 'Verdana' not found.\n",
            "WARNING:matplotlib.font_manager:findfont: Font family 'Geneva' not found.\n",
            "WARNING:matplotlib.font_manager:findfont: Font family 'Verdana' not found.\n",
            "WARNING:matplotlib.font_manager:findfont: Font family 'Geneva' not found.\n",
            "WARNING:matplotlib.font_manager:findfont: Font family 'Verdana' not found.\n",
            "WARNING:matplotlib.font_manager:findfont: Font family 'Geneva' not found.\n",
            "WARNING:matplotlib.font_manager:findfont: Font family 'Verdana' not found.\n",
            "WARNING:matplotlib.font_manager:findfont: Font family 'Geneva' not found.\n",
            "WARNING:matplotlib.font_manager:findfont: Font family 'Verdana' not found.\n",
            "WARNING:matplotlib.font_manager:findfont: Font family 'Geneva' not found.\n",
            "WARNING:matplotlib.font_manager:findfont: Font family 'Verdana' not found.\n",
            "WARNING:matplotlib.font_manager:findfont: Font family 'Geneva' not found.\n",
            "WARNING:matplotlib.font_manager:findfont: Font family 'Verdana' not found.\n",
            "WARNING:matplotlib.font_manager:findfont: Font family 'Geneva' not found.\n",
            "WARNING:matplotlib.font_manager:findfont: Font family 'Verdana' not found.\n",
            "WARNING:matplotlib.font_manager:findfont: Font family 'Geneva' not found.\n",
            "WARNING:matplotlib.font_manager:findfont: Font family 'Verdana' not found.\n",
            "WARNING:matplotlib.font_manager:findfont: Font family 'Geneva' not found.\n",
            "WARNING:matplotlib.font_manager:findfont: Font family 'Verdana' not found.\n",
            "WARNING:matplotlib.font_manager:findfont: Font family 'Geneva' not found.\n",
            "WARNING:matplotlib.font_manager:findfont: Font family 'Verdana' not found.\n",
            "WARNING:matplotlib.font_manager:findfont: Font family 'Geneva' not found.\n",
            "WARNING:matplotlib.font_manager:findfont: Font family 'Verdana' not found.\n",
            "WARNING:matplotlib.font_manager:findfont: Font family 'Geneva' not found.\n",
            "WARNING:matplotlib.font_manager:findfont: Font family 'Verdana' not found.\n",
            "WARNING:matplotlib.font_manager:findfont: Font family 'Geneva' not found.\n",
            "WARNING:matplotlib.font_manager:findfont: Font family 'Verdana' not found.\n",
            "WARNING:matplotlib.font_manager:findfont: Font family 'Geneva' not found.\n",
            "WARNING:matplotlib.font_manager:findfont: Font family 'Verdana' not found.\n",
            "WARNING:matplotlib.font_manager:findfont: Font family 'Geneva' not found.\n",
            "WARNING:matplotlib.font_manager:findfont: Font family 'Verdana' not found.\n",
            "WARNING:matplotlib.font_manager:findfont: Font family 'Geneva' not found.\n",
            "WARNING:matplotlib.font_manager:findfont: Font family 'Verdana' not found.\n",
            "WARNING:matplotlib.font_manager:findfont: Font family 'Geneva' not found.\n",
            "WARNING:matplotlib.font_manager:findfont: Font family 'Verdana' not found.\n",
            "WARNING:matplotlib.font_manager:findfont: Font family 'Geneva' not found.\n",
            "WARNING:matplotlib.font_manager:findfont: Font family 'Verdana' not found.\n",
            "WARNING:matplotlib.font_manager:findfont: Font family 'Geneva' not found.\n",
            "WARNING:matplotlib.font_manager:findfont: Font family 'Verdana' not found.\n",
            "WARNING:matplotlib.font_manager:findfont: Font family 'Geneva' not found.\n",
            "WARNING:matplotlib.font_manager:findfont: Font family 'Verdana' not found.\n",
            "WARNING:matplotlib.font_manager:findfont: Font family 'Geneva' not found.\n",
            "WARNING:matplotlib.font_manager:findfont: Font family 'Verdana' not found.\n",
            "WARNING:matplotlib.font_manager:findfont: Font family 'Geneva' not found.\n",
            "WARNING:matplotlib.font_manager:findfont: Font family 'Verdana' not found.\n",
            "WARNING:matplotlib.font_manager:findfont: Font family 'Geneva' not found.\n",
            "WARNING:matplotlib.font_manager:findfont: Font family 'Verdana' not found.\n",
            "WARNING:matplotlib.font_manager:findfont: Font family 'Geneva' not found.\n",
            "WARNING:matplotlib.font_manager:findfont: Font family 'Verdana' not found.\n",
            "WARNING:matplotlib.font_manager:findfont: Font family 'Geneva' not found.\n",
            "WARNING:matplotlib.font_manager:findfont: Font family 'Verdana' not found.\n",
            "WARNING:matplotlib.font_manager:findfont: Font family 'Geneva' not found.\n",
            "WARNING:matplotlib.font_manager:findfont: Font family 'Verdana' not found.\n",
            "WARNING:matplotlib.font_manager:findfont: Font family 'Geneva' not found.\n",
            "WARNING:matplotlib.font_manager:findfont: Font family 'Verdana' not found.\n",
            "WARNING:matplotlib.font_manager:findfont: Font family 'Geneva' not found.\n",
            "WARNING:matplotlib.font_manager:findfont: Font family 'Verdana' not found.\n",
            "WARNING:matplotlib.font_manager:findfont: Font family 'Geneva' not found.\n",
            "WARNING:matplotlib.font_manager:findfont: Font family 'Verdana' not found.\n",
            "WARNING:matplotlib.font_manager:findfont: Font family 'Geneva' not found.\n",
            "WARNING:matplotlib.font_manager:findfont: Font family 'Verdana' not found.\n",
            "WARNING:matplotlib.font_manager:findfont: Font family 'Geneva' not found.\n",
            "WARNING:matplotlib.font_manager:findfont: Font family 'Verdana' not found.\n",
            "WARNING:matplotlib.font_manager:findfont: Font family 'Geneva' not found.\n",
            "WARNING:matplotlib.font_manager:findfont: Font family 'Verdana' not found.\n",
            "WARNING:matplotlib.font_manager:findfont: Font family 'Geneva' not found.\n",
            "WARNING:matplotlib.font_manager:findfont: Font family 'Verdana' not found.\n",
            "WARNING:matplotlib.font_manager:findfont: Font family 'Geneva' not found.\n",
            "WARNING:matplotlib.font_manager:findfont: Font family 'Verdana' not found.\n",
            "WARNING:matplotlib.font_manager:findfont: Font family 'Geneva' not found.\n",
            "WARNING:matplotlib.font_manager:findfont: Font family 'Verdana' not found.\n",
            "WARNING:matplotlib.font_manager:findfont: Font family 'Geneva' not found.\n",
            "WARNING:matplotlib.font_manager:findfont: Font family 'Verdana' not found.\n",
            "WARNING:matplotlib.font_manager:findfont: Font family 'Geneva' not found.\n",
            "WARNING:matplotlib.font_manager:findfont: Font family 'Verdana' not found.\n",
            "WARNING:matplotlib.font_manager:findfont: Font family 'Geneva' not found.\n",
            "WARNING:matplotlib.font_manager:findfont: Font family 'Verdana' not found.\n",
            "WARNING:matplotlib.font_manager:findfont: Font family 'Geneva' not found.\n",
            "WARNING:matplotlib.font_manager:findfont: Font family 'Verdana' not found.\n",
            "WARNING:matplotlib.font_manager:findfont: Font family 'Geneva' not found.\n",
            "WARNING:matplotlib.font_manager:findfont: Font family 'Verdana' not found.\n",
            "WARNING:matplotlib.font_manager:findfont: Font family 'Geneva' not found.\n",
            "WARNING:matplotlib.font_manager:findfont: Font family 'Verdana' not found.\n",
            "WARNING:matplotlib.font_manager:findfont: Font family 'Geneva' not found.\n",
            "WARNING:matplotlib.font_manager:findfont: Font family 'Verdana' not found.\n",
            "WARNING:matplotlib.font_manager:findfont: Font family 'Geneva' not found.\n",
            "WARNING:matplotlib.font_manager:findfont: Font family 'Verdana' not found.\n",
            "WARNING:matplotlib.font_manager:findfont: Font family 'Geneva' not found.\n",
            "WARNING:matplotlib.font_manager:findfont: Font family 'Verdana' not found.\n",
            "WARNING:matplotlib.font_manager:findfont: Font family 'Geneva' not found.\n",
            "WARNING:matplotlib.font_manager:findfont: Font family 'Verdana' not found.\n",
            "WARNING:matplotlib.font_manager:findfont: Font family 'Geneva' not found.\n",
            "WARNING:matplotlib.font_manager:findfont: Font family 'Verdana' not found.\n",
            "WARNING:matplotlib.font_manager:findfont: Font family 'Geneva' not found.\n",
            "WARNING:matplotlib.font_manager:findfont: Font family 'Verdana' not found.\n",
            "WARNING:matplotlib.font_manager:findfont: Font family 'Geneva' not found.\n",
            "WARNING:matplotlib.font_manager:findfont: Font family 'Verdana' not found.\n",
            "WARNING:matplotlib.font_manager:findfont: Font family 'Geneva' not found.\n",
            "WARNING:matplotlib.font_manager:findfont: Font family 'Verdana' not found.\n",
            "WARNING:matplotlib.font_manager:findfont: Font family 'Geneva' not found.\n",
            "WARNING:matplotlib.font_manager:findfont: Font family 'Verdana' not found.\n",
            "WARNING:matplotlib.font_manager:findfont: Font family 'Geneva' not found.\n",
            "WARNING:matplotlib.font_manager:findfont: Font family 'Verdana' not found.\n",
            "WARNING:matplotlib.font_manager:findfont: Font family 'Geneva' not found.\n",
            "WARNING:matplotlib.font_manager:findfont: Font family 'Verdana' not found.\n",
            "WARNING:matplotlib.font_manager:findfont: Font family 'Geneva' not found.\n",
            "WARNING:matplotlib.font_manager:findfont: Font family 'Verdana' not found.\n",
            "WARNING:matplotlib.font_manager:findfont: Font family 'Geneva' not found.\n",
            "WARNING:matplotlib.font_manager:findfont: Font family 'Verdana' not found.\n",
            "WARNING:matplotlib.font_manager:findfont: Font family 'Geneva' not found.\n",
            "WARNING:matplotlib.font_manager:findfont: Font family 'Verdana' not found.\n",
            "WARNING:matplotlib.font_manager:findfont: Font family 'Geneva' not found.\n",
            "WARNING:matplotlib.font_manager:findfont: Font family 'Verdana' not found.\n",
            "WARNING:matplotlib.font_manager:findfont: Font family 'Geneva' not found.\n",
            "WARNING:matplotlib.font_manager:findfont: Font family 'Verdana' not found.\n",
            "WARNING:matplotlib.font_manager:findfont: Font family 'Geneva' not found.\n",
            "WARNING:matplotlib.font_manager:findfont: Font family 'Verdana' not found.\n",
            "WARNING:matplotlib.font_manager:findfont: Font family 'Geneva' not found.\n",
            "WARNING:matplotlib.font_manager:findfont: Font family 'Verdana' not found.\n",
            "WARNING:matplotlib.font_manager:findfont: Font family 'Geneva' not found.\n",
            "WARNING:matplotlib.font_manager:findfont: Font family 'Verdana' not found.\n",
            "WARNING:matplotlib.font_manager:findfont: Font family 'Geneva' not found.\n",
            "WARNING:matplotlib.font_manager:findfont: Font family 'Verdana' not found.\n",
            "WARNING:matplotlib.font_manager:findfont: Font family 'Geneva' not found.\n",
            "WARNING:matplotlib.font_manager:findfont: Font family 'Verdana' not found.\n",
            "WARNING:matplotlib.font_manager:findfont: Font family 'Geneva' not found.\n",
            "WARNING:matplotlib.font_manager:findfont: Font family 'Verdana' not found.\n",
            "WARNING:matplotlib.font_manager:findfont: Font family 'Geneva' not found.\n",
            "WARNING:matplotlib.font_manager:findfont: Font family 'Verdana' not found.\n",
            "WARNING:matplotlib.font_manager:findfont: Font family 'Geneva' not found.\n",
            "WARNING:matplotlib.font_manager:findfont: Font family 'Verdana' not found.\n",
            "WARNING:matplotlib.font_manager:findfont: Font family 'Geneva' not found.\n",
            "WARNING:matplotlib.font_manager:findfont: Font family 'Verdana' not found.\n",
            "WARNING:matplotlib.font_manager:findfont: Font family 'Geneva' not found.\n",
            "WARNING:matplotlib.font_manager:findfont: Font family 'Verdana' not found.\n",
            "WARNING:matplotlib.font_manager:findfont: Font family 'Geneva' not found.\n",
            "WARNING:matplotlib.font_manager:findfont: Font family 'Verdana' not found.\n",
            "WARNING:matplotlib.font_manager:findfont: Font family 'Geneva' not found.\n"
          ]
        },
        {
          "output_type": "display_data",
          "data": {
            "text/plain": [
              "<Figure size 460.8x345.6 with 1 Axes>"
            ],
            "image/png": "[encoded data removed]"
          },
          "metadata": {}
        }
      ]
    },
    {
      "cell_type": "code",
      "source": [
        "accuracy = model_info_2.history['accuracy']\n",
        "val_accuracy = model_info_2.history['val_accuracy']\n",
        "\n",
        "plt.plot(epochs, accuracy, label='Training accuracy')\n",
        "plt.plot(epochs, val_accuracy, label='Validation accuracy')\n",
        "plt.title('Training and validation accuracy')\n",
        "plt.ylabel('Accuracy')\n",
        "plt.xlabel('Epochs')\n",
        "plt.legend()\n",
        "plt.show();"
      ],
      "metadata": {
        "id": "QkYXuaUP82uJ",
        "colab": {
          "base_uri": "https://localhost:8080/",
          "height": 1000
        },
        "outputId": "7b2d5f9d-1aaa-41c7-adb3-f0f84175a244"
      },
      "execution_count": null,
      "outputs": [
        {
          "output_type": "stream",
          "name": "stderr",
          "text": [
            "WARNING:matplotlib.font_manager:findfont: Font family 'Verdana' not found.\n",
            "WARNING:matplotlib.font_manager:findfont: Font family 'Geneva' not found.\n",
            "WARNING:matplotlib.font_manager:findfont: Font family 'Verdana' not found.\n",
            "WARNING:matplotlib.font_manager:findfont: Font family 'Geneva' not found.\n",
            "WARNING:matplotlib.font_manager:findfont: Font family 'Verdana' not found.\n",
            "WARNING:matplotlib.font_manager:findfont: Font family 'Geneva' not found.\n",
            "WARNING:matplotlib.font_manager:findfont: Font family 'Verdana' not found.\n",
            "WARNING:matplotlib.font_manager:findfont: Font family 'Geneva' not found.\n",
            "WARNING:matplotlib.font_manager:findfont: Font family 'Verdana' not found.\n",
            "WARNING:matplotlib.font_manager:findfont: Font family 'Geneva' not found.\n",
            "WARNING:matplotlib.font_manager:findfont: Font family 'Verdana' not found.\n",
            "WARNING:matplotlib.font_manager:findfont: Font family 'Geneva' not found.\n",
            "WARNING:matplotlib.font_manager:findfont: Font family 'Verdana' not found.\n",
            "WARNING:matplotlib.font_manager:findfont: Font family 'Geneva' not found.\n",
            "WARNING:matplotlib.font_manager:findfont: Font family 'Verdana' not found.\n",
            "WARNING:matplotlib.font_manager:findfont: Font family 'Geneva' not found.\n",
            "WARNING:matplotlib.font_manager:findfont: Font family 'Verdana' not found.\n",
            "WARNING:matplotlib.font_manager:findfont: Font family 'Geneva' not found.\n",
            "WARNING:matplotlib.font_manager:findfont: Font family 'Verdana' not found.\n",
            "WARNING:matplotlib.font_manager:findfont: Font family 'Geneva' not found.\n",
            "WARNING:matplotlib.font_manager:findfont: Font family 'Verdana' not found.\n",
            "WARNING:matplotlib.font_manager:findfont: Font family 'Geneva' not found.\n",
            "WARNING:matplotlib.font_manager:findfont: Font family 'Verdana' not found.\n",
            "WARNING:matplotlib.font_manager:findfont: Font family 'Geneva' not found.\n",
            "WARNING:matplotlib.font_manager:findfont: Font family 'Verdana' not found.\n",
            "WARNING:matplotlib.font_manager:findfont: Font family 'Geneva' not found.\n",
            "WARNING:matplotlib.font_manager:findfont: Font family 'Verdana' not found.\n",
            "WARNING:matplotlib.font_manager:findfont: Font family 'Geneva' not found.\n",
            "WARNING:matplotlib.font_manager:findfont: Font family 'Verdana' not found.\n",
            "WARNING:matplotlib.font_manager:findfont: Font family 'Geneva' not found.\n",
            "WARNING:matplotlib.font_manager:findfont: Font family 'Verdana' not found.\n",
            "WARNING:matplotlib.font_manager:findfont: Font family 'Geneva' not found.\n",
            "WARNING:matplotlib.font_manager:findfont: Font family 'Verdana' not found.\n",
            "WARNING:matplotlib.font_manager:findfont: Font family 'Geneva' not found.\n",
            "WARNING:matplotlib.font_manager:findfont: Font family 'Verdana' not found.\n",
            "WARNING:matplotlib.font_manager:findfont: Font family 'Geneva' not found.\n",
            "WARNING:matplotlib.font_manager:findfont: Font family 'Verdana' not found.\n",
            "WARNING:matplotlib.font_manager:findfont: Font family 'Geneva' not found.\n",
            "WARNING:matplotlib.font_manager:findfont: Font family 'Verdana' not found.\n",
            "WARNING:matplotlib.font_manager:findfont: Font family 'Geneva' not found.\n",
            "WARNING:matplotlib.font_manager:findfont: Font family 'Verdana' not found.\n",
            "WARNING:matplotlib.font_manager:findfont: Font family 'Geneva' not found.\n",
            "WARNING:matplotlib.font_manager:findfont: Font family 'Verdana' not found.\n",
            "WARNING:matplotlib.font_manager:findfont: Font family 'Geneva' not found.\n",
            "WARNING:matplotlib.font_manager:findfont: Font family 'Verdana' not found.\n",
            "WARNING:matplotlib.font_manager:findfont: Font family 'Geneva' not found.\n",
            "WARNING:matplotlib.font_manager:findfont: Font family 'Verdana' not found.\n",
            "WARNING:matplotlib.font_manager:findfont: Font family 'Geneva' not found.\n",
            "WARNING:matplotlib.font_manager:findfont: Font family 'Verdana' not found.\n",
            "WARNING:matplotlib.font_manager:findfont: Font family 'Geneva' not found.\n",
            "WARNING:matplotlib.font_manager:findfont: Font family 'Verdana' not found.\n",
            "WARNING:matplotlib.font_manager:findfont: Font family 'Geneva' not found.\n",
            "WARNING:matplotlib.font_manager:findfont: Font family 'Verdana' not found.\n",
            "WARNING:matplotlib.font_manager:findfont: Font family 'Geneva' not found.\n",
            "WARNING:matplotlib.font_manager:findfont: Font family 'Verdana' not found.\n",
            "WARNING:matplotlib.font_manager:findfont: Font family 'Geneva' not found.\n",
            "WARNING:matplotlib.font_manager:findfont: Font family 'Verdana' not found.\n",
            "WARNING:matplotlib.font_manager:findfont: Font family 'Geneva' not found.\n",
            "WARNING:matplotlib.font_manager:findfont: Font family 'Verdana' not found.\n",
            "WARNING:matplotlib.font_manager:findfont: Font family 'Geneva' not found.\n",
            "WARNING:matplotlib.font_manager:findfont: Font family 'Verdana' not found.\n",
            "WARNING:matplotlib.font_manager:findfont: Font family 'Geneva' not found.\n",
            "WARNING:matplotlib.font_manager:findfont: Font family 'Verdana' not found.\n",
            "WARNING:matplotlib.font_manager:findfont: Font family 'Geneva' not found.\n",
            "WARNING:matplotlib.font_manager:findfont: Font family 'Verdana' not found.\n",
            "WARNING:matplotlib.font_manager:findfont: Font family 'Geneva' not found.\n",
            "WARNING:matplotlib.font_manager:findfont: Font family 'Verdana' not found.\n",
            "WARNING:matplotlib.font_manager:findfont: Font family 'Geneva' not found.\n",
            "WARNING:matplotlib.font_manager:findfont: Font family 'Verdana' not found.\n",
            "WARNING:matplotlib.font_manager:findfont: Font family 'Geneva' not found.\n",
            "WARNING:matplotlib.font_manager:findfont: Font family 'Verdana' not found.\n",
            "WARNING:matplotlib.font_manager:findfont: Font family 'Geneva' not found.\n",
            "WARNING:matplotlib.font_manager:findfont: Font family 'Verdana' not found.\n",
            "WARNING:matplotlib.font_manager:findfont: Font family 'Geneva' not found.\n",
            "WARNING:matplotlib.font_manager:findfont: Font family 'Verdana' not found.\n",
            "WARNING:matplotlib.font_manager:findfont: Font family 'Geneva' not found.\n",
            "WARNING:matplotlib.font_manager:findfont: Font family 'Verdana' not found.\n",
            "WARNING:matplotlib.font_manager:findfont: Font family 'Geneva' not found.\n",
            "WARNING:matplotlib.font_manager:findfont: Font family 'Verdana' not found.\n",
            "WARNING:matplotlib.font_manager:findfont: Font family 'Geneva' not found.\n",
            "WARNING:matplotlib.font_manager:findfont: Font family 'Verdana' not found.\n",
            "WARNING:matplotlib.font_manager:findfont: Font family 'Geneva' not found.\n",
            "WARNING:matplotlib.font_manager:findfont: Font family 'Verdana' not found.\n",
            "WARNING:matplotlib.font_manager:findfont: Font family 'Geneva' not found.\n",
            "WARNING:matplotlib.font_manager:findfont: Font family 'Verdana' not found.\n",
            "WARNING:matplotlib.font_manager:findfont: Font family 'Geneva' not found.\n",
            "WARNING:matplotlib.font_manager:findfont: Font family 'Verdana' not found.\n",
            "WARNING:matplotlib.font_manager:findfont: Font family 'Geneva' not found.\n",
            "WARNING:matplotlib.font_manager:findfont: Font family 'Verdana' not found.\n",
            "WARNING:matplotlib.font_manager:findfont: Font family 'Geneva' not found.\n",
            "WARNING:matplotlib.font_manager:findfont: Font family 'Verdana' not found.\n",
            "WARNING:matplotlib.font_manager:findfont: Font family 'Geneva' not found.\n",
            "WARNING:matplotlib.font_manager:findfont: Font family 'Verdana' not found.\n",
            "WARNING:matplotlib.font_manager:findfont: Font family 'Geneva' not found.\n",
            "WARNING:matplotlib.font_manager:findfont: Font family 'Verdana' not found.\n",
            "WARNING:matplotlib.font_manager:findfont: Font family 'Geneva' not found.\n",
            "WARNING:matplotlib.font_manager:findfont: Font family 'Verdana' not found.\n",
            "WARNING:matplotlib.font_manager:findfont: Font family 'Geneva' not found.\n",
            "WARNING:matplotlib.font_manager:findfont: Font family 'Verdana' not found.\n",
            "WARNING:matplotlib.font_manager:findfont: Font family 'Geneva' not found.\n",
            "WARNING:matplotlib.font_manager:findfont: Font family 'Verdana' not found.\n",
            "WARNING:matplotlib.font_manager:findfont: Font family 'Geneva' not found.\n",
            "WARNING:matplotlib.font_manager:findfont: Font family 'Verdana' not found.\n",
            "WARNING:matplotlib.font_manager:findfont: Font family 'Geneva' not found.\n",
            "WARNING:matplotlib.font_manager:findfont: Font family 'Verdana' not found.\n",
            "WARNING:matplotlib.font_manager:findfont: Font family 'Geneva' not found.\n",
            "WARNING:matplotlib.font_manager:findfont: Font family 'Verdana' not found.\n",
            "WARNING:matplotlib.font_manager:findfont: Font family 'Geneva' not found.\n",
            "WARNING:matplotlib.font_manager:findfont: Font family 'Verdana' not found.\n",
            "WARNING:matplotlib.font_manager:findfont: Font family 'Geneva' not found.\n",
            "WARNING:matplotlib.font_manager:findfont: Font family 'Verdana' not found.\n",
            "WARNING:matplotlib.font_manager:findfont: Font family 'Geneva' not found.\n",
            "WARNING:matplotlib.font_manager:findfont: Font family 'Verdana' not found.\n",
            "WARNING:matplotlib.font_manager:findfont: Font family 'Geneva' not found.\n",
            "WARNING:matplotlib.font_manager:findfont: Font family 'Verdana' not found.\n",
            "WARNING:matplotlib.font_manager:findfont: Font family 'Geneva' not found.\n",
            "WARNING:matplotlib.font_manager:findfont: Font family 'Verdana' not found.\n",
            "WARNING:matplotlib.font_manager:findfont: Font family 'Geneva' not found.\n",
            "WARNING:matplotlib.font_manager:findfont: Font family 'Verdana' not found.\n",
            "WARNING:matplotlib.font_manager:findfont: Font family 'Geneva' not found.\n",
            "WARNING:matplotlib.font_manager:findfont: Font family 'Verdana' not found.\n",
            "WARNING:matplotlib.font_manager:findfont: Font family 'Geneva' not found.\n",
            "WARNING:matplotlib.font_manager:findfont: Font family 'Verdana' not found.\n",
            "WARNING:matplotlib.font_manager:findfont: Font family 'Geneva' not found.\n",
            "WARNING:matplotlib.font_manager:findfont: Font family 'Verdana' not found.\n",
            "WARNING:matplotlib.font_manager:findfont: Font family 'Geneva' not found.\n",
            "WARNING:matplotlib.font_manager:findfont: Font family 'Verdana' not found.\n",
            "WARNING:matplotlib.font_manager:findfont: Font family 'Geneva' not found.\n",
            "WARNING:matplotlib.font_manager:findfont: Font family 'Verdana' not found.\n",
            "WARNING:matplotlib.font_manager:findfont: Font family 'Geneva' not found.\n",
            "WARNING:matplotlib.font_manager:findfont: Font family 'Verdana' not found.\n",
            "WARNING:matplotlib.font_manager:findfont: Font family 'Geneva' not found.\n",
            "WARNING:matplotlib.font_manager:findfont: Font family 'Verdana' not found.\n",
            "WARNING:matplotlib.font_manager:findfont: Font family 'Geneva' not found.\n",
            "WARNING:matplotlib.font_manager:findfont: Font family 'Verdana' not found.\n",
            "WARNING:matplotlib.font_manager:findfont: Font family 'Geneva' not found.\n",
            "WARNING:matplotlib.font_manager:findfont: Font family 'Verdana' not found.\n",
            "WARNING:matplotlib.font_manager:findfont: Font family 'Geneva' not found.\n",
            "WARNING:matplotlib.font_manager:findfont: Font family 'Verdana' not found.\n",
            "WARNING:matplotlib.font_manager:findfont: Font family 'Geneva' not found.\n",
            "WARNING:matplotlib.font_manager:findfont: Font family 'Verdana' not found.\n",
            "WARNING:matplotlib.font_manager:findfont: Font family 'Geneva' not found.\n",
            "WARNING:matplotlib.font_manager:findfont: Font family 'Verdana' not found.\n",
            "WARNING:matplotlib.font_manager:findfont: Font family 'Geneva' not found.\n",
            "WARNING:matplotlib.font_manager:findfont: Font family 'Verdana' not found.\n",
            "WARNING:matplotlib.font_manager:findfont: Font family 'Geneva' not found.\n",
            "WARNING:matplotlib.font_manager:findfont: Font family 'Verdana' not found.\n",
            "WARNING:matplotlib.font_manager:findfont: Font family 'Geneva' not found.\n",
            "WARNING:matplotlib.font_manager:findfont: Font family 'Verdana' not found.\n",
            "WARNING:matplotlib.font_manager:findfont: Font family 'Geneva' not found.\n",
            "WARNING:matplotlib.font_manager:findfont: Font family 'Verdana' not found.\n",
            "WARNING:matplotlib.font_manager:findfont: Font family 'Geneva' not found.\n",
            "WARNING:matplotlib.font_manager:findfont: Font family 'Verdana' not found.\n",
            "WARNING:matplotlib.font_manager:findfont: Font family 'Geneva' not found.\n"
          ]
        },
        {
          "output_type": "display_data",
          "data": {
            "text/plain": [
              "<Figure size 460.8x345.6 with 1 Axes>"
            ],
            "image/png": "[encoded data removed]"
          },
          "metadata": {}
        }
      ]
    },
    {
      "cell_type": "markdown",
      "source": [
        "**Saving the Model**"
      ],
      "metadata": {
        "id": "jpmOaHjs-Jey"
      }
    },
    {
      "cell_type": "code",
      "source": [
        "model_1.save(filepath=\"/content/model\")\n",
        "\n"
      ],
      "metadata": {
        "id": "LIQPvopg-LII",
        "colab": {
          "base_uri": "https://localhost:8080/"
        },
        "outputId": "b01d5756-1567-4946-d807-e6b97e5151f0"
      },
      "execution_count": null,
      "outputs": [
        {
          "output_type": "stream",
          "name": "stderr",
          "text": [
            "WARNING:absl:Found untraced functions such as lstm_cell_layer_call_fn, lstm_cell_layer_call_and_return_conditional_losses while saving (showing 2 of 2). These functions will not be directly callable after loading.\n"
          ]
        }
      ]
    },
    {
      "cell_type": "code",
      "source": [
        "model_2.save(filepath=\"/content/model_2\")"
      ],
      "metadata": {
        "colab": {
          "base_uri": "https://localhost:8080/"
        },
        "id": "tF_9n6ClAGO2",
        "outputId": "45d00455-5e60-4d1f-f590-4c03051ac854"
      },
      "execution_count": null,
      "outputs": [
        {
          "output_type": "stream",
          "name": "stderr",
          "text": [
            "WARNING:absl:Found untraced functions such as _jit_compiled_convolution_op, lstm_cell_1_layer_call_fn, lstm_cell_1_layer_call_and_return_conditional_losses while saving (showing 3 of 3). These functions will not be directly callable after loading.\n"
          ]
        }
      ]
    },
    {
      "cell_type": "code",
      "source": [
        "loaded_model_1 = keras.models.load_model(filepath=\"/content/model\")\n",
        "\n",
        "loaded_model_2 = keras.models.load_model(filepath=\"/content/model_2\")\n"
      ],
      "metadata": {
        "id": "j8LnZ_FO-Z7l"
      },
      "execution_count": null,
      "outputs": []
    },
    {
      "cell_type": "markdown",
      "source": [
        "# **Generating the Output**\n",
        "**LSTM**"
      ],
      "metadata": {
        "id": "lbbH4pLWBCwW"
      }
    },
    {
      "cell_type": "code",
      "source": [
        "test_values_1 = loaded_model_1.predict([X_te], batch_size=1, verbose=1)"
      ],
      "metadata": {
        "colab": {
          "base_uri": "https://localhost:8080/"
        },
        "id": "LI-SU2WkBBjq",
        "outputId": "003face3-e400-4a2c-faef-7a886ea66278"
      },
      "execution_count": null,
      "outputs": [
        {
          "metadata": {
            "tags": null
          },
          "name": "stdout",
          "output_type": "stream",
          "text": [
            "153164/153164 [==============================] - 518s 3ms/step\n"
          ]
        }
      ]
    },
    {
      "cell_type": "code",
      "source": [
        "sample_submission = pd.read_csv('/content/sample_submission.csv')\n",
        "test_values_1=pd.DataFrame(test_values_1,columns=['toxic', 'severe_toxic', 'obscene', 'threat', 'insult', 'identity_hate'])\n",
        "submission = pd.DataFrame(sample_submission[\"id\"])\n",
        "combined_submission=pd.concat([submission,test_values_1],axis=1)\n",
        "combined_submission.to_csv('File_Path', index=False)"
      ],
      "metadata": {
        "id": "A2IBn5njBIiu"
      },
      "execution_count": null,
      "outputs": []
    },
    {
      "cell_type": "markdown",
      "source": [
        "**LSTM-CNN**"
      ],
      "metadata": {
        "id": "JgLXt9hFBwQI"
      }
    },
    {
      "cell_type": "code",
      "source": [
        "test_values_2 = loaded_model_2.predict([X_te], batch_size=1, verbose=1)"
      ],
      "metadata": {
        "id": "jrneY486B0LA",
        "colab": {
          "base_uri": "https://localhost:8080/"
        },
        "outputId": "8e82d4ba-dfaf-470b-8bee-c286265c433f"
      },
      "execution_count": null,
      "outputs": [
        {
          "output_type": "stream",
          "name": "stdout",
          "text": [
            "153164/153164 [==============================] - 554s 4ms/step\n"
          ]
        }
      ]
    },
    {
      "cell_type": "code",
      "source": [
        "sample_submission = pd.read_csv('/content/sample_submission.csv')\n",
        "test_values_2=pd.DataFrame(test_values_2,columns=['toxic', 'severe_toxic', 'obscene', 'threat', 'insult', 'identity_hate'])\n",
        "submission = pd.DataFrame(sample_submission[\"id\"])\n",
        "combined_submission=pd.concat([submission,test_values_2],axis=1)\n",
        "combined_submission.to_csv('File_Path', index=False)"
      ],
      "metadata": {
        "id": "Q2GZ_Y-jB2QF"
      },
      "execution_count": null,
      "outputs": []
    },
    {
      "cell_type": "markdown",
      "source": [
        "**Testing the Created Model**"
      ],
      "metadata": {
        "id": "pVfG4ctdB4gc"
      }
    },
    {
      "cell_type": "code",
      "source": [
        "def toxicity_level(string):\n",
        "    new_string = [string]\n",
        "    new_string = tokenizer.texts_to_sequences(new_string)\n",
        "    new_string = pad_sequences(new_string, maxlen=maxpadlen, padding='post')\n",
        "    \n",
        "    prediction = model_1.predict(new_string) #(Change to model_1 or model_2 depending on the preference of model type|| Model 1: LSTM, Model 2:LSTM-CNN)\n",
        "    \n",
        "    print(\"Toxicity levels for '{}':\".format(string))\n",
        "    print('Toxic:         {:.0%}'.format(prediction[0][0]))\n",
        "    print('Severe Toxic:  {:.0%}'.format(prediction[0][1]))\n",
        "    print('Obscene:       {:.0%}'.format(prediction[0][2]))\n",
        "    print('Threat:        {:.0%}'.format(prediction[0][3]))\n",
        "    print('Insult:        {:.0%}'.format(prediction[0][4]))\n",
        "    print('Identity Hate: {:.0%}'.format(prediction[0][5]))\n",
        "    print()\n",
        "    \n",
        "    return"
      ],
      "metadata": {
        "id": "AGnuFfOBCKqN"
      },
      "execution_count": null,
      "outputs": []
    },
    {
      "cell_type": "markdown",
      "source": [],
      "metadata": {
        "id": "WaJPIX_GGryY"
      }
    },
    {
      "cell_type": "code",
      "source": [
        "toxicity_level('Hello, How are you?')"
      ],
      "metadata": {
        "colab": {
          "base_uri": "https://localhost:8080/"
        },
        "id": "S0fiXnleGn5f",
        "outputId": "6686847b-6283-4f87-f9ad-4476cd2d91b3"
      },
      "execution_count": null,
      "outputs": [
        {
          "output_type": "stream",
          "name": "stdout",
          "text": [
            "1/1 [==============================] - 0s 459ms/step\n",
            "Toxicity levels for 'Hello, How are you?':\n",
            "Toxic:         1%\n",
            "Severe Toxic:  0%\n",
            "Obscene:       0%\n",
            "Threat:        0%\n",
            "Insult:        0%\n",
            "Identity Hate: 0%\n",
            "\n"
          ]
        }
      ]
    },
    {
      "cell_type": "code",
      "source": [
        "toxicity_level('get the fuck away from me @sshole!!')"
      ],
      "metadata": {
        "colab": {
          "base_uri": "https://localhost:8080/"
        },
        "id": "zwH3oKG5G4TA",
        "outputId": "e5768d60-7995-4ebc-e7ea-0dad6bfc23e2"
      },
      "execution_count": null,
      "outputs": [
        {
          "output_type": "stream",
          "name": "stdout",
          "text": [
            "1/1 [==============================] - 0s 33ms/step\n",
            "Toxicity levels for 'get the fuck away from me @sshole!!':\n",
            "Toxic:         96%\n",
            "Severe Toxic:  7%\n",
            "Obscene:       85%\n",
            "Threat:        1%\n",
            "Insult:        57%\n",
            "Identity Hate: 3%\n",
            "\n"
          ]
        }
      ]
    },
    {
      "cell_type": "code",
      "source": [
        "toxicity_level('go jump off a bridge jerk')"
      ],
      "metadata": {
        "colab": {
          "base_uri": "https://localhost:8080/"
        },
        "id": "b3A07t9gG8zy",
        "outputId": "88ee40b9-ecaf-409b-a23f-9e562ab9a932"
      },
      "execution_count": null,
      "outputs": [
        {
          "output_type": "stream",
          "name": "stdout",
          "text": [
            "1/1 [==============================] - 0s 31ms/step\n",
            "Toxicity levels for 'go jump off a bridge jerk':\n",
            "Toxic:         77%\n",
            "Severe Toxic:  1%\n",
            "Obscene:       44%\n",
            "Threat:        1%\n",
            "Insult:        31%\n",
            "Identity Hate: 2%\n",
            "\n"
          ]
        }
      ]
    }
  ],
  "metadata": {
    "accelerator": "GPU",
    "colab": {
      "machine_shape": "hm",
      "provenance": [],
      "mount_file_id": "1uedvamBW08CM-C3S-xYceWm6aS_dRMLN",
      "authorship_tag": "ABX9TyOUcDjFCE+MRLXmmuxtjlkp",
      "include_colab_link": true
    },
    "gpuClass": "premium",
    "kernelspec": {
      "display_name": "Python 3",
      "name": "python3"
    },
    "language_info": {
      "name": "python"
    },
    "widgets": {
      "application/vnd.jupyter.widget-state+json": {
        "000639650e3b465c8413de569369355e": {
          "model_module": "@jupyter-widgets/controls",
          "model_module_version": "1.5.0",
          "model_name": "HTMLModel",
          "state": {
            "_dom_classes": [],
            "_model_module": "@jupyter-widgets/controls",
            "_model_module_version": "1.5.0",
            "_model_name": "HTMLModel",
            "_view_count": null,
            "_view_module": "@jupyter-widgets/controls",
            "_view_module_version": "1.5.0",
            "_view_name": "HTMLView",
            "description": "",
            "description_tooltip": null,
            "layout": "IPY_MODEL_c57b88578de04ef4b643adef1bdb14f6",
            "placeholder": "​",
            "style": "IPY_MODEL_7ee542c849c24fc5b06c6ac712285ddc",
            "value": "100%"
          }
        },
        "021a812f17714608855a998925e820d0": {
          "model_module": "@jupyter-widgets/base",
          "model_module_version": "1.2.0",
          "model_name": "LayoutModel",
          "state": {
            "_model_module": "@jupyter-widgets/base",
            "_model_module_version": "1.2.0",
            "_model_name": "LayoutModel",
            "_view_count": null,
            "_view_module": "@jupyter-widgets/base",
            "_view_module_version": "1.2.0",
            "_view_name": "LayoutView",
            "align_content": null,
            "align_items": null,
            "align_self": null,
            "border": null,
            "bottom": null,
            "display": null,
            "flex": null,
            "flex_flow": null,
            "grid_area": null,
            "grid_auto_columns": null,
            "grid_auto_flow": null,
            "grid_auto_rows": null,
            "grid_column": null,
            "grid_gap": null,
            "grid_row": null,
            "grid_template_areas": null,
            "grid_template_columns": null,
            "grid_template_rows": null,
            "height": null,
            "justify_content": null,
            "justify_items": null,
            "left": null,
            "margin": null,
            "max_height": null,
            "max_width": null,
            "min_height": null,
            "min_width": null,
            "object_fit": null,
            "object_position": null,
            "order": null,
            "overflow": null,
            "overflow_x": null,
            "overflow_y": null,
            "padding": null,
            "right": null,
            "top": null,
            "visibility": null,
            "width": null
          }
        },
        "0540bb78f5394bcf933ef46d9582e1c9": {
          "model_module": "@jupyter-widgets/controls",
          "model_module_version": "1.5.0",
          "model_name": "DescriptionStyleModel",
          "state": {
            "_model_module": "@jupyter-widgets/controls",
            "_model_module_version": "1.5.0",
            "_model_name": "DescriptionStyleModel",
            "_view_count": null,
            "_view_module": "@jupyter-widgets/base",
            "_view_module_version": "1.2.0",
            "_view_name": "StyleView",
            "description_width": ""
          }
        },
        "055919607d2e46208d88aefc9790c552": {
          "model_module": "@jupyter-widgets/controls",
          "model_module_version": "1.5.0",
          "model_name": "DescriptionStyleModel",
          "state": {
            "_model_module": "@jupyter-widgets/controls",
            "_model_module_version": "1.5.0",
            "_model_name": "DescriptionStyleModel",
            "_view_count": null,
            "_view_module": "@jupyter-widgets/base",
            "_view_module_version": "1.2.0",
            "_view_name": "StyleView",
            "description_width": ""
          }
        },
        "0bd55804cd2a4be3a95d039475b9e634": {
          "model_module": "@jupyter-widgets/base",
          "model_module_version": "1.2.0",
          "model_name": "LayoutModel",
          "state": {
            "_model_module": "@jupyter-widgets/base",
            "_model_module_version": "1.2.0",
            "_model_name": "LayoutModel",
            "_view_count": null,
            "_view_module": "@jupyter-widgets/base",
            "_view_module_version": "1.2.0",
            "_view_name": "LayoutView",
            "align_content": null,
            "align_items": null,
            "align_self": null,
            "border": null,
            "bottom": null,
            "display": null,
            "flex": null,
            "flex_flow": null,
            "grid_area": null,
            "grid_auto_columns": null,
            "grid_auto_flow": null,
            "grid_auto_rows": null,
            "grid_column": null,
            "grid_gap": null,
            "grid_row": null,
            "grid_template_areas": null,
            "grid_template_columns": null,
            "grid_template_rows": null,
            "height": null,
            "justify_content": null,
            "justify_items": null,
            "left": null,
            "margin": null,
            "max_height": null,
            "max_width": null,
            "min_height": null,
            "min_width": null,
            "object_fit": null,
            "object_position": null,
            "order": null,
            "overflow": null,
            "overflow_x": null,
            "overflow_y": null,
            "padding": null,
            "right": null,
            "top": null,
            "visibility": null,
            "width": null
          }
        },
        "1066ab0864894437800b76e5c33f0d94": {
          "model_module": "@jupyter-widgets/controls",
          "model_module_version": "1.5.0",
          "model_name": "HTMLModel",
          "state": {
            "_dom_classes": [],
            "_model_module": "@jupyter-widgets/controls",
            "_model_module_version": "1.5.0",
            "_model_name": "HTMLModel",
            "_view_count": null,
            "_view_module": "@jupyter-widgets/controls",
            "_view_module_version": "1.5.0",
            "_view_name": "HTMLView",
            "description": "",
            "description_tooltip": null,
            "layout": "IPY_MODEL_90474bb4d95a44dcb161bb4e007a0a2a",
            "placeholder": "​",
            "style": "IPY_MODEL_626ca1317c574bc99dddce9e53469fb1",
            "value": " 159571/159571 [01:47&lt;00:00, 1416.59it/s]"
          }
        },
        "126b5f6b3cee4243829fe381bf2e93bc": {
          "model_module": "@jupyter-widgets/controls",
          "model_module_version": "1.5.0",
          "model_name": "DescriptionStyleModel",
          "state": {
            "_model_module": "@jupyter-widgets/controls",
            "_model_module_version": "1.5.0",
            "_model_name": "DescriptionStyleModel",
            "_view_count": null,
            "_view_module": "@jupyter-widgets/base",
            "_view_module_version": "1.2.0",
            "_view_name": "StyleView",
            "description_width": ""
          }
        },
        "13ef4ea7544046e49b8ba9b674a40d68": {
          "model_module": "@jupyter-widgets/controls",
          "model_module_version": "1.5.0",
          "model_name": "HTMLModel",
          "state": {
            "_dom_classes": [],
            "_model_module": "@jupyter-widgets/controls",
            "_model_module_version": "1.5.0",
            "_model_name": "HTMLModel",
            "_view_count": null,
            "_view_module": "@jupyter-widgets/controls",
            "_view_module_version": "1.5.0",
            "_view_name": "HTMLView",
            "description": "",
            "description_tooltip": null,
            "layout": "IPY_MODEL_c7615a14fcfb40a6a0891c8a264fabe4",
            "placeholder": "​",
            "style": "IPY_MODEL_126b5f6b3cee4243829fe381bf2e93bc",
            "value": " 159571/159571 [00:02&lt;00:00, 70205.96it/s]"
          }
        },
        "1784c15299844c4fa88a3b62fffaf33a": {
          "model_module": "@jupyter-widgets/base",
          "model_module_version": "1.2.0",
          "model_name": "LayoutModel",
          "state": {
            "_model_module": "@jupyter-widgets/base",
            "_model_module_version": "1.2.0",
            "_model_name": "LayoutModel",
            "_view_count": null,
            "_view_module": "@jupyter-widgets/base",
            "_view_module_version": "1.2.0",
            "_view_name": "LayoutView",
            "align_content": null,
            "align_items": null,
            "align_self": null,
            "border": null,
            "bottom": null,
            "display": null,
            "flex": null,
            "flex_flow": null,
            "grid_area": null,
            "grid_auto_columns": null,
            "grid_auto_flow": null,
            "grid_auto_rows": null,
            "grid_column": null,
            "grid_gap": null,
            "grid_row": null,
            "grid_template_areas": null,
            "grid_template_columns": null,
            "grid_template_rows": null,
            "height": null,
            "justify_content": null,
            "justify_items": null,
            "left": null,
            "margin": null,
            "max_height": null,
            "max_width": null,
            "min_height": null,
            "min_width": null,
            "object_fit": null,
            "object_position": null,
            "order": null,
            "overflow": null,
            "overflow_x": null,
            "overflow_y": null,
            "padding": null,
            "right": null,
            "top": null,
            "visibility": null,
            "width": null
          }
        },
        "19050a6d9374408395f559f075148422": {
          "model_module": "@jupyter-widgets/base",
          "model_module_version": "1.2.0",
          "model_name": "LayoutModel",
          "state": {
            "_model_module": "@jupyter-widgets/base",
            "_model_module_version": "1.2.0",
            "_model_name": "LayoutModel",
            "_view_count": null,
            "_view_module": "@jupyter-widgets/base",
            "_view_module_version": "1.2.0",
            "_view_name": "LayoutView",
            "align_content": null,
            "align_items": null,
            "align_self": null,
            "border": null,
            "bottom": null,
            "display": null,
            "flex": null,
            "flex_flow": null,
            "grid_area": null,
            "grid_auto_columns": null,
            "grid_auto_flow": null,
            "grid_auto_rows": null,
            "grid_column": null,
            "grid_gap": null,
            "grid_row": null,
            "grid_template_areas": null,
            "grid_template_columns": null,
            "grid_template_rows": null,
            "height": null,
            "justify_content": null,
            "justify_items": null,
            "left": null,
            "margin": null,
            "max_height": null,
            "max_width": null,
            "min_height": null,
            "min_width": null,
            "object_fit": null,
            "object_position": null,
            "order": null,
            "overflow": null,
            "overflow_x": null,
            "overflow_y": null,
            "padding": null,
            "right": null,
            "top": null,
            "visibility": null,
            "width": null
          }
        },
        "26eede6ed25c4c83b876318f2d778ab9": {
          "model_module": "@jupyter-widgets/controls",
          "model_module_version": "1.5.0",
          "model_name": "FloatProgressModel",
          "state": {
            "_dom_classes": [],
            "_model_module": "@jupyter-widgets/controls",
            "_model_module_version": "1.5.0",
            "_model_name": "FloatProgressModel",
            "_view_count": null,
            "_view_module": "@jupyter-widgets/controls",
            "_view_module_version": "1.5.0",
            "_view_name": "ProgressView",
            "bar_style": "success",
            "description": "",
            "description_tooltip": null,
            "layout": "IPY_MODEL_6ad856ddf34e46449c456f79e8078a7e",
            "max": 153164,
            "min": 0,
            "orientation": "horizontal",
            "style": "IPY_MODEL_f4f010e1f9d841f29ea542c9db7375dc",
            "value": 153164
          }
        },
        "2b8c0ff3aa1b4b4aa646a178d609b847": {
          "model_module": "@jupyter-widgets/base",
          "model_module_version": "1.2.0",
          "model_name": "LayoutModel",
          "state": {
            "_model_module": "@jupyter-widgets/base",
            "_model_module_version": "1.2.0",
            "_model_name": "LayoutModel",
            "_view_count": null,
            "_view_module": "@jupyter-widgets/base",
            "_view_module_version": "1.2.0",
            "_view_name": "LayoutView",
            "align_content": null,
            "align_items": null,
            "align_self": null,
            "border": null,
            "bottom": null,
            "display": null,
            "flex": null,
            "flex_flow": null,
            "grid_area": null,
            "grid_auto_columns": null,
            "grid_auto_flow": null,
            "grid_auto_rows": null,
            "grid_column": null,
            "grid_gap": null,
            "grid_row": null,
            "grid_template_areas": null,
            "grid_template_columns": null,
            "grid_template_rows": null,
            "height": null,
            "justify_content": null,
            "justify_items": null,
            "left": null,
            "margin": null,
            "max_height": null,
            "max_width": null,
            "min_height": null,
            "min_width": null,
            "object_fit": null,
            "object_position": null,
            "order": null,
            "overflow": null,
            "overflow_x": null,
            "overflow_y": null,
            "padding": null,
            "right": null,
            "top": null,
            "visibility": null,
            "width": null
          }
        },
        "2b95ee60b1cf49df80f48085cec9b125": {
          "model_module": "@jupyter-widgets/base",
          "model_module_version": "1.2.0",
          "model_name": "LayoutModel",
          "state": {
            "_model_module": "@jupyter-widgets/base",
            "_model_module_version": "1.2.0",
            "_model_name": "LayoutModel",
            "_view_count": null,
            "_view_module": "@jupyter-widgets/base",
            "_view_module_version": "1.2.0",
            "_view_name": "LayoutView",
            "align_content": null,
            "align_items": null,
            "align_self": null,
            "border": null,
            "bottom": null,
            "display": null,
            "flex": null,
            "flex_flow": null,
            "grid_area": null,
            "grid_auto_columns": null,
            "grid_auto_flow": null,
            "grid_auto_rows": null,
            "grid_column": null,
            "grid_gap": null,
            "grid_row": null,
            "grid_template_areas": null,
            "grid_template_columns": null,
            "grid_template_rows": null,
            "height": null,
            "justify_content": null,
            "justify_items": null,
            "left": null,
            "margin": null,
            "max_height": null,
            "max_width": null,
            "min_height": null,
            "min_width": null,
            "object_fit": null,
            "object_position": null,
            "order": null,
            "overflow": null,
            "overflow_x": null,
            "overflow_y": null,
            "padding": null,
            "right": null,
            "top": null,
            "visibility": null,
            "width": null
          }
        },
        "2d476c21aa434f0492ead7c37685b976": {
          "model_module": "@jupyter-widgets/controls",
          "model_module_version": "1.5.0",
          "model_name": "HBoxModel",
          "state": {
            "_dom_classes": [],
            "_model_module": "@jupyter-widgets/controls",
            "_model_module_version": "1.5.0",
            "_model_name": "HBoxModel",
            "_view_count": null,
            "_view_module": "@jupyter-widgets/controls",
            "_view_module_version": "1.5.0",
            "_view_name": "HBoxView",
            "box_style": "",
            "children": [
              "IPY_MODEL_9b51079c4a68433db083305e2f82c56e",
              "IPY_MODEL_c13c1a5c7799498583ac9c1ae76a6e63",
              "IPY_MODEL_5e98e50863de43968ebdf2341109b18b"
            ],
            "layout": "IPY_MODEL_2b95ee60b1cf49df80f48085cec9b125"
          }
        },
        "36235162424f4f1a9c42167512ddc8e3": {
          "model_module": "@jupyter-widgets/controls",
          "model_module_version": "1.5.0",
          "model_name": "HTMLModel",
          "state": {
            "_dom_classes": [],
            "_model_module": "@jupyter-widgets/controls",
            "_model_module_version": "1.5.0",
            "_model_name": "HTMLModel",
            "_view_count": null,
            "_view_module": "@jupyter-widgets/controls",
            "_view_module_version": "1.5.0",
            "_view_name": "HTMLView",
            "description": "",
            "description_tooltip": null,
            "layout": "IPY_MODEL_1784c15299844c4fa88a3b62fffaf33a",
            "placeholder": "​",
            "style": "IPY_MODEL_5ba06c2761164041bf09f9f30ccd9c48",
            "value": "100%"
          }
        },
        "388492fe9fd0433da665a6b3881beb8b": {
          "model_module": "@jupyter-widgets/base",
          "model_module_version": "1.2.0",
          "model_name": "LayoutModel",
          "state": {
            "_model_module": "@jupyter-widgets/base",
            "_model_module_version": "1.2.0",
            "_model_name": "LayoutModel",
            "_view_count": null,
            "_view_module": "@jupyter-widgets/base",
            "_view_module_version": "1.2.0",
            "_view_name": "LayoutView",
            "align_content": null,
            "align_items": null,
            "align_self": null,
            "border": null,
            "bottom": null,
            "display": null,
            "flex": null,
            "flex_flow": null,
            "grid_area": null,
            "grid_auto_columns": null,
            "grid_auto_flow": null,
            "grid_auto_rows": null,
            "grid_column": null,
            "grid_gap": null,
            "grid_row": null,
            "grid_template_areas": null,
            "grid_template_columns": null,
            "grid_template_rows": null,
            "height": null,
            "justify_content": null,
            "justify_items": null,
            "left": null,
            "margin": null,
            "max_height": null,
            "max_width": null,
            "min_height": null,
            "min_width": null,
            "object_fit": null,
            "object_position": null,
            "order": null,
            "overflow": null,
            "overflow_x": null,
            "overflow_y": null,
            "padding": null,
            "right": null,
            "top": null,
            "visibility": null,
            "width": null
          }
        },
        "3e1fc0687be94de8a6a6ffb7b8bc59f7": {
          "model_module": "@jupyter-widgets/base",
          "model_module_version": "1.2.0",
          "model_name": "LayoutModel",
          "state": {
            "_model_module": "@jupyter-widgets/base",
            "_model_module_version": "1.2.0",
            "_model_name": "LayoutModel",
            "_view_count": null,
            "_view_module": "@jupyter-widgets/base",
            "_view_module_version": "1.2.0",
            "_view_name": "LayoutView",
            "align_content": null,
            "align_items": null,
            "align_self": null,
            "border": null,
            "bottom": null,
            "display": null,
            "flex": null,
            "flex_flow": null,
            "grid_area": null,
            "grid_auto_columns": null,
            "grid_auto_flow": null,
            "grid_auto_rows": null,
            "grid_column": null,
            "grid_gap": null,
            "grid_row": null,
            "grid_template_areas": null,
            "grid_template_columns": null,
            "grid_template_rows": null,
            "height": null,
            "justify_content": null,
            "justify_items": null,
            "left": null,
            "margin": null,
            "max_height": null,
            "max_width": null,
            "min_height": null,
            "min_width": null,
            "object_fit": null,
            "object_position": null,
            "order": null,
            "overflow": null,
            "overflow_x": null,
            "overflow_y": null,
            "padding": null,
            "right": null,
            "top": null,
            "visibility": null,
            "width": null
          }
        },
        "43b8abab217a4356bfade018a3865b12": {
          "model_module": "@jupyter-widgets/controls",
          "model_module_version": "1.5.0",
          "model_name": "DescriptionStyleModel",
          "state": {
            "_model_module": "@jupyter-widgets/controls",
            "_model_module_version": "1.5.0",
            "_model_name": "DescriptionStyleModel",
            "_view_count": null,
            "_view_module": "@jupyter-widgets/base",
            "_view_module_version": "1.2.0",
            "_view_name": "StyleView",
            "description_width": ""
          }
        },
        "4c617395116242848652e2417e40daf9": {
          "model_module": "@jupyter-widgets/controls",
          "model_module_version": "1.5.0",
          "model_name": "HTMLModel",
          "state": {
            "_dom_classes": [],
            "_model_module": "@jupyter-widgets/controls",
            "_model_module_version": "1.5.0",
            "_model_name": "HTMLModel",
            "_view_count": null,
            "_view_module": "@jupyter-widgets/controls",
            "_view_module_version": "1.5.0",
            "_view_name": "HTMLView",
            "description": "",
            "description_tooltip": null,
            "layout": "IPY_MODEL_84a6dfa5c0e64bad8a0032d15a9d6bee",
            "placeholder": "​",
            "style": "IPY_MODEL_43b8abab217a4356bfade018a3865b12",
            "value": "100%"
          }
        },
        "58449319696f4f93aabc11cbd0c6d242": {
          "model_module": "@jupyter-widgets/controls",
          "model_module_version": "1.5.0",
          "model_name": "FloatProgressModel",
          "state": {
            "_dom_classes": [],
            "_model_module": "@jupyter-widgets/controls",
            "_model_module_version": "1.5.0",
            "_model_name": "FloatProgressModel",
            "_view_count": null,
            "_view_module": "@jupyter-widgets/controls",
            "_view_module_version": "1.5.0",
            "_view_name": "ProgressView",
            "bar_style": "success",
            "description": "",
            "description_tooltip": null,
            "layout": "IPY_MODEL_f8e3fe14db50435f80bd3118553577b5",
            "max": 159571,
            "min": 0,
            "orientation": "horizontal",
            "style": "IPY_MODEL_dcc84875a22b4d3abe93c80935500fab",
            "value": 159571
          }
        },
        "5ba06c2761164041bf09f9f30ccd9c48": {
          "model_module": "@jupyter-widgets/controls",
          "model_module_version": "1.5.0",
          "model_name": "DescriptionStyleModel",
          "state": {
            "_model_module": "@jupyter-widgets/controls",
            "_model_module_version": "1.5.0",
            "_model_name": "DescriptionStyleModel",
            "_view_count": null,
            "_view_module": "@jupyter-widgets/base",
            "_view_module_version": "1.2.0",
            "_view_name": "StyleView",
            "description_width": ""
          }
        },
        "5e98e50863de43968ebdf2341109b18b": {
          "model_module": "@jupyter-widgets/controls",
          "model_module_version": "1.5.0",
          "model_name": "HTMLModel",
          "state": {
            "_dom_classes": [],
            "_model_module": "@jupyter-widgets/controls",
            "_model_module_version": "1.5.0",
            "_model_name": "HTMLModel",
            "_view_count": null,
            "_view_module": "@jupyter-widgets/controls",
            "_view_module_version": "1.5.0",
            "_view_name": "HTMLView",
            "description": "",
            "description_tooltip": null,
            "layout": "IPY_MODEL_7734569ed3fa46548fb1db8089887f02",
            "placeholder": "​",
            "style": "IPY_MODEL_b471ca208d2842af953b83498545be70",
            "value": " 153164/153164 [01:35&lt;00:00, 1381.86it/s]"
          }
        },
        "626ca1317c574bc99dddce9e53469fb1": {
          "model_module": "@jupyter-widgets/controls",
          "model_module_version": "1.5.0",
          "model_name": "DescriptionStyleModel",
          "state": {
            "_model_module": "@jupyter-widgets/controls",
            "_model_module_version": "1.5.0",
            "_model_name": "DescriptionStyleModel",
            "_view_count": null,
            "_view_module": "@jupyter-widgets/base",
            "_view_module_version": "1.2.0",
            "_view_name": "StyleView",
            "description_width": ""
          }
        },
        "67477e3fdd0e47b4b63b796385ed7baa": {
          "model_module": "@jupyter-widgets/controls",
          "model_module_version": "1.5.0",
          "model_name": "HBoxModel",
          "state": {
            "_dom_classes": [],
            "_model_module": "@jupyter-widgets/controls",
            "_model_module_version": "1.5.0",
            "_model_name": "HBoxModel",
            "_view_count": null,
            "_view_module": "@jupyter-widgets/controls",
            "_view_module_version": "1.5.0",
            "_view_name": "HBoxView",
            "box_style": "",
            "children": [
              "IPY_MODEL_000639650e3b465c8413de569369355e",
              "IPY_MODEL_f1caad4b70ff43999a0eaee15a1c01a0",
              "IPY_MODEL_13ef4ea7544046e49b8ba9b674a40d68"
            ],
            "layout": "IPY_MODEL_2b8c0ff3aa1b4b4aa646a178d609b847"
          }
        },
        "6ad856ddf34e46449c456f79e8078a7e": {
          "model_module": "@jupyter-widgets/base",
          "model_module_version": "1.2.0",
          "model_name": "LayoutModel",
          "state": {
            "_model_module": "@jupyter-widgets/base",
            "_model_module_version": "1.2.0",
            "_model_name": "LayoutModel",
            "_view_count": null,
            "_view_module": "@jupyter-widgets/base",
            "_view_module_version": "1.2.0",
            "_view_name": "LayoutView",
            "align_content": null,
            "align_items": null,
            "align_self": null,
            "border": null,
            "bottom": null,
            "display": null,
            "flex": null,
            "flex_flow": null,
            "grid_area": null,
            "grid_auto_columns": null,
            "grid_auto_flow": null,
            "grid_auto_rows": null,
            "grid_column": null,
            "grid_gap": null,
            "grid_row": null,
            "grid_template_areas": null,
            "grid_template_columns": null,
            "grid_template_rows": null,
            "height": null,
            "justify_content": null,
            "justify_items": null,
            "left": null,
            "margin": null,
            "max_height": null,
            "max_width": null,
            "min_height": null,
            "min_width": null,
            "object_fit": null,
            "object_position": null,
            "order": null,
            "overflow": null,
            "overflow_x": null,
            "overflow_y": null,
            "padding": null,
            "right": null,
            "top": null,
            "visibility": null,
            "width": null
          }
        },
        "6bef07e84dcf4b96b7a9eeec5b72e6ca": {
          "model_module": "@jupyter-widgets/controls",
          "model_module_version": "1.5.0",
          "model_name": "HBoxModel",
          "state": {
            "_dom_classes": [],
            "_model_module": "@jupyter-widgets/controls",
            "_model_module_version": "1.5.0",
            "_model_name": "HBoxModel",
            "_view_count": null,
            "_view_module": "@jupyter-widgets/controls",
            "_view_module_version": "1.5.0",
            "_view_name": "HBoxView",
            "box_style": "",
            "children": [
              "IPY_MODEL_a17f3d7baf17403e9b217630bd00c291",
              "IPY_MODEL_26eede6ed25c4c83b876318f2d778ab9",
              "IPY_MODEL_8aa07da62ae7416ba721a5a287f6295e"
            ],
            "layout": "IPY_MODEL_3e1fc0687be94de8a6a6ffb7b8bc59f7"
          }
        },
        "7734569ed3fa46548fb1db8089887f02": {
          "model_module": "@jupyter-widgets/base",
          "model_module_version": "1.2.0",
          "model_name": "LayoutModel",
          "state": {
            "_model_module": "@jupyter-widgets/base",
            "_model_module_version": "1.2.0",
            "_model_name": "LayoutModel",
            "_view_count": null,
            "_view_module": "@jupyter-widgets/base",
            "_view_module_version": "1.2.0",
            "_view_name": "LayoutView",
            "align_content": null,
            "align_items": null,
            "align_self": null,
            "border": null,
            "bottom": null,
            "display": null,
            "flex": null,
            "flex_flow": null,
            "grid_area": null,
            "grid_auto_columns": null,
            "grid_auto_flow": null,
            "grid_auto_rows": null,
            "grid_column": null,
            "grid_gap": null,
            "grid_row": null,
            "grid_template_areas": null,
            "grid_template_columns": null,
            "grid_template_rows": null,
            "height": null,
            "justify_content": null,
            "justify_items": null,
            "left": null,
            "margin": null,
            "max_height": null,
            "max_width": null,
            "min_height": null,
            "min_width": null,
            "object_fit": null,
            "object_position": null,
            "order": null,
            "overflow": null,
            "overflow_x": null,
            "overflow_y": null,
            "padding": null,
            "right": null,
            "top": null,
            "visibility": null,
            "width": null
          }
        },
        "7ee542c849c24fc5b06c6ac712285ddc": {
          "model_module": "@jupyter-widgets/controls",
          "model_module_version": "1.5.0",
          "model_name": "DescriptionStyleModel",
          "state": {
            "_model_module": "@jupyter-widgets/controls",
            "_model_module_version": "1.5.0",
            "_model_name": "DescriptionStyleModel",
            "_view_count": null,
            "_view_module": "@jupyter-widgets/base",
            "_view_module_version": "1.2.0",
            "_view_name": "StyleView",
            "description_width": ""
          }
        },
        "84a6dfa5c0e64bad8a0032d15a9d6bee": {
          "model_module": "@jupyter-widgets/base",
          "model_module_version": "1.2.0",
          "model_name": "LayoutModel",
          "state": {
            "_model_module": "@jupyter-widgets/base",
            "_model_module_version": "1.2.0",
            "_model_name": "LayoutModel",
            "_view_count": null,
            "_view_module": "@jupyter-widgets/base",
            "_view_module_version": "1.2.0",
            "_view_name": "LayoutView",
            "align_content": null,
            "align_items": null,
            "align_self": null,
            "border": null,
            "bottom": null,
            "display": null,
            "flex": null,
            "flex_flow": null,
            "grid_area": null,
            "grid_auto_columns": null,
            "grid_auto_flow": null,
            "grid_auto_rows": null,
            "grid_column": null,
            "grid_gap": null,
            "grid_row": null,
            "grid_template_areas": null,
            "grid_template_columns": null,
            "grid_template_rows": null,
            "height": null,
            "justify_content": null,
            "justify_items": null,
            "left": null,
            "margin": null,
            "max_height": null,
            "max_width": null,
            "min_height": null,
            "min_width": null,
            "object_fit": null,
            "object_position": null,
            "order": null,
            "overflow": null,
            "overflow_x": null,
            "overflow_y": null,
            "padding": null,
            "right": null,
            "top": null,
            "visibility": null,
            "width": null
          }
        },
        "8aa07da62ae7416ba721a5a287f6295e": {
          "model_module": "@jupyter-widgets/controls",
          "model_module_version": "1.5.0",
          "model_name": "HTMLModel",
          "state": {
            "_dom_classes": [],
            "_model_module": "@jupyter-widgets/controls",
            "_model_module_version": "1.5.0",
            "_model_name": "HTMLModel",
            "_view_count": null,
            "_view_module": "@jupyter-widgets/controls",
            "_view_module_version": "1.5.0",
            "_view_name": "HTMLView",
            "description": "",
            "description_tooltip": null,
            "layout": "IPY_MODEL_c39e33704916445b9af2cf7a510c34dd",
            "placeholder": "​",
            "style": "IPY_MODEL_c4ee8871c1354ad2a10e7ffc16830bf9",
            "value": " 153164/153164 [00:01&lt;00:00, 80985.79it/s]"
          }
        },
        "90474bb4d95a44dcb161bb4e007a0a2a": {
          "model_module": "@jupyter-widgets/base",
          "model_module_version": "1.2.0",
          "model_name": "LayoutModel",
          "state": {
            "_model_module": "@jupyter-widgets/base",
            "_model_module_version": "1.2.0",
            "_model_name": "LayoutModel",
            "_view_count": null,
            "_view_module": "@jupyter-widgets/base",
            "_view_module_version": "1.2.0",
            "_view_name": "LayoutView",
            "align_content": null,
            "align_items": null,
            "align_self": null,
            "border": null,
            "bottom": null,
            "display": null,
            "flex": null,
            "flex_flow": null,
            "grid_area": null,
            "grid_auto_columns": null,
            "grid_auto_flow": null,
            "grid_auto_rows": null,
            "grid_column": null,
            "grid_gap": null,
            "grid_row": null,
            "grid_template_areas": null,
            "grid_template_columns": null,
            "grid_template_rows": null,
            "height": null,
            "justify_content": null,
            "justify_items": null,
            "left": null,
            "margin": null,
            "max_height": null,
            "max_width": null,
            "min_height": null,
            "min_width": null,
            "object_fit": null,
            "object_position": null,
            "order": null,
            "overflow": null,
            "overflow_x": null,
            "overflow_y": null,
            "padding": null,
            "right": null,
            "top": null,
            "visibility": null,
            "width": null
          }
        },
        "908dfa2160694b4ebda6231f415117f7": {
          "model_module": "@jupyter-widgets/controls",
          "model_module_version": "1.5.0",
          "model_name": "HBoxModel",
          "state": {
            "_dom_classes": [],
            "_model_module": "@jupyter-widgets/controls",
            "_model_module_version": "1.5.0",
            "_model_name": "HBoxModel",
            "_view_count": null,
            "_view_module": "@jupyter-widgets/controls",
            "_view_module_version": "1.5.0",
            "_view_name": "HBoxView",
            "box_style": "",
            "children": [
              "IPY_MODEL_4c617395116242848652e2417e40daf9",
              "IPY_MODEL_58449319696f4f93aabc11cbd0c6d242",
              "IPY_MODEL_f1a85184210a4c3e9aef32c257c345d1"
            ],
            "layout": "IPY_MODEL_021a812f17714608855a998925e820d0"
          }
        },
        "9b51079c4a68433db083305e2f82c56e": {
          "model_module": "@jupyter-widgets/controls",
          "model_module_version": "1.5.0",
          "model_name": "HTMLModel",
          "state": {
            "_dom_classes": [],
            "_model_module": "@jupyter-widgets/controls",
            "_model_module_version": "1.5.0",
            "_model_name": "HTMLModel",
            "_view_count": null,
            "_view_module": "@jupyter-widgets/controls",
            "_view_module_version": "1.5.0",
            "_view_name": "HTMLView",
            "description": "",
            "description_tooltip": null,
            "layout": "IPY_MODEL_19050a6d9374408395f559f075148422",
            "placeholder": "​",
            "style": "IPY_MODEL_055919607d2e46208d88aefc9790c552",
            "value": "100%"
          }
        },
        "a17f3d7baf17403e9b217630bd00c291": {
          "model_module": "@jupyter-widgets/controls",
          "model_module_version": "1.5.0",
          "model_name": "HTMLModel",
          "state": {
            "_dom_classes": [],
            "_model_module": "@jupyter-widgets/controls",
            "_model_module_version": "1.5.0",
            "_model_name": "HTMLModel",
            "_view_count": null,
            "_view_module": "@jupyter-widgets/controls",
            "_view_module_version": "1.5.0",
            "_view_name": "HTMLView",
            "description": "",
            "description_tooltip": null,
            "layout": "IPY_MODEL_f0ea9dca8a424783938200895b2e7363",
            "placeholder": "​",
            "style": "IPY_MODEL_0540bb78f5394bcf933ef46d9582e1c9",
            "value": "100%"
          }
        },
        "b471ca208d2842af953b83498545be70": {
          "model_module": "@jupyter-widgets/controls",
          "model_module_version": "1.5.0",
          "model_name": "DescriptionStyleModel",
          "state": {
            "_model_module": "@jupyter-widgets/controls",
            "_model_module_version": "1.5.0",
            "_model_name": "DescriptionStyleModel",
            "_view_count": null,
            "_view_module": "@jupyter-widgets/base",
            "_view_module_version": "1.2.0",
            "_view_name": "StyleView",
            "description_width": ""
          }
        },
        "b4c31bbad4974d8195b0a3b4f57cffe8": {
          "model_module": "@jupyter-widgets/controls",
          "model_module_version": "1.5.0",
          "model_name": "DescriptionStyleModel",
          "state": {
            "_model_module": "@jupyter-widgets/controls",
            "_model_module_version": "1.5.0",
            "_model_name": "DescriptionStyleModel",
            "_view_count": null,
            "_view_module": "@jupyter-widgets/base",
            "_view_module_version": "1.2.0",
            "_view_name": "StyleView",
            "description_width": ""
          }
        },
        "b8487f747403483e97faf5843fa8d5b3": {
          "model_module": "@jupyter-widgets/base",
          "model_module_version": "1.2.0",
          "model_name": "LayoutModel",
          "state": {
            "_model_module": "@jupyter-widgets/base",
            "_model_module_version": "1.2.0",
            "_model_name": "LayoutModel",
            "_view_count": null,
            "_view_module": "@jupyter-widgets/base",
            "_view_module_version": "1.2.0",
            "_view_name": "LayoutView",
            "align_content": null,
            "align_items": null,
            "align_self": null,
            "border": null,
            "bottom": null,
            "display": null,
            "flex": null,
            "flex_flow": null,
            "grid_area": null,
            "grid_auto_columns": null,
            "grid_auto_flow": null,
            "grid_auto_rows": null,
            "grid_column": null,
            "grid_gap": null,
            "grid_row": null,
            "grid_template_areas": null,
            "grid_template_columns": null,
            "grid_template_rows": null,
            "height": null,
            "justify_content": null,
            "justify_items": null,
            "left": null,
            "margin": null,
            "max_height": null,
            "max_width": null,
            "min_height": null,
            "min_width": null,
            "object_fit": null,
            "object_position": null,
            "order": null,
            "overflow": null,
            "overflow_x": null,
            "overflow_y": null,
            "padding": null,
            "right": null,
            "top": null,
            "visibility": null,
            "width": null
          }
        },
        "c13c1a5c7799498583ac9c1ae76a6e63": {
          "model_module": "@jupyter-widgets/controls",
          "model_module_version": "1.5.0",
          "model_name": "FloatProgressModel",
          "state": {
            "_dom_classes": [],
            "_model_module": "@jupyter-widgets/controls",
            "_model_module_version": "1.5.0",
            "_model_name": "FloatProgressModel",
            "_view_count": null,
            "_view_module": "@jupyter-widgets/controls",
            "_view_module_version": "1.5.0",
            "_view_name": "ProgressView",
            "bar_style": "success",
            "description": "",
            "description_tooltip": null,
            "layout": "IPY_MODEL_f986292915504bb7b4cfe8a416e2f3af",
            "max": 153164,
            "min": 0,
            "orientation": "horizontal",
            "style": "IPY_MODEL_c911e6fadfcd463c821cc43f0af06c6e",
            "value": 153164
          }
        },
        "c39e33704916445b9af2cf7a510c34dd": {
          "model_module": "@jupyter-widgets/base",
          "model_module_version": "1.2.0",
          "model_name": "LayoutModel",
          "state": {
            "_model_module": "@jupyter-widgets/base",
            "_model_module_version": "1.2.0",
            "_model_name": "LayoutModel",
            "_view_count": null,
            "_view_module": "@jupyter-widgets/base",
            "_view_module_version": "1.2.0",
            "_view_name": "LayoutView",
            "align_content": null,
            "align_items": null,
            "align_self": null,
            "border": null,
            "bottom": null,
            "display": null,
            "flex": null,
            "flex_flow": null,
            "grid_area": null,
            "grid_auto_columns": null,
            "grid_auto_flow": null,
            "grid_auto_rows": null,
            "grid_column": null,
            "grid_gap": null,
            "grid_row": null,
            "grid_template_areas": null,
            "grid_template_columns": null,
            "grid_template_rows": null,
            "height": null,
            "justify_content": null,
            "justify_items": null,
            "left": null,
            "margin": null,
            "max_height": null,
            "max_width": null,
            "min_height": null,
            "min_width": null,
            "object_fit": null,
            "object_position": null,
            "order": null,
            "overflow": null,
            "overflow_x": null,
            "overflow_y": null,
            "padding": null,
            "right": null,
            "top": null,
            "visibility": null,
            "width": null
          }
        },
        "c4ee8871c1354ad2a10e7ffc16830bf9": {
          "model_module": "@jupyter-widgets/controls",
          "model_module_version": "1.5.0",
          "model_name": "DescriptionStyleModel",
          "state": {
            "_model_module": "@jupyter-widgets/controls",
            "_model_module_version": "1.5.0",
            "_model_name": "DescriptionStyleModel",
            "_view_count": null,
            "_view_module": "@jupyter-widgets/base",
            "_view_module_version": "1.2.0",
            "_view_name": "StyleView",
            "description_width": ""
          }
        },
        "c57b88578de04ef4b643adef1bdb14f6": {
          "model_module": "@jupyter-widgets/base",
          "model_module_version": "1.2.0",
          "model_name": "LayoutModel",
          "state": {
            "_model_module": "@jupyter-widgets/base",
            "_model_module_version": "1.2.0",
            "_model_name": "LayoutModel",
            "_view_count": null,
            "_view_module": "@jupyter-widgets/base",
            "_view_module_version": "1.2.0",
            "_view_name": "LayoutView",
            "align_content": null,
            "align_items": null,
            "align_self": null,
            "border": null,
            "bottom": null,
            "display": null,
            "flex": null,
            "flex_flow": null,
            "grid_area": null,
            "grid_auto_columns": null,
            "grid_auto_flow": null,
            "grid_auto_rows": null,
            "grid_column": null,
            "grid_gap": null,
            "grid_row": null,
            "grid_template_areas": null,
            "grid_template_columns": null,
            "grid_template_rows": null,
            "height": null,
            "justify_content": null,
            "justify_items": null,
            "left": null,
            "margin": null,
            "max_height": null,
            "max_width": null,
            "min_height": null,
            "min_width": null,
            "object_fit": null,
            "object_position": null,
            "order": null,
            "overflow": null,
            "overflow_x": null,
            "overflow_y": null,
            "padding": null,
            "right": null,
            "top": null,
            "visibility": null,
            "width": null
          }
        },
        "c7615a14fcfb40a6a0891c8a264fabe4": {
          "model_module": "@jupyter-widgets/base",
          "model_module_version": "1.2.0",
          "model_name": "LayoutModel",
          "state": {
            "_model_module": "@jupyter-widgets/base",
            "_model_module_version": "1.2.0",
            "_model_name": "LayoutModel",
            "_view_count": null,
            "_view_module": "@jupyter-widgets/base",
            "_view_module_version": "1.2.0",
            "_view_name": "LayoutView",
            "align_content": null,
            "align_items": null,
            "align_self": null,
            "border": null,
            "bottom": null,
            "display": null,
            "flex": null,
            "flex_flow": null,
            "grid_area": null,
            "grid_auto_columns": null,
            "grid_auto_flow": null,
            "grid_auto_rows": null,
            "grid_column": null,
            "grid_gap": null,
            "grid_row": null,
            "grid_template_areas": null,
            "grid_template_columns": null,
            "grid_template_rows": null,
            "height": null,
            "justify_content": null,
            "justify_items": null,
            "left": null,
            "margin": null,
            "max_height": null,
            "max_width": null,
            "min_height": null,
            "min_width": null,
            "object_fit": null,
            "object_position": null,
            "order": null,
            "overflow": null,
            "overflow_x": null,
            "overflow_y": null,
            "padding": null,
            "right": null,
            "top": null,
            "visibility": null,
            "width": null
          }
        },
        "c911e6fadfcd463c821cc43f0af06c6e": {
          "model_module": "@jupyter-widgets/controls",
          "model_module_version": "1.5.0",
          "model_name": "ProgressStyleModel",
          "state": {
            "_model_module": "@jupyter-widgets/controls",
            "_model_module_version": "1.5.0",
            "_model_name": "ProgressStyleModel",
            "_view_count": null,
            "_view_module": "@jupyter-widgets/base",
            "_view_module_version": "1.2.0",
            "_view_name": "StyleView",
            "bar_color": null,
            "description_width": ""
          }
        },
        "d3f6ce47122848d1aa8fa7b36bbea355": {
          "model_module": "@jupyter-widgets/base",
          "model_module_version": "1.2.0",
          "model_name": "LayoutModel",
          "state": {
            "_model_module": "@jupyter-widgets/base",
            "_model_module_version": "1.2.0",
            "_model_name": "LayoutModel",
            "_view_count": null,
            "_view_module": "@jupyter-widgets/base",
            "_view_module_version": "1.2.0",
            "_view_name": "LayoutView",
            "align_content": null,
            "align_items": null,
            "align_self": null,
            "border": null,
            "bottom": null,
            "display": null,
            "flex": null,
            "flex_flow": null,
            "grid_area": null,
            "grid_auto_columns": null,
            "grid_auto_flow": null,
            "grid_auto_rows": null,
            "grid_column": null,
            "grid_gap": null,
            "grid_row": null,
            "grid_template_areas": null,
            "grid_template_columns": null,
            "grid_template_rows": null,
            "height": null,
            "justify_content": null,
            "justify_items": null,
            "left": null,
            "margin": null,
            "max_height": null,
            "max_width": null,
            "min_height": null,
            "min_width": null,
            "object_fit": null,
            "object_position": null,
            "order": null,
            "overflow": null,
            "overflow_x": null,
            "overflow_y": null,
            "padding": null,
            "right": null,
            "top": null,
            "visibility": null,
            "width": null
          }
        },
        "dcc84875a22b4d3abe93c80935500fab": {
          "model_module": "@jupyter-widgets/controls",
          "model_module_version": "1.5.0",
          "model_name": "ProgressStyleModel",
          "state": {
            "_model_module": "@jupyter-widgets/controls",
            "_model_module_version": "1.5.0",
            "_model_name": "ProgressStyleModel",
            "_view_count": null,
            "_view_module": "@jupyter-widgets/base",
            "_view_module_version": "1.2.0",
            "_view_name": "StyleView",
            "bar_color": null,
            "description_width": ""
          }
        },
        "f0ea9dca8a424783938200895b2e7363": {
          "model_module": "@jupyter-widgets/base",
          "model_module_version": "1.2.0",
          "model_name": "LayoutModel",
          "state": {
            "_model_module": "@jupyter-widgets/base",
            "_model_module_version": "1.2.0",
            "_model_name": "LayoutModel",
            "_view_count": null,
            "_view_module": "@jupyter-widgets/base",
            "_view_module_version": "1.2.0",
            "_view_name": "LayoutView",
            "align_content": null,
            "align_items": null,
            "align_self": null,
            "border": null,
            "bottom": null,
            "display": null,
            "flex": null,
            "flex_flow": null,
            "grid_area": null,
            "grid_auto_columns": null,
            "grid_auto_flow": null,
            "grid_auto_rows": null,
            "grid_column": null,
            "grid_gap": null,
            "grid_row": null,
            "grid_template_areas": null,
            "grid_template_columns": null,
            "grid_template_rows": null,
            "height": null,
            "justify_content": null,
            "justify_items": null,
            "left": null,
            "margin": null,
            "max_height": null,
            "max_width": null,
            "min_height": null,
            "min_width": null,
            "object_fit": null,
            "object_position": null,
            "order": null,
            "overflow": null,
            "overflow_x": null,
            "overflow_y": null,
            "padding": null,
            "right": null,
            "top": null,
            "visibility": null,
            "width": null
          }
        },
        "f1a85184210a4c3e9aef32c257c345d1": {
          "model_module": "@jupyter-widgets/controls",
          "model_module_version": "1.5.0",
          "model_name": "HTMLModel",
          "state": {
            "_dom_classes": [],
            "_model_module": "@jupyter-widgets/controls",
            "_model_module_version": "1.5.0",
            "_model_name": "HTMLModel",
            "_view_count": null,
            "_view_module": "@jupyter-widgets/controls",
            "_view_module_version": "1.5.0",
            "_view_name": "HTMLView",
            "description": "",
            "description_tooltip": null,
            "layout": "IPY_MODEL_0bd55804cd2a4be3a95d039475b9e634",
            "placeholder": "​",
            "style": "IPY_MODEL_b4c31bbad4974d8195b0a3b4f57cffe8",
            "value": " 159571/159571 [00:02&lt;00:00, 68518.03it/s]"
          }
        },
        "f1caad4b70ff43999a0eaee15a1c01a0": {
          "model_module": "@jupyter-widgets/controls",
          "model_module_version": "1.5.0",
          "model_name": "FloatProgressModel",
          "state": {
            "_dom_classes": [],
            "_model_module": "@jupyter-widgets/controls",
            "_model_module_version": "1.5.0",
            "_model_name": "FloatProgressModel",
            "_view_count": null,
            "_view_module": "@jupyter-widgets/controls",
            "_view_module_version": "1.5.0",
            "_view_name": "ProgressView",
            "bar_style": "success",
            "description": "",
            "description_tooltip": null,
            "layout": "IPY_MODEL_b8487f747403483e97faf5843fa8d5b3",
            "max": 159571,
            "min": 0,
            "orientation": "horizontal",
            "style": "IPY_MODEL_fa89c2bd38bc4464a337c5737f403d36",
            "value": 159571
          }
        },
        "f27570afc84e417b8f0a337ea178baee": {
          "model_module": "@jupyter-widgets/controls",
          "model_module_version": "1.5.0",
          "model_name": "ProgressStyleModel",
          "state": {
            "_model_module": "@jupyter-widgets/controls",
            "_model_module_version": "1.5.0",
            "_model_name": "ProgressStyleModel",
            "_view_count": null,
            "_view_module": "@jupyter-widgets/base",
            "_view_module_version": "1.2.0",
            "_view_name": "StyleView",
            "bar_color": null,
            "description_width": ""
          }
        },
        "f4f010e1f9d841f29ea542c9db7375dc": {
          "model_module": "@jupyter-widgets/controls",
          "model_module_version": "1.5.0",
          "model_name": "ProgressStyleModel",
          "state": {
            "_model_module": "@jupyter-widgets/controls",
            "_model_module_version": "1.5.0",
            "_model_name": "ProgressStyleModel",
            "_view_count": null,
            "_view_module": "@jupyter-widgets/base",
            "_view_module_version": "1.2.0",
            "_view_name": "StyleView",
            "bar_color": null,
            "description_width": ""
          }
        },
        "f62888927d654c5ea61760da2c165f5a": {
          "model_module": "@jupyter-widgets/controls",
          "model_module_version": "1.5.0",
          "model_name": "HBoxModel",
          "state": {
            "_dom_classes": [],
            "_model_module": "@jupyter-widgets/controls",
            "_model_module_version": "1.5.0",
            "_model_name": "HBoxModel",
            "_view_count": null,
            "_view_module": "@jupyter-widgets/controls",
            "_view_module_version": "1.5.0",
            "_view_name": "HBoxView",
            "box_style": "",
            "children": [
              "IPY_MODEL_36235162424f4f1a9c42167512ddc8e3",
              "IPY_MODEL_ff4c3270d34e4274b528de83000464e0",
              "IPY_MODEL_1066ab0864894437800b76e5c33f0d94"
            ],
            "layout": "IPY_MODEL_d3f6ce47122848d1aa8fa7b36bbea355"
          }
        },
        "f8e3fe14db50435f80bd3118553577b5": {
          "model_module": "@jupyter-widgets/base",
          "model_module_version": "1.2.0",
          "model_name": "LayoutModel",
          "state": {
            "_model_module": "@jupyter-widgets/base",
            "_model_module_version": "1.2.0",
            "_model_name": "LayoutModel",
            "_view_count": null,
            "_view_module": "@jupyter-widgets/base",
            "_view_module_version": "1.2.0",
            "_view_name": "LayoutView",
            "align_content": null,
            "align_items": null,
            "align_self": null,
            "border": null,
            "bottom": null,
            "display": null,
            "flex": null,
            "flex_flow": null,
            "grid_area": null,
            "grid_auto_columns": null,
            "grid_auto_flow": null,
            "grid_auto_rows": null,
            "grid_column": null,
            "grid_gap": null,
            "grid_row": null,
            "grid_template_areas": null,
            "grid_template_columns": null,
            "grid_template_rows": null,
            "height": null,
            "justify_content": null,
            "justify_items": null,
            "left": null,
            "margin": null,
            "max_height": null,
            "max_width": null,
            "min_height": null,
            "min_width": null,
            "object_fit": null,
            "object_position": null,
            "order": null,
            "overflow": null,
            "overflow_x": null,
            "overflow_y": null,
            "padding": null,
            "right": null,
            "top": null,
            "visibility": null,
            "width": null
          }
        },
        "f986292915504bb7b4cfe8a416e2f3af": {
          "model_module": "@jupyter-widgets/base",
          "model_module_version": "1.2.0",
          "model_name": "LayoutModel",
          "state": {
            "_model_module": "@jupyter-widgets/base",
            "_model_module_version": "1.2.0",
            "_model_name": "LayoutModel",
            "_view_count": null,
            "_view_module": "@jupyter-widgets/base",
            "_view_module_version": "1.2.0",
            "_view_name": "LayoutView",
            "align_content": null,
            "align_items": null,
            "align_self": null,
            "border": null,
            "bottom": null,
            "display": null,
            "flex": null,
            "flex_flow": null,
            "grid_area": null,
            "grid_auto_columns": null,
            "grid_auto_flow": null,
            "grid_auto_rows": null,
            "grid_column": null,
            "grid_gap": null,
            "grid_row": null,
            "grid_template_areas": null,
            "grid_template_columns": null,
            "grid_template_rows": null,
            "height": null,
            "justify_content": null,
            "justify_items": null,
            "left": null,
            "margin": null,
            "max_height": null,
            "max_width": null,
            "min_height": null,
            "min_width": null,
            "object_fit": null,
            "object_position": null,
            "order": null,
            "overflow": null,
            "overflow_x": null,
            "overflow_y": null,
            "padding": null,
            "right": null,
            "top": null,
            "visibility": null,
            "width": null
          }
        },
        "fa89c2bd38bc4464a337c5737f403d36": {
          "model_module": "@jupyter-widgets/controls",
          "model_module_version": "1.5.0",
          "model_name": "ProgressStyleModel",
          "state": {
            "_model_module": "@jupyter-widgets/controls",
            "_model_module_version": "1.5.0",
            "_model_name": "ProgressStyleModel",
            "_view_count": null,
            "_view_module": "@jupyter-widgets/base",
            "_view_module_version": "1.2.0",
            "_view_name": "StyleView",
            "bar_color": null,
            "description_width": ""
          }
        },
        "ff4c3270d34e4274b528de83000464e0": {
          "model_module": "@jupyter-widgets/controls",
          "model_module_version": "1.5.0",
          "model_name": "FloatProgressModel",
          "state": {
            "_dom_classes": [],
            "_model_module": "@jupyter-widgets/controls",
            "_model_module_version": "1.5.0",
            "_model_name": "FloatProgressModel",
            "_view_count": null,
            "_view_module": "@jupyter-widgets/controls",
            "_view_module_version": "1.5.0",
            "_view_name": "ProgressView",
            "bar_style": "success",
            "description": "",
            "description_tooltip": null,
            "layout": "IPY_MODEL_388492fe9fd0433da665a6b3881beb8b",
            "max": 159571,
            "min": 0,
            "orientation": "horizontal",
            "style": "IPY_MODEL_f27570afc84e417b8f0a337ea178baee",
            "value": 159571
          }
        }
      }
    }
  },
  "nbformat": 4,
  "nbformat_minor": 0
}